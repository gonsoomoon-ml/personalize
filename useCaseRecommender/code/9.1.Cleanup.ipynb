{
 "cells": [
  {
   "cell_type": "markdown",
   "metadata": {},
   "source": [
    "# Module 6. 리소스 삭제\n",
    "\n",
    "모델을 구축한 후 캠페인(campaign), 솔루션(solution) 및 데이터셋(dataset)을 삭제할 수 있습니다. 다음 셀은 이 핸즈온에서 생성한 모든 리소스를 삭제합니다.\n",
    "\n",
    "## 라이브러리 임포트 및 AWS 연결 \n",
    "\n",
    "아래 코드 셀은 필요한 모든 라이브러리를 가져온 다음 Amazon Personalize에 연결합니다."
   ]
  },
  {
   "cell_type": "code",
   "execution_count": 1,
   "metadata": {},
   "outputs": [],
   "source": [
    "# Imports\n",
    "import boto3\n",
    "import json\n",
    "import numpy as np\n",
    "import pandas as pd\n",
    "import time"
   ]
  },
  {
   "cell_type": "code",
   "execution_count": 2,
   "metadata": {},
   "outputs": [],
   "source": [
    "# Configure the SDK to Personalize:\n",
    "personalize = boto3.client('personalize')\n",
    "personalize_runtime = boto3.client('personalize-runtime')"
   ]
  },
  {
   "cell_type": "code",
   "execution_count": 11,
   "metadata": {},
   "outputs": [],
   "source": [
    "%store -r"
   ]
  },
  {
   "cell_type": "markdown",
   "metadata": {},
   "source": [
    "# 1. Recommender 삭제\n"
   ]
  },
  {
   "cell_type": "code",
   "execution_count": 4,
   "metadata": {},
   "outputs": [],
   "source": [
    "# Delete the campaign:\n",
    "personalize.delete_recommender(recommenderArn=MostViewed_RecommenderARN)\n",
    "personalize.delete_recommender(recommenderArn=BestSeller_RecommenderARN)\n",
    "personalize.delete_recommender(recommenderArn=FrequentlyBoughtTogether_RecommenderARN)\n",
    "personalize.delete_recommender(recommenderArn=CustomersWhoViewedX_RecommenderARN)\n",
    "time.sleep(300)"
   ]
  },
  {
   "cell_type": "markdown",
   "metadata": {},
   "source": [
    "# 2. Interactions, Users, Items 데이터 셋 삭제"
   ]
  },
  {
   "cell_type": "code",
   "execution_count": 7,
   "metadata": {},
   "outputs": [
    {
     "data": {
      "text/plain": [
       "{'ResponseMetadata': {'RequestId': '26f5a6a5-e8e7-4e02-9a0a-e2761d96f99b',\n",
       "  'HTTPStatusCode': 200,\n",
       "  'HTTPHeaders': {'content-type': 'application/x-amz-json-1.1',\n",
       "   'date': 'Sun, 02 Jan 2022 13:23:21 GMT',\n",
       "   'x-amzn-requestid': '26f5a6a5-e8e7-4e02-9a0a-e2761d96f99b',\n",
       "   'content-length': '0',\n",
       "   'connection': 'keep-alive'},\n",
       "  'RetryAttempts': 0}}"
      ]
     },
     "execution_count": 7,
     "metadata": {},
     "output_type": "execute_result"
    }
   ],
   "source": [
    "# Delete the interaction dataset\n",
    "personalize.delete_dataset(datasetArn=interaction_dataset_arn)"
   ]
  },
  {
   "cell_type": "code",
   "execution_count": 8,
   "metadata": {},
   "outputs": [
    {
     "data": {
      "text/plain": [
       "{'ResponseMetadata': {'RequestId': '77684cd7-b0d1-4294-b7ac-8ff8067f2e3f',\n",
       "  'HTTPStatusCode': 200,\n",
       "  'HTTPHeaders': {'content-type': 'application/x-amz-json-1.1',\n",
       "   'date': 'Sun, 02 Jan 2022 13:23:23 GMT',\n",
       "   'x-amzn-requestid': '77684cd7-b0d1-4294-b7ac-8ff8067f2e3f',\n",
       "   'content-length': '0',\n",
       "   'connection': 'keep-alive'},\n",
       "  'RetryAttempts': 0}}"
      ]
     },
     "execution_count": 8,
     "metadata": {},
     "output_type": "execute_result"
    }
   ],
   "source": [
    "# Delete the item dataset\n",
    "personalize.delete_dataset(datasetArn=item_dataset_arn)"
   ]
  },
  {
   "cell_type": "code",
   "execution_count": 12,
   "metadata": {},
   "outputs": [],
   "source": [
    "# Delete the item dataset\n",
    "personalize.delete_dataset(datasetArn=user_dataset_arn)\n",
    "time.sleep(60)"
   ]
  },
  {
   "cell_type": "markdown",
   "metadata": {},
   "source": [
    "# 3. Schem 삭제"
   ]
  },
  {
   "cell_type": "code",
   "execution_count": 13,
   "metadata": {},
   "outputs": [
    {
     "data": {
      "text/plain": [
       "{'ResponseMetadata': {'RequestId': '135e988d-058d-4abd-b8e2-5b9c6e9d759b',\n",
       "  'HTTPStatusCode': 200,\n",
       "  'HTTPHeaders': {'content-type': 'application/x-amz-json-1.1',\n",
       "   'date': 'Sun, 02 Jan 2022 13:24:59 GMT',\n",
       "   'x-amzn-requestid': '135e988d-058d-4abd-b8e2-5b9c6e9d759b',\n",
       "   'content-length': '0',\n",
       "   'connection': 'keep-alive'},\n",
       "  'RetryAttempts': 0}}"
      ]
     },
     "execution_count": 13,
     "metadata": {},
     "output_type": "execute_result"
    }
   ],
   "source": [
    "# Delete the schema\n",
    "personalize.delete_schema(schemaArn=interaction_schema_arn)"
   ]
  },
  {
   "cell_type": "code",
   "execution_count": 14,
   "metadata": {},
   "outputs": [
    {
     "data": {
      "text/plain": [
       "{'ResponseMetadata': {'RequestId': '30c78f20-5f26-49e7-b95f-a3d066a80f63',\n",
       "  'HTTPStatusCode': 200,\n",
       "  'HTTPHeaders': {'content-type': 'application/x-amz-json-1.1',\n",
       "   'date': 'Sun, 02 Jan 2022 13:24:59 GMT',\n",
       "   'x-amzn-requestid': '30c78f20-5f26-49e7-b95f-a3d066a80f63',\n",
       "   'content-length': '0',\n",
       "   'connection': 'keep-alive'},\n",
       "  'RetryAttempts': 0}}"
      ]
     },
     "execution_count": 14,
     "metadata": {},
     "output_type": "execute_result"
    }
   ],
   "source": [
    "personalize.delete_schema(schemaArn=item_schema_arn)"
   ]
  },
  {
   "cell_type": "code",
   "execution_count": 15,
   "metadata": {},
   "outputs": [
    {
     "data": {
      "text/plain": [
       "{'ResponseMetadata': {'RequestId': 'b9af271c-77b9-46b4-949f-7ecb6e2c6a91',\n",
       "  'HTTPStatusCode': 200,\n",
       "  'HTTPHeaders': {'content-type': 'application/x-amz-json-1.1',\n",
       "   'date': 'Sun, 02 Jan 2022 13:24:59 GMT',\n",
       "   'x-amzn-requestid': 'b9af271c-77b9-46b4-949f-7ecb6e2c6a91',\n",
       "   'content-length': '0',\n",
       "   'connection': 'keep-alive'},\n",
       "  'RetryAttempts': 0}}"
      ]
     },
     "execution_count": 15,
     "metadata": {},
     "output_type": "execute_result"
    }
   ],
   "source": [
    "personalize.delete_schema(schemaArn=user_schema_arn)"
   ]
  },
  {
   "cell_type": "code",
   "execution_count": 16,
   "metadata": {},
   "outputs": [],
   "source": [
    "# Delete the DatasetGroup\n",
    "personalize.delete_dataset_group(\n",
    "    datasetGroupArn=dataset_group_arn\n",
    ")\n",
    "time.sleep(20)"
   ]
  },
  {
   "cell_type": "markdown",
   "metadata": {},
   "source": [
    "## S3 버킷 삭제\n",
    "\n",
    "첫 번째 노트북에서 업로드한 S3 버킷을 삭제합니다."
   ]
  },
  {
   "cell_type": "code",
   "execution_count": 17,
   "metadata": {},
   "outputs": [],
   "source": [
    "#!aws s3 rm s3://bucket/ --recursive \n",
    "#!aws s3 rb s3://bucket --force  \n",
    "#boto3.Session().resource('s3').Bucket(bucket).Object(filename).delete()"
   ]
  },
  {
   "cell_type": "markdown",
   "metadata": {},
   "source": [
    "## IAM 정책 삭제\n",
    "\n",
    "본 notebook의 마지막 단계는 역할에 연결된 정책들을 제거한 다음 역할을 삭제하는 것입니다. 아래 셀을 그대로 실행하시면 됩니다."
   ]
  },
  {
   "cell_type": "code",
   "execution_count": 18,
   "metadata": {},
   "outputs": [
    {
     "data": {
      "text/plain": [
       "{'ResponseMetadata': {'RequestId': '8dbd7c37-8973-4f21-a51b-d4701096c0e6',\n",
       "  'HTTPStatusCode': 200,\n",
       "  'HTTPHeaders': {'x-amzn-requestid': '8dbd7c37-8973-4f21-a51b-d4701096c0e6',\n",
       "   'content-type': 'text/xml',\n",
       "   'content-length': '200',\n",
       "   'date': 'Sun, 02 Jan 2022 13:25:20 GMT'},\n",
       "  'RetryAttempts': 0}}"
      ]
     },
     "execution_count": 18,
     "metadata": {},
     "output_type": "execute_result"
    }
   ],
   "source": [
    "# IAM policies should also be removed\n",
    "iam = boto3.client(\"iam\")\n",
    "iam.detach_role_policy(PolicyArn=\"arn:aws:iam::aws:policy/AmazonS3FullAccess\", RoleName=role_name)\n",
    "iam.detach_role_policy(PolicyArn=\"arn:aws:iam::aws:policy/service-role/AmazonPersonalizeFullAccess\",RoleName=role_name)\n",
    "\n",
    "iam.delete_role(RoleName=role_name)"
   ]
  },
  {
   "cell_type": "markdown",
   "metadata": {},
   "source": [
    "### 디스크 저장 변수 삭제\n",
    "\n",
    "디스크에 저장된 변수들을 모두 지웁니다."
   ]
  },
  {
   "cell_type": "code",
   "execution_count": 19,
   "metadata": {},
   "outputs": [],
   "source": [
    "%store -z"
   ]
  },
  {
   "cell_type": "markdown",
   "metadata": {},
   "source": [
    "## 마지막 단계\n",
    "\n",
    "모든 리소스를 정리한 후, 이제 이 창을 닫고 시작한 github 페이지로 돌아갈 수 있습니다. \n",
    "처음에 생성했던 CloudFormation까지 삭제하면 본 핸즈온랩에서 생성했던 리소스를 모두 삭제할 수 있습니다. (CloudFormation 사용시)\n",
    "\n",
    "수고하셨습니다."
   ]
  },
  {
   "cell_type": "code",
   "execution_count": null,
   "metadata": {},
   "outputs": [],
   "source": []
  }
 ],
 "metadata": {
  "kernelspec": {
   "display_name": "conda_python3",
   "language": "python",
   "name": "conda_python3"
  },
  "language_info": {
   "codemirror_mode": {
    "name": "ipython",
    "version": 3
   },
   "file_extension": ".py",
   "mimetype": "text/x-python",
   "name": "python",
   "nbconvert_exporter": "python",
   "pygments_lexer": "ipython3",
   "version": "3.6.10"
  }
 },
 "nbformat": 4,
 "nbformat_minor": 4
}
