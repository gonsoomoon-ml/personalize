{
 "cells": [
  {
   "cell_type": "markdown",
   "metadata": {},
   "source": [
    "# [Module 3.1] Use Case Recommender 생성\n",
    "\n",
    "이 노트북은 Module1에서 생성한 데이타셋 그룹, 데이타셋을 바탕으로 아래와 같은 작업을 합니다.\n",
    "\n",
    "* 4가지의 Use Case 를 생성\n",
    "\n",
    "--- \n",
    "이 노트북은 약 50분 소요 됩니다.\n",
    "\n"
   ]
  },
  {
   "cell_type": "markdown",
   "metadata": {},
   "source": [
    "# 0. 환경 설정"
   ]
  },
  {
   "cell_type": "code",
   "execution_count": 1,
   "metadata": {},
   "outputs": [],
   "source": [
    "# Imports\n",
    "import boto3\n",
    "import json\n",
    "import numpy as np\n",
    "import pandas as pd\n",
    "import time\n"
   ]
  },
  {
   "cell_type": "markdown",
   "metadata": {},
   "source": [
    "다음으로 여러분의 환경이 Amazon Personalize와 성공적으로 통신할 수 있는지 확인해야 합니다."
   ]
  },
  {
   "cell_type": "code",
   "execution_count": 2,
   "metadata": {},
   "outputs": [],
   "source": [
    "# Configure the SDK to Personalize:\n",
    "personalize = boto3.client('personalize')"
   ]
  },
  {
   "cell_type": "markdown",
   "metadata": {},
   "source": [
    "아래 코드 셀은 이전 notebook에서 저장했던 공유 변수들을 불러옵니다."
   ]
  },
  {
   "cell_type": "code",
   "execution_count": 3,
   "metadata": {},
   "outputs": [],
   "source": [
    "%store -r"
   ]
  },
  {
   "cell_type": "markdown",
   "metadata": {},
   "source": [
    "생성할 오브젝트의 끝에 임의의 숫자를 부여하기 위해 suffix 정의"
   ]
  },
  {
   "cell_type": "code",
   "execution_count": 4,
   "metadata": {},
   "outputs": [],
   "source": [
    "# suffix = str(np.random.uniform())[4:9]"
   ]
  },
  {
   "cell_type": "markdown",
   "metadata": {},
   "source": [
    "# 1. 미리 정의된 Use Case 확인"
   ]
  },
  {
   "cell_type": "code",
   "execution_count": 5,
   "metadata": {},
   "outputs": [],
   "source": [
    "MostViewedRecipeARN = 'arn:aws:personalize:::recipe/aws-ecomm-popular-items-by-views'\n",
    "BestSellersRecipeARN = 'arn:aws:personalize:::recipe/aws-ecomm-popular-items-by-purchases'\n",
    "FrequentlyBoughtTogetherRecipeARN = 'arn:aws:personalize:::recipe/aws-ecomm-frequently-bought-together'\n",
    "CustomersWhoViewedXRecipeARN = 'arn:aws:personalize:::recipe/aws-ecomm-customers-who-viewed-x-also-viewed'\n"
   ]
  },
  {
   "cell_type": "markdown",
   "metadata": {},
   "source": [
    "# 2.  Most Viewd Recommender  생성 "
   ]
  },
  {
   "cell_type": "code",
   "execution_count": 6,
   "metadata": {},
   "outputs": [],
   "source": [
    "import boto3\n",
    "\n",
    "personalize = boto3.client('personalize')\n",
    "\n",
    "create_recommender_response = personalize.create_recommender(\n",
    "  name = 'Recommender-MostViewed-' + suffix,\n",
    "  recipeArn = MostViewedRecipeARN,\n",
    "  datasetGroupArn = dataset_group_arn,\n",
    ")\n",
    "\n"
   ]
  },
  {
   "cell_type": "code",
   "execution_count": 7,
   "metadata": {},
   "outputs": [
    {
     "name": "stdout",
     "output_type": "stream",
     "text": [
      "MostViewed_RecommenderARN :arn:aws:personalize:ap-northeast-2:057716757052:recommender/Recommender-MostViewed-96279\n"
     ]
    }
   ],
   "source": [
    "MostViewed_RecommenderARN = create_recommender_response['recommenderArn']\n",
    "print('MostViewed_RecommenderARN :' + MostViewed_RecommenderARN )"
   ]
  },
  {
   "cell_type": "markdown",
   "metadata": {},
   "source": [
    "# 3.  BestSellers Recommender 생성 "
   ]
  },
  {
   "cell_type": "code",
   "execution_count": 8,
   "metadata": {},
   "outputs": [],
   "source": [
    "import boto3\n",
    "\n",
    "personalize = boto3.client('personalize')\n",
    "\n",
    "create_recommender_response = personalize.create_recommender(\n",
    "  name = 'Recommender-BestSeller-' + suffix,\n",
    "  recipeArn = BestSellersRecipeARN,\n",
    "  datasetGroupArn = dataset_group_arn,\n",
    ")\n",
    "\n",
    "\n"
   ]
  },
  {
   "cell_type": "code",
   "execution_count": 9,
   "metadata": {},
   "outputs": [
    {
     "name": "stdout",
     "output_type": "stream",
     "text": [
      "BestSeller_RecommenderARN :arn:aws:personalize:ap-northeast-2:057716757052:recommender/Recommender-BestSeller-96279\n"
     ]
    }
   ],
   "source": [
    "BestSeller_RecommenderARN = create_recommender_response['recommenderArn']\n",
    "print('BestSeller_RecommenderARN :' + BestSeller_RecommenderARN )"
   ]
  },
  {
   "cell_type": "markdown",
   "metadata": {},
   "source": [
    "# 4.  FrequentlyBoughtTogether Recommender 생성 "
   ]
  },
  {
   "cell_type": "code",
   "execution_count": 10,
   "metadata": {},
   "outputs": [],
   "source": [
    "import boto3\n",
    "\n",
    "personalize = boto3.client('personalize')\n",
    "\n",
    "create_recommender_response = personalize.create_recommender(\n",
    "  name = 'Recommender-FrequentlyBoughtTogether-' + suffix,\n",
    "  recipeArn = FrequentlyBoughtTogetherRecipeARN,\n",
    "  datasetGroupArn = dataset_group_arn,\n",
    ")\n",
    "\n",
    "\n",
    "\n"
   ]
  },
  {
   "cell_type": "code",
   "execution_count": 11,
   "metadata": {},
   "outputs": [
    {
     "name": "stdout",
     "output_type": "stream",
     "text": [
      "FrequentlyBoughtTogether_RecommenderARN :arn:aws:personalize:ap-northeast-2:057716757052:recommender/Recommender-FrequentlyBoughtTogether-96279\n"
     ]
    }
   ],
   "source": [
    "FrequentlyBoughtTogether_RecommenderARN = create_recommender_response['recommenderArn']\n",
    "print('FrequentlyBoughtTogether_RecommenderARN :' + FrequentlyBoughtTogether_RecommenderARN )"
   ]
  },
  {
   "cell_type": "markdown",
   "metadata": {},
   "source": [
    "# 5. CustomersWhoViewedX Recommender 생성 "
   ]
  },
  {
   "cell_type": "code",
   "execution_count": 12,
   "metadata": {},
   "outputs": [],
   "source": [
    "import boto3\n",
    "\n",
    "personalize = boto3.client('personalize')\n",
    "\n",
    "create_recommender_response = personalize.create_recommender(\n",
    "  name = 'Recommender-CustomersWhoViewedX-' + suffix,\n",
    "  recipeArn = CustomersWhoViewedXRecipeARN,\n",
    "  datasetGroupArn = dataset_group_arn,\n",
    ")"
   ]
  },
  {
   "cell_type": "code",
   "execution_count": 13,
   "metadata": {},
   "outputs": [
    {
     "name": "stdout",
     "output_type": "stream",
     "text": [
      "CustomersWhoViewedX_RecommenderARN :arn:aws:personalize:ap-northeast-2:057716757052:recommender/Recommender-CustomersWhoViewedX-96279\n"
     ]
    }
   ],
   "source": [
    "CustomersWhoViewedX_RecommenderARN = create_recommender_response['recommenderArn']\n",
    "print('CustomersWhoViewedX_RecommenderARN :' + CustomersWhoViewedX_RecommenderARN )"
   ]
  },
  {
   "cell_type": "markdown",
   "metadata": {},
   "source": [
    "# 6. 모델 생성 확인 하기 \n",
    "아래 코드 실행하여 모델 생성 여부를 확인합니다. "
   ]
  },
  {
   "cell_type": "code",
   "execution_count": 15,
   "metadata": {},
   "outputs": [
    {
     "name": "stdout",
     "output_type": "stream",
     "text": [
      "status_most_viewed : CREATE IN_PROGRESS\n",
      "status_best_seller : CREATE IN_PROGRESS\n",
      "status_frequently_bought_t : CREATE IN_PROGRESS\n",
      "status_customer_who_view : CREATE IN_PROGRESS\n",
      "-------------------------------------->\n",
      "status_most_viewed : CREATE IN_PROGRESS\n",
      "status_best_seller : CREATE IN_PROGRESS\n",
      "status_frequently_bought_t : CREATE IN_PROGRESS\n",
      "status_customer_who_view : CREATE IN_PROGRESS\n",
      "-------------------------------------->\n",
      "status_most_viewed : CREATE IN_PROGRESS\n",
      "status_best_seller : CREATE IN_PROGRESS\n",
      "status_frequently_bought_t : CREATE IN_PROGRESS\n",
      "status_customer_who_view : CREATE IN_PROGRESS\n",
      "-------------------------------------->\n",
      "status_most_viewed : CREATE IN_PROGRESS\n",
      "status_best_seller : CREATE IN_PROGRESS\n",
      "status_frequently_bought_t : CREATE IN_PROGRESS\n",
      "status_customer_who_view : CREATE IN_PROGRESS\n",
      "-------------------------------------->\n",
      "status_most_viewed : CREATE IN_PROGRESS\n",
      "status_best_seller : CREATE IN_PROGRESS\n",
      "status_frequently_bought_t : CREATE IN_PROGRESS\n",
      "status_customer_who_view : CREATE IN_PROGRESS\n",
      "-------------------------------------->\n",
      "status_most_viewed : CREATE IN_PROGRESS\n",
      "status_best_seller : CREATE IN_PROGRESS\n",
      "status_frequently_bought_t : CREATE IN_PROGRESS\n",
      "status_customer_who_view : CREATE IN_PROGRESS\n",
      "-------------------------------------->\n",
      "status_most_viewed : CREATE IN_PROGRESS\n",
      "status_best_seller : CREATE IN_PROGRESS\n",
      "status_frequently_bought_t : CREATE IN_PROGRESS\n",
      "status_customer_who_view : CREATE IN_PROGRESS\n",
      "-------------------------------------->\n",
      "status_most_viewed : CREATE IN_PROGRESS\n",
      "status_best_seller : CREATE IN_PROGRESS\n",
      "status_frequently_bought_t : CREATE IN_PROGRESS\n",
      "status_customer_who_view : CREATE IN_PROGRESS\n",
      "-------------------------------------->\n",
      "status_most_viewed : CREATE IN_PROGRESS\n",
      "status_best_seller : CREATE IN_PROGRESS\n",
      "status_frequently_bought_t : CREATE IN_PROGRESS\n",
      "status_customer_who_view : CREATE IN_PROGRESS\n",
      "-------------------------------------->\n",
      "status_most_viewed : CREATE IN_PROGRESS\n",
      "status_best_seller : CREATE IN_PROGRESS\n",
      "status_frequently_bought_t : CREATE IN_PROGRESS\n",
      "status_customer_who_view : CREATE IN_PROGRESS\n",
      "-------------------------------------->\n",
      "status_most_viewed : CREATE IN_PROGRESS\n",
      "status_best_seller : CREATE IN_PROGRESS\n",
      "status_frequently_bought_t : CREATE IN_PROGRESS\n",
      "status_customer_who_view : CREATE IN_PROGRESS\n",
      "-------------------------------------->\n",
      "status_most_viewed : CREATE IN_PROGRESS\n",
      "status_best_seller : CREATE IN_PROGRESS\n",
      "status_frequently_bought_t : CREATE IN_PROGRESS\n",
      "status_customer_who_view : CREATE IN_PROGRESS\n",
      "-------------------------------------->\n",
      "status_most_viewed : CREATE IN_PROGRESS\n",
      "status_best_seller : CREATE IN_PROGRESS\n",
      "status_frequently_bought_t : CREATE IN_PROGRESS\n",
      "status_customer_who_view : CREATE IN_PROGRESS\n",
      "-------------------------------------->\n",
      "status_most_viewed : CREATE IN_PROGRESS\n",
      "status_best_seller : CREATE IN_PROGRESS\n",
      "status_frequently_bought_t : CREATE IN_PROGRESS\n",
      "status_customer_who_view : CREATE IN_PROGRESS\n",
      "-------------------------------------->\n",
      "status_most_viewed : CREATE IN_PROGRESS\n",
      "status_best_seller : CREATE IN_PROGRESS\n",
      "status_frequently_bought_t : CREATE IN_PROGRESS\n",
      "status_customer_who_view : CREATE IN_PROGRESS\n",
      "-------------------------------------->\n",
      "status_most_viewed : CREATE IN_PROGRESS\n",
      "status_best_seller : CREATE IN_PROGRESS\n",
      "status_frequently_bought_t : CREATE IN_PROGRESS\n",
      "status_customer_who_view : CREATE IN_PROGRESS\n",
      "-------------------------------------->\n",
      "status_most_viewed : CREATE IN_PROGRESS\n",
      "status_best_seller : CREATE IN_PROGRESS\n",
      "status_frequently_bought_t : CREATE IN_PROGRESS\n",
      "status_customer_who_view : CREATE IN_PROGRESS\n",
      "-------------------------------------->\n",
      "status_most_viewed : CREATE IN_PROGRESS\n",
      "status_best_seller : CREATE IN_PROGRESS\n",
      "status_frequently_bought_t : CREATE IN_PROGRESS\n",
      "status_customer_who_view : CREATE IN_PROGRESS\n",
      "-------------------------------------->\n",
      "status_most_viewed : CREATE IN_PROGRESS\n",
      "status_best_seller : CREATE IN_PROGRESS\n",
      "status_frequently_bought_t : CREATE IN_PROGRESS\n",
      "status_customer_who_view : CREATE IN_PROGRESS\n",
      "-------------------------------------->\n",
      "status_most_viewed : CREATE IN_PROGRESS\n",
      "status_best_seller : CREATE IN_PROGRESS\n",
      "status_frequently_bought_t : CREATE IN_PROGRESS\n",
      "status_customer_who_view : CREATE IN_PROGRESS\n",
      "-------------------------------------->\n",
      "status_most_viewed : CREATE IN_PROGRESS\n",
      "status_best_seller : CREATE IN_PROGRESS\n",
      "status_frequently_bought_t : CREATE IN_PROGRESS\n",
      "status_customer_who_view : CREATE IN_PROGRESS\n",
      "-------------------------------------->\n",
      "status_most_viewed : CREATE IN_PROGRESS\n",
      "status_best_seller : CREATE IN_PROGRESS\n",
      "status_frequently_bought_t : CREATE IN_PROGRESS\n",
      "status_customer_who_view : CREATE IN_PROGRESS\n",
      "-------------------------------------->\n",
      "status_most_viewed : CREATE IN_PROGRESS\n",
      "status_best_seller : CREATE IN_PROGRESS\n",
      "status_frequently_bought_t : CREATE IN_PROGRESS\n",
      "status_customer_who_view : CREATE IN_PROGRESS\n",
      "-------------------------------------->\n",
      "status_most_viewed : CREATE IN_PROGRESS\n",
      "status_best_seller : CREATE IN_PROGRESS\n",
      "status_frequently_bought_t : CREATE IN_PROGRESS\n",
      "status_customer_who_view : CREATE IN_PROGRESS\n",
      "-------------------------------------->\n",
      "status_most_viewed : CREATE IN_PROGRESS\n",
      "status_best_seller : CREATE IN_PROGRESS\n",
      "status_frequently_bought_t : CREATE IN_PROGRESS\n",
      "status_customer_who_view : CREATE IN_PROGRESS\n",
      "-------------------------------------->\n",
      "status_most_viewed : CREATE IN_PROGRESS\n",
      "status_best_seller : ACTIVE\n",
      "status_frequently_bought_t : ACTIVE\n",
      "status_customer_who_view : CREATE IN_PROGRESS\n",
      "-------------------------------------->\n",
      "status_most_viewed : CREATE IN_PROGRESS\n",
      "status_best_seller : ACTIVE\n",
      "status_frequently_bought_t : ACTIVE\n",
      "status_customer_who_view : ACTIVE\n",
      "-------------------------------------->\n",
      "status_most_viewed : ACTIVE\n",
      "status_best_seller : ACTIVE\n",
      "status_frequently_bought_t : ACTIVE\n",
      "status_customer_who_view : ACTIVE\n",
      "All recommenders completed\n",
      "CPU times: user 227 ms, sys: 13.4 ms, total: 241 ms\n",
      "Wall time: 27min 4s\n"
     ]
    }
   ],
   "source": [
    "%%time\n",
    "\n",
    "\n",
    "max_time = time.time() + 3*60*60 # 3 hours\n",
    "while time.time() < max_time:\n",
    "\n",
    "    # status_most_viewed\n",
    "    describe_recommender_response = personalize.describe_recommender(\n",
    "        recommenderArn = MostViewed_RecommenderARN\n",
    "    )  \n",
    "    status_most_viewed = describe_recommender_response[\"recommender\"][\"status\"]\n",
    "    print(\"status_most_viewed : {}\".format(status_most_viewed))\n",
    "    \n",
    "    # status_best_seller\n",
    "    describe_recommender_response = personalize.describe_recommender(\n",
    "        recommenderArn = BestSeller_RecommenderARN\n",
    "    )  \n",
    "    status_best_seller = describe_recommender_response[\"recommender\"][\"status\"]\n",
    "    print(\"status_best_seller : {}\".format(status_best_seller))\n",
    "    \n",
    "    # status_frequently_bought_t\n",
    "    describe_recommender_response = personalize.describe_recommender(\n",
    "        recommenderArn = FrequentlyBoughtTogether_RecommenderARN\n",
    "    )  \n",
    "    status_frequently_bought_t = describe_recommender_response[\"recommender\"][\"status\"]\n",
    "    print(\"status_frequently_bought_t : {}\".format(status_frequently_bought_t))\n",
    "\n",
    "    # status_customer_who_view\n",
    "    describe_recommender_response = personalize.describe_recommender(\n",
    "        recommenderArn = CustomersWhoViewedX_RecommenderARN\n",
    "    )  \n",
    "    status_customer_who_view = describe_recommender_response[\"recommender\"][\"status\"]\n",
    "    print(\"status_customer_who_view : {}\".format(status_customer_who_view))\n",
    "        \n",
    "    if (status_most_viewed == \"ACTIVE\" or status_most_viewed == \"CREATE FAILED\") &\\\n",
    "       (status_best_seller == \"ACTIVE\" or status_best_seller == \"CREATE FAILED\") &\\\n",
    "       (status_frequently_bought_t == \"ACTIVE\" or status_frequently_bought_t == \"CREATE FAILED\") &\\\n",
    "       (status_customer_who_view == \"ACTIVE\" or status_customer_who_view == \"CREATE FAILED\") :\n",
    "        break\n",
    "    print(\"-------------------------------------->\")\n",
    "    time.sleep(60)\n",
    "\n",
    "print(\"All recommenders completed\")"
   ]
  },
  {
   "cell_type": "markdown",
   "metadata": {},
   "source": [
    "# 7. Recommender 변수 저장"
   ]
  },
  {
   "cell_type": "code",
   "execution_count": 16,
   "metadata": {},
   "outputs": [
    {
     "name": "stdout",
     "output_type": "stream",
     "text": [
      "Stored 'MostViewed_RecommenderARN' (str)\n",
      "Stored 'BestSeller_RecommenderARN' (str)\n",
      "Stored 'FrequentlyBoughtTogether_RecommenderARN' (str)\n",
      "Stored 'CustomersWhoViewedX_RecommenderARN' (str)\n"
     ]
    }
   ],
   "source": [
    "\n",
    "%store MostViewed_RecommenderARN\n",
    "%store BestSeller_RecommenderARN\n",
    "\n",
    "%store FrequentlyBoughtTogether_RecommenderARN\n",
    "%store CustomersWhoViewedX_RecommenderARN\n",
    "\n"
   ]
  },
  {
   "cell_type": "code",
   "execution_count": null,
   "metadata": {},
   "outputs": [],
   "source": []
  }
 ],
 "metadata": {
  "kernelspec": {
   "display_name": "conda_python3",
   "language": "python",
   "name": "conda_python3"
  },
  "language_info": {
   "codemirror_mode": {
    "name": "ipython",
    "version": 3
   },
   "file_extension": ".py",
   "mimetype": "text/x-python",
   "name": "python",
   "nbconvert_exporter": "python",
   "pygments_lexer": "ipython3",
   "version": "3.6.10"
  }
 },
 "nbformat": 4,
 "nbformat_minor": 4
}
