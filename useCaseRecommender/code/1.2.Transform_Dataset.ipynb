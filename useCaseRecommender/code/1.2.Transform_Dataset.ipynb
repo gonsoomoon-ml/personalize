{
 "cells": [
  {
   "cell_type": "markdown",
   "metadata": {},
   "source": [
    "# [Module 1.2] Personalize Data File 준비\n",
    "\n",
    "이 노트북은 아래와 같은 작업을 합니다.\n",
    "---\n",
    "이 노트북을 모두 실행하는데 걸리는 시간은 약 3분 소요 됩니다.\n",
    "\n"
   ]
  },
  {
   "cell_type": "markdown",
   "metadata": {},
   "source": [
    "# 0. 환경 설정"
   ]
  },
  {
   "cell_type": "markdown",
   "metadata": {},
   "source": [
    "#### Library Import \n",
    "\n",
    "파이썬에는 광범위한 라이브러리 모음이 포함되어 있으며, 본 LAB을 위해서 핵심 Data Scientist용 Tool 인 boto3 (AWS SDK) 및 Pandas/Numpy와 같은 라이브러리를 가져와야 합니다. "
   ]
  },
  {
   "cell_type": "code",
   "execution_count": 1,
   "metadata": {},
   "outputs": [],
   "source": [
    "import boto3\n",
    "import json\n",
    "import numpy as np\n",
    "import pandas as pd\n",
    "import time\n",
    "from datetime import datetime\n",
    "\n",
    "import matplotlib.pyplot as plt"
   ]
  },
  {
   "cell_type": "markdown",
   "metadata": {},
   "source": [
    "## Personalize에서 학습 수행을 위한 데이터 제한 오건\n",
    "\n",
    "Personalize에서 학습을 수행하기 위해서는 다음과 [official limits](https://docs.aws.amazon.com/personalize/latest/dg/limits.html)같은 데이터 요구사항을 맞추어야 합니다. \n",
    "\n",
    "* 최소 25명 고유 사용자 \n",
    "* 최소 100개 고유 아이템 \n",
    "* 사용자 당 2개 이상의 Interaction(예. 구매,평가 등) 기록\n",
    "\n",
    "\n",
    "하지만 일반적으로 다음과 같은 데이터가 준비 되어 있는것이 좋습니다. \n",
    "\n",
    "* 최소 50명 고유 사용자 \n",
    "* 최소 100개 고유 아이템 \n",
    "* 사용자 당 24 이상의 Interaction(예. 구매,평가 등) 기록\n",
    "\n",
    "#### 중요 하이퍼 파라미터\n",
    "**min_user_history_length_percentile, max_user_history_length_percentile**\n",
    "- 일반적으로 가지고 있는 interaction의 데이타 셋이 사용자당 interaction의 수가 다릅니다.\n",
    "즉 1개인 사용자도 많고, 엄청 많은 사용자도 있습니다. **이런 양 극단의 사용자를 제외하고 학습 데이타로 사용하는 것이 더욱 의미있는 추천을 받을 수 있습니다.** 아래 예 및 링크를 참고하시기 바랍니다.\n",
    "    - For example, setting min_user_history_length_percentile to 0.05 and max_user_history_length_percentile to 0.95 includes all users except those with history lengths at the bottom or top 5%.\n",
    "\n",
    "\n",
    "- User-Personalization Recipe\n",
    "    - https://docs.aws.amazon.com/personalize/latest/dg/native-recipe-new-item-USER_PERSONALIZATION.html"
   ]
  },
  {
   "cell_type": "markdown",
   "metadata": {},
   "source": [
    "# 1. 간단한 데이타 탐색"
   ]
  },
  {
   "cell_type": "code",
   "execution_count": 2,
   "metadata": {},
   "outputs": [
    {
     "data": {
      "text/html": [
       "<div>\n",
       "<style scoped>\n",
       "    .dataframe tbody tr th:only-of-type {\n",
       "        vertical-align: middle;\n",
       "    }\n",
       "\n",
       "    .dataframe tbody tr th {\n",
       "        vertical-align: top;\n",
       "    }\n",
       "\n",
       "    .dataframe thead th {\n",
       "        text-align: right;\n",
       "    }\n",
       "</style>\n",
       "<table border=\"1\" class=\"dataframe\">\n",
       "  <thead>\n",
       "    <tr style=\"text-align: right;\">\n",
       "      <th></th>\n",
       "      <th>id</th>\n",
       "      <th>url</th>\n",
       "      <th>sk</th>\n",
       "      <th>name</th>\n",
       "      <th>category</th>\n",
       "      <th>style</th>\n",
       "      <th>description</th>\n",
       "      <th>aliases</th>\n",
       "      <th>price</th>\n",
       "      <th>image</th>\n",
       "      <th>gender_affinity</th>\n",
       "      <th>current_stock</th>\n",
       "      <th>featured</th>\n",
       "    </tr>\n",
       "  </thead>\n",
       "  <tbody>\n",
       "    <tr>\n",
       "      <th>0</th>\n",
       "      <td>e1669081-8ffc-4dec-97a6-e9176d7f6651</td>\n",
       "      <td>http://d32da96qlo1y4g.cloudfront.net/#/product...</td>\n",
       "      <td>NaN</td>\n",
       "      <td>Sans Pareil Scarf</td>\n",
       "      <td>apparel</td>\n",
       "      <td>scarf</td>\n",
       "      <td>Sans pareil scarf for women</td>\n",
       "      <td>NaN</td>\n",
       "      <td>124.99</td>\n",
       "      <td>http://d32da96qlo1y4g.cloudfront.net/images/ap...</td>\n",
       "      <td>F</td>\n",
       "      <td>12</td>\n",
       "      <td>NaN</td>\n",
       "    </tr>\n",
       "    <tr>\n",
       "      <th>1</th>\n",
       "      <td>cfafd627-7d6b-43a5-be05-4c7937be417d</td>\n",
       "      <td>http://d32da96qlo1y4g.cloudfront.net/#/product...</td>\n",
       "      <td>NaN</td>\n",
       "      <td>Chef Knife</td>\n",
       "      <td>housewares</td>\n",
       "      <td>kitchen</td>\n",
       "      <td>A must-have for your kitchen</td>\n",
       "      <td>NaN</td>\n",
       "      <td>57.99</td>\n",
       "      <td>http://d32da96qlo1y4g.cloudfront.net/images/ho...</td>\n",
       "      <td>NaN</td>\n",
       "      <td>9</td>\n",
       "      <td>NaN</td>\n",
       "    </tr>\n",
       "    <tr>\n",
       "      <th>2</th>\n",
       "      <td>6e6ad102-7510-4a02-b8ce-5a0cd6f431d1</td>\n",
       "      <td>http://d32da96qlo1y4g.cloudfront.net/#/product...</td>\n",
       "      <td>NaN</td>\n",
       "      <td>Gainsboro Jacket</td>\n",
       "      <td>apparel</td>\n",
       "      <td>jacket</td>\n",
       "      <td>This gainsboro jacket for women is perfect for...</td>\n",
       "      <td>NaN</td>\n",
       "      <td>133.99</td>\n",
       "      <td>http://d32da96qlo1y4g.cloudfront.net/images/ap...</td>\n",
       "      <td>F</td>\n",
       "      <td>13</td>\n",
       "      <td>NaN</td>\n",
       "    </tr>\n",
       "  </tbody>\n",
       "</table>\n",
       "</div>"
      ],
      "text/plain": [
       "                                     id  \\\n",
       "0  e1669081-8ffc-4dec-97a6-e9176d7f6651   \n",
       "1  cfafd627-7d6b-43a5-be05-4c7937be417d   \n",
       "2  6e6ad102-7510-4a02-b8ce-5a0cd6f431d1   \n",
       "\n",
       "                                                 url  sk               name  \\\n",
       "0  http://d32da96qlo1y4g.cloudfront.net/#/product... NaN  Sans Pareil Scarf   \n",
       "1  http://d32da96qlo1y4g.cloudfront.net/#/product... NaN         Chef Knife   \n",
       "2  http://d32da96qlo1y4g.cloudfront.net/#/product... NaN   Gainsboro Jacket   \n",
       "\n",
       "     category    style                                        description  \\\n",
       "0     apparel    scarf                        Sans pareil scarf for women   \n",
       "1  housewares  kitchen                       A must-have for your kitchen   \n",
       "2     apparel   jacket  This gainsboro jacket for women is perfect for...   \n",
       "\n",
       "  aliases   price                                              image  \\\n",
       "0     NaN  124.99  http://d32da96qlo1y4g.cloudfront.net/images/ap...   \n",
       "1     NaN   57.99  http://d32da96qlo1y4g.cloudfront.net/images/ho...   \n",
       "2     NaN  133.99  http://d32da96qlo1y4g.cloudfront.net/images/ap...   \n",
       "\n",
       "  gender_affinity  current_stock featured  \n",
       "0               F             12      NaN  \n",
       "1             NaN              9      NaN  \n",
       "2               F             13      NaN  "
      ]
     },
     "execution_count": 2,
     "metadata": {},
     "output_type": "execute_result"
    }
   ],
   "source": [
    "items = pd.read_csv('../data/items.csv')\n",
    "items.head(3)"
   ]
  },
  {
   "cell_type": "code",
   "execution_count": 3,
   "metadata": {},
   "outputs": [
    {
     "data": {
      "text/html": [
       "<div>\n",
       "<style scoped>\n",
       "    .dataframe tbody tr th:only-of-type {\n",
       "        vertical-align: middle;\n",
       "    }\n",
       "\n",
       "    .dataframe tbody tr th {\n",
       "        vertical-align: top;\n",
       "    }\n",
       "\n",
       "    .dataframe thead th {\n",
       "        text-align: right;\n",
       "    }\n",
       "</style>\n",
       "<table border=\"1\" class=\"dataframe\">\n",
       "  <thead>\n",
       "    <tr style=\"text-align: right;\">\n",
       "      <th></th>\n",
       "      <th>id</th>\n",
       "      <th>username</th>\n",
       "      <th>email</th>\n",
       "      <th>first_name</th>\n",
       "      <th>last_name</th>\n",
       "      <th>addresses</th>\n",
       "      <th>age</th>\n",
       "      <th>gender</th>\n",
       "      <th>persona</th>\n",
       "      <th>discount_persona</th>\n",
       "      <th>selectable_user</th>\n",
       "    </tr>\n",
       "  </thead>\n",
       "  <tbody>\n",
       "    <tr>\n",
       "      <th>0</th>\n",
       "      <td>1</td>\n",
       "      <td>user1</td>\n",
       "      <td>mark.johnson@example.com</td>\n",
       "      <td>Mark</td>\n",
       "      <td>Johnson</td>\n",
       "      <td>[{'first_name': 'Mark', 'last_name': 'Johnson'...</td>\n",
       "      <td>31</td>\n",
       "      <td>M</td>\n",
       "      <td>furniture_homedecor_housewares</td>\n",
       "      <td>lower_priced_products</td>\n",
       "      <td>True</td>\n",
       "    </tr>\n",
       "    <tr>\n",
       "      <th>1</th>\n",
       "      <td>2</td>\n",
       "      <td>user2</td>\n",
       "      <td>kristen.calderon@example.com</td>\n",
       "      <td>Kristen</td>\n",
       "      <td>Calderon</td>\n",
       "      <td>[{'first_name': 'Kristen', 'last_name': 'Calde...</td>\n",
       "      <td>58</td>\n",
       "      <td>F</td>\n",
       "      <td>tools_housewares_apparel</td>\n",
       "      <td>discount_indifferent</td>\n",
       "      <td>True</td>\n",
       "    </tr>\n",
       "    <tr>\n",
       "      <th>2</th>\n",
       "      <td>3</td>\n",
       "      <td>user3</td>\n",
       "      <td>joseph.maddox@example.com</td>\n",
       "      <td>Joseph</td>\n",
       "      <td>Maddox</td>\n",
       "      <td>[{'first_name': 'Joseph', 'last_name': 'Maddox...</td>\n",
       "      <td>43</td>\n",
       "      <td>M</td>\n",
       "      <td>floral_beauty_jewelry</td>\n",
       "      <td>lower_priced_products</td>\n",
       "      <td>True</td>\n",
       "    </tr>\n",
       "  </tbody>\n",
       "</table>\n",
       "</div>"
      ],
      "text/plain": [
       "   id username                         email first_name last_name  \\\n",
       "0   1    user1      mark.johnson@example.com       Mark   Johnson   \n",
       "1   2    user2  kristen.calderon@example.com    Kristen  Calderon   \n",
       "2   3    user3     joseph.maddox@example.com     Joseph    Maddox   \n",
       "\n",
       "                                           addresses  age gender  \\\n",
       "0  [{'first_name': 'Mark', 'last_name': 'Johnson'...   31      M   \n",
       "1  [{'first_name': 'Kristen', 'last_name': 'Calde...   58      F   \n",
       "2  [{'first_name': 'Joseph', 'last_name': 'Maddox...   43      M   \n",
       "\n",
       "                          persona       discount_persona  selectable_user  \n",
       "0  furniture_homedecor_housewares  lower_priced_products             True  \n",
       "1        tools_housewares_apparel   discount_indifferent             True  \n",
       "2           floral_beauty_jewelry  lower_priced_products             True  "
      ]
     },
     "execution_count": 3,
     "metadata": {},
     "output_type": "execute_result"
    }
   ],
   "source": [
    "users = pd.read_csv('../data/users.csv')\n",
    "users.head(3)"
   ]
  },
  {
   "cell_type": "code",
   "execution_count": 4,
   "metadata": {},
   "outputs": [
    {
     "data": {
      "text/html": [
       "<div>\n",
       "<style scoped>\n",
       "    .dataframe tbody tr th:only-of-type {\n",
       "        vertical-align: middle;\n",
       "    }\n",
       "\n",
       "    .dataframe tbody tr th {\n",
       "        vertical-align: top;\n",
       "    }\n",
       "\n",
       "    .dataframe thead th {\n",
       "        text-align: right;\n",
       "    }\n",
       "</style>\n",
       "<table border=\"1\" class=\"dataframe\">\n",
       "  <thead>\n",
       "    <tr style=\"text-align: right;\">\n",
       "      <th></th>\n",
       "      <th>ITEM_ID</th>\n",
       "      <th>USER_ID</th>\n",
       "      <th>EVENT_TYPE</th>\n",
       "      <th>TIMESTAMP</th>\n",
       "      <th>DISCOUNT</th>\n",
       "    </tr>\n",
       "  </thead>\n",
       "  <tbody>\n",
       "    <tr>\n",
       "      <th>0</th>\n",
       "      <td>26bb732f-9159-432f-91ef-bad14fedd298</td>\n",
       "      <td>3156</td>\n",
       "      <td>ProductViewed</td>\n",
       "      <td>1591803788</td>\n",
       "      <td>No</td>\n",
       "    </tr>\n",
       "    <tr>\n",
       "      <th>1</th>\n",
       "      <td>26bb732f-9159-432f-91ef-bad14fedd298</td>\n",
       "      <td>3156</td>\n",
       "      <td>ProductViewed</td>\n",
       "      <td>1591803788</td>\n",
       "      <td>No</td>\n",
       "    </tr>\n",
       "    <tr>\n",
       "      <th>2</th>\n",
       "      <td>dc073623-4b95-47d9-93cb-0171c20baa04</td>\n",
       "      <td>332</td>\n",
       "      <td>ProductViewed</td>\n",
       "      <td>1591803812</td>\n",
       "      <td>Yes</td>\n",
       "    </tr>\n",
       "  </tbody>\n",
       "</table>\n",
       "</div>"
      ],
      "text/plain": [
       "                                ITEM_ID  USER_ID     EVENT_TYPE   TIMESTAMP  \\\n",
       "0  26bb732f-9159-432f-91ef-bad14fedd298     3156  ProductViewed  1591803788   \n",
       "1  26bb732f-9159-432f-91ef-bad14fedd298     3156  ProductViewed  1591803788   \n",
       "2  dc073623-4b95-47d9-93cb-0171c20baa04      332  ProductViewed  1591803812   \n",
       "\n",
       "  DISCOUNT  \n",
       "0       No  \n",
       "1       No  \n",
       "2      Yes  "
      ]
     },
     "execution_count": 4,
     "metadata": {},
     "output_type": "execute_result"
    }
   ],
   "source": [
    "its = pd.read_csv('../data/interactions.csv')\n",
    "its.head(3)"
   ]
  },
  {
   "cell_type": "markdown",
   "metadata": {},
   "source": [
    "데이터를 한번 확인해 봅니다."
   ]
  },
  {
   "cell_type": "markdown",
   "metadata": {},
   "source": [
    "### 전체 Interaction 분포\n",
    "\n",
    "Interaction 분포는 아래와 같습니다. <br>\n",
    "**유저에 대해서 최소는 20번이고, 중간값은 96번, 최대는 2314번을 rating을 했습니다.**"
   ]
  },
  {
   "cell_type": "code",
   "execution_count": 5,
   "metadata": {},
   "outputs": [
    {
     "data": {
      "text/html": [
       "<div>\n",
       "<style scoped>\n",
       "    .dataframe tbody tr th:only-of-type {\n",
       "        vertical-align: middle;\n",
       "    }\n",
       "\n",
       "    .dataframe tbody tr th {\n",
       "        vertical-align: top;\n",
       "    }\n",
       "\n",
       "    .dataframe thead th {\n",
       "        text-align: right;\n",
       "    }\n",
       "</style>\n",
       "<table border=\"1\" class=\"dataframe\">\n",
       "  <thead>\n",
       "    <tr style=\"text-align: right;\">\n",
       "      <th></th>\n",
       "      <th>INTERACTION_COUNTS</th>\n",
       "    </tr>\n",
       "  </thead>\n",
       "  <tbody>\n",
       "    <tr>\n",
       "      <th>count</th>\n",
       "      <td>5250.000000</td>\n",
       "    </tr>\n",
       "    <tr>\n",
       "      <th>mean</th>\n",
       "      <td>128.572190</td>\n",
       "    </tr>\n",
       "    <tr>\n",
       "      <th>std</th>\n",
       "      <td>33.408015</td>\n",
       "    </tr>\n",
       "    <tr>\n",
       "      <th>min</th>\n",
       "      <td>43.000000</td>\n",
       "    </tr>\n",
       "    <tr>\n",
       "      <th>25%</th>\n",
       "      <td>104.000000</td>\n",
       "    </tr>\n",
       "    <tr>\n",
       "      <th>50%</th>\n",
       "      <td>127.000000</td>\n",
       "    </tr>\n",
       "    <tr>\n",
       "      <th>75%</th>\n",
       "      <td>152.000000</td>\n",
       "    </tr>\n",
       "    <tr>\n",
       "      <th>max</th>\n",
       "      <td>260.000000</td>\n",
       "    </tr>\n",
       "  </tbody>\n",
       "</table>\n",
       "</div>"
      ],
      "text/plain": [
       "       INTERACTION_COUNTS\n",
       "count         5250.000000\n",
       "mean           128.572190\n",
       "std             33.408015\n",
       "min             43.000000\n",
       "25%            104.000000\n",
       "50%            127.000000\n",
       "75%            152.000000\n",
       "max            260.000000"
      ]
     },
     "execution_count": 5,
     "metadata": {},
     "output_type": "execute_result"
    }
   ],
   "source": [
    "pd.options.display.max_rows = 10\n",
    "user_activity_counts = its.groupby(\"USER_ID\").count().loc[:,[\"EVENT_TYPE\"]].rename(columns={\"EVENT_TYPE\":\"INTERACTION_COUNTS\"})\n",
    "user_activity_counts.describe()"
   ]
  },
  {
   "cell_type": "markdown",
   "metadata": {},
   "source": [
    "### 인터렉션 숫자당 유저 수\n",
    "\n"
   ]
  },
  {
   "cell_type": "code",
   "execution_count": 6,
   "metadata": {},
   "outputs": [
    {
     "data": {
      "text/html": [
       "<div>\n",
       "<style scoped>\n",
       "    .dataframe tbody tr th:only-of-type {\n",
       "        vertical-align: middle;\n",
       "    }\n",
       "\n",
       "    .dataframe tbody tr th {\n",
       "        vertical-align: top;\n",
       "    }\n",
       "\n",
       "    .dataframe thead th {\n",
       "        text-align: right;\n",
       "    }\n",
       "</style>\n",
       "<table border=\"1\" class=\"dataframe\">\n",
       "  <thead>\n",
       "    <tr style=\"text-align: right;\">\n",
       "      <th></th>\n",
       "      <th>NUM_USERS</th>\n",
       "    </tr>\n",
       "    <tr>\n",
       "      <th>INTERACTION_COUNTS</th>\n",
       "      <th></th>\n",
       "    </tr>\n",
       "  </thead>\n",
       "  <tbody>\n",
       "    <tr>\n",
       "      <th>43</th>\n",
       "      <td>1</td>\n",
       "    </tr>\n",
       "    <tr>\n",
       "      <th>45</th>\n",
       "      <td>2</td>\n",
       "    </tr>\n",
       "    <tr>\n",
       "      <th>49</th>\n",
       "      <td>1</td>\n",
       "    </tr>\n",
       "    <tr>\n",
       "      <th>50</th>\n",
       "      <td>1</td>\n",
       "    </tr>\n",
       "    <tr>\n",
       "      <th>51</th>\n",
       "      <td>2</td>\n",
       "    </tr>\n",
       "    <tr>\n",
       "      <th>...</th>\n",
       "      <td>...</td>\n",
       "    </tr>\n",
       "    <tr>\n",
       "      <th>229</th>\n",
       "      <td>1</td>\n",
       "    </tr>\n",
       "    <tr>\n",
       "      <th>231</th>\n",
       "      <td>2</td>\n",
       "    </tr>\n",
       "    <tr>\n",
       "      <th>235</th>\n",
       "      <td>1</td>\n",
       "    </tr>\n",
       "    <tr>\n",
       "      <th>246</th>\n",
       "      <td>1</td>\n",
       "    </tr>\n",
       "    <tr>\n",
       "      <th>260</th>\n",
       "      <td>1</td>\n",
       "    </tr>\n",
       "  </tbody>\n",
       "</table>\n",
       "<p>184 rows × 1 columns</p>\n",
       "</div>"
      ],
      "text/plain": [
       "                    NUM_USERS\n",
       "INTERACTION_COUNTS           \n",
       "43                          1\n",
       "45                          2\n",
       "49                          1\n",
       "50                          1\n",
       "51                          2\n",
       "...                       ...\n",
       "229                         1\n",
       "231                         2\n",
       "235                         1\n",
       "246                         1\n",
       "260                         1\n",
       "\n",
       "[184 rows x 1 columns]"
      ]
     },
     "execution_count": 6,
     "metadata": {},
     "output_type": "execute_result"
    }
   ],
   "source": [
    "user_interaction_counts=user_activity_counts.reset_index()\n",
    "activities = user_interaction_counts.groupby('INTERACTION_COUNTS').count()\n",
    "activities.columns=['NUM_USERS']\n",
    "activities"
   ]
  },
  {
   "cell_type": "markdown",
   "metadata": {},
   "source": [
    "전체 인터렉션 횟수 분포를 확인 합니다."
   ]
  },
  {
   "cell_type": "code",
   "execution_count": 7,
   "metadata": {},
   "outputs": [
    {
     "data": {
      "image/png": "[encoded data removed]",
      "text/plain": [
       "<Figure size 1080x360 with 1 Axes>"
      ]
     },
     "metadata": {
      "needs_background": "light"
     },
     "output_type": "display_data"
    }
   ],
   "source": [
    "num_interactions = 260\n",
    "activities.loc[:num_interactions,:].plot(kind='bar', figsize=(15,5), ylim=(0,100))\n",
    "plt.title(\"activities users group\")\n",
    "\n",
    "plt.show()"
   ]
  },
  {
   "cell_type": "markdown",
   "metadata": {},
   "source": [
    "일부 분포 (예: 100 번)  까지의 분포를 확인 합이다."
   ]
  },
  {
   "cell_type": "code",
   "execution_count": 8,
   "metadata": {},
   "outputs": [
    {
     "data": {
      "image/png": "[encoded data removed]",
      "text/plain": [
       "<Figure size 1080x360 with 1 Axes>"
      ]
     },
     "metadata": {
      "needs_background": "light"
     },
     "output_type": "display_data"
    }
   ],
   "source": [
    "num_interactions = 100\n",
    "activities.loc[:num_interactions,:].plot(kind='bar', figsize=(15,5), ylim=(0,100))\n",
    "plt.title(\"activities users group\")\n",
    "\n",
    "plt.show()"
   ]
  },
  {
   "cell_type": "markdown",
   "metadata": {},
   "source": [
    "# 2. 데이터 필드 선택 및 변형\n",
    "\n",
    "아래와 같은 순서로 데이터 필드를 선택하고 준비를 합니다.\n",
    "- 필수적인 데이타를 중심으로 선택\n",
    "- 퍼스널라이즈에서 요구하는 컬럼 이름으로 수정\n",
    "- 선택된 데이터 필드의 타입을 적당하게 변경\n",
    "\n",
    "### 참고\n",
    "- ECOMMERCE datasets and schemas\n",
    "    - https://docs.aws.amazon.com/personalize/latest/dg/ECOMMERCE-datasets-and-schemas.html"
   ]
  },
  {
   "cell_type": "markdown",
   "metadata": {},
   "source": [
    "## Items"
   ]
  },
  {
   "cell_type": "code",
   "execution_count": 9,
   "metadata": {},
   "outputs": [
    {
     "data": {
      "text/plain": [
       "Index(['id', 'url', 'sk', 'name', 'category', 'style', 'description',\n",
       "       'aliases', 'price', 'image', 'gender_affinity', 'current_stock',\n",
       "       'featured'],\n",
       "      dtype='object')"
      ]
     },
     "execution_count": 9,
     "metadata": {},
     "output_type": "execute_result"
    }
   ],
   "source": [
    "items.columns"
   ]
  },
  {
   "cell_type": "code",
   "execution_count": 10,
   "metadata": {},
   "outputs": [
    {
     "data": {
      "text/html": [
       "<div>\n",
       "<style scoped>\n",
       "    .dataframe tbody tr th:only-of-type {\n",
       "        vertical-align: middle;\n",
       "    }\n",
       "\n",
       "    .dataframe tbody tr th {\n",
       "        vertical-align: top;\n",
       "    }\n",
       "\n",
       "    .dataframe thead th {\n",
       "        text-align: right;\n",
       "    }\n",
       "</style>\n",
       "<table border=\"1\" class=\"dataframe\">\n",
       "  <thead>\n",
       "    <tr style=\"text-align: right;\">\n",
       "      <th></th>\n",
       "      <th>ITEM_ID</th>\n",
       "      <th>NAME</th>\n",
       "      <th>CATEGORY_L1</th>\n",
       "      <th>STYLE</th>\n",
       "      <th>PRODUCT_DESCRIPTION</th>\n",
       "      <th>PRICE</th>\n",
       "    </tr>\n",
       "  </thead>\n",
       "  <tbody>\n",
       "    <tr>\n",
       "      <th>0</th>\n",
       "      <td>e1669081-8ffc-4dec-97a6-e9176d7f6651</td>\n",
       "      <td>Sans Pareil Scarf</td>\n",
       "      <td>apparel</td>\n",
       "      <td>scarf</td>\n",
       "      <td>Sans pareil scarf for women</td>\n",
       "      <td>124.99</td>\n",
       "    </tr>\n",
       "    <tr>\n",
       "      <th>1</th>\n",
       "      <td>cfafd627-7d6b-43a5-be05-4c7937be417d</td>\n",
       "      <td>Chef Knife</td>\n",
       "      <td>housewares</td>\n",
       "      <td>kitchen</td>\n",
       "      <td>A must-have for your kitchen</td>\n",
       "      <td>57.99</td>\n",
       "    </tr>\n",
       "    <tr>\n",
       "      <th>2</th>\n",
       "      <td>6e6ad102-7510-4a02-b8ce-5a0cd6f431d1</td>\n",
       "      <td>Gainsboro Jacket</td>\n",
       "      <td>apparel</td>\n",
       "      <td>jacket</td>\n",
       "      <td>This gainsboro jacket for women is perfect for...</td>\n",
       "      <td>133.99</td>\n",
       "    </tr>\n",
       "    <tr>\n",
       "      <th>3</th>\n",
       "      <td>49b89871-5fe7-4898-b99d-953e15fb42b2</td>\n",
       "      <td>High Definition Speakers</td>\n",
       "      <td>electronics</td>\n",
       "      <td>speaker</td>\n",
       "      <td>High definition speakers to fill the house wit...</td>\n",
       "      <td>196.99</td>\n",
       "    </tr>\n",
       "    <tr>\n",
       "      <th>4</th>\n",
       "      <td>5cb18925-3a3c-4867-8f1c-46efd7eba067</td>\n",
       "      <td>Spiffy Sandals</td>\n",
       "      <td>footwear</td>\n",
       "      <td>sandals</td>\n",
       "      <td>This spiffy pair of sandals for woman is perfe...</td>\n",
       "      <td>9.99</td>\n",
       "    </tr>\n",
       "  </tbody>\n",
       "</table>\n",
       "</div>"
      ],
      "text/plain": [
       "                                ITEM_ID                      NAME  \\\n",
       "0  e1669081-8ffc-4dec-97a6-e9176d7f6651         Sans Pareil Scarf   \n",
       "1  cfafd627-7d6b-43a5-be05-4c7937be417d                Chef Knife   \n",
       "2  6e6ad102-7510-4a02-b8ce-5a0cd6f431d1          Gainsboro Jacket   \n",
       "3  49b89871-5fe7-4898-b99d-953e15fb42b2  High Definition Speakers   \n",
       "4  5cb18925-3a3c-4867-8f1c-46efd7eba067            Spiffy Sandals   \n",
       "\n",
       "   CATEGORY_L1    STYLE                                PRODUCT_DESCRIPTION  \\\n",
       "0      apparel    scarf                        Sans pareil scarf for women   \n",
       "1   housewares  kitchen                       A must-have for your kitchen   \n",
       "2      apparel   jacket  This gainsboro jacket for women is perfect for...   \n",
       "3  electronics  speaker  High definition speakers to fill the house wit...   \n",
       "4     footwear  sandals  This spiffy pair of sandals for woman is perfe...   \n",
       "\n",
       "    PRICE  \n",
       "0  124.99  \n",
       "1   57.99  \n",
       "2  133.99  \n",
       "3  196.99  \n",
       "4    9.99  "
      ]
     },
     "execution_count": 10,
     "metadata": {},
     "output_type": "execute_result"
    }
   ],
   "source": [
    "def item_data_selection(df, cols):\n",
    "    ldf = df[cols]\n",
    "    ldf = ldf.rename(columns={'id':'ITEM_ID',\n",
    "                              'name' : 'NAME',\n",
    "                              'category' :'CATEGORY_L1',\n",
    "                              'style' : 'STYLE',\n",
    "                              'description' : 'PRODUCT_DESCRIPTION',\n",
    "                              'price' : 'PRICE',\n",
    "                              \n",
    "                             })\n",
    "    \n",
    "    return ldf\n",
    "\n",
    "\n",
    "item_cols = ['id', 'name', 'category', 'style', 'description','price']\n",
    "\n",
    "\n",
    "items_df = item_data_selection(items, item_cols)    \n",
    "\n",
    "\n",
    "items_df.head()"
   ]
  },
  {
   "cell_type": "markdown",
   "metadata": {},
   "source": [
    "## Users"
   ]
  },
  {
   "cell_type": "code",
   "execution_count": 11,
   "metadata": {},
   "outputs": [
    {
     "data": {
      "text/plain": [
       "Index(['id', 'username', 'email', 'first_name', 'last_name', 'addresses',\n",
       "       'age', 'gender', 'persona', 'discount_persona', 'selectable_user'],\n",
       "      dtype='object')"
      ]
     },
     "execution_count": 11,
     "metadata": {},
     "output_type": "execute_result"
    }
   ],
   "source": [
    "users.columns"
   ]
  },
  {
   "cell_type": "code",
   "execution_count": 12,
   "metadata": {},
   "outputs": [
    {
     "data": {
      "text/html": [
       "<div>\n",
       "<style scoped>\n",
       "    .dataframe tbody tr th:only-of-type {\n",
       "        vertical-align: middle;\n",
       "    }\n",
       "\n",
       "    .dataframe tbody tr th {\n",
       "        vertical-align: top;\n",
       "    }\n",
       "\n",
       "    .dataframe thead th {\n",
       "        text-align: right;\n",
       "    }\n",
       "</style>\n",
       "<table border=\"1\" class=\"dataframe\">\n",
       "  <thead>\n",
       "    <tr style=\"text-align: right;\">\n",
       "      <th></th>\n",
       "      <th>USER_ID</th>\n",
       "      <th>USER_NAME</th>\n",
       "      <th>AGE</th>\n",
       "      <th>GENDER</th>\n",
       "    </tr>\n",
       "  </thead>\n",
       "  <tbody>\n",
       "    <tr>\n",
       "      <th>0</th>\n",
       "      <td>1</td>\n",
       "      <td>user1</td>\n",
       "      <td>31</td>\n",
       "      <td>M</td>\n",
       "    </tr>\n",
       "    <tr>\n",
       "      <th>1</th>\n",
       "      <td>2</td>\n",
       "      <td>user2</td>\n",
       "      <td>58</td>\n",
       "      <td>F</td>\n",
       "    </tr>\n",
       "    <tr>\n",
       "      <th>2</th>\n",
       "      <td>3</td>\n",
       "      <td>user3</td>\n",
       "      <td>43</td>\n",
       "      <td>M</td>\n",
       "    </tr>\n",
       "    <tr>\n",
       "      <th>3</th>\n",
       "      <td>4</td>\n",
       "      <td>user4</td>\n",
       "      <td>38</td>\n",
       "      <td>M</td>\n",
       "    </tr>\n",
       "    <tr>\n",
       "      <th>4</th>\n",
       "      <td>5</td>\n",
       "      <td>user5</td>\n",
       "      <td>24</td>\n",
       "      <td>M</td>\n",
       "    </tr>\n",
       "  </tbody>\n",
       "</table>\n",
       "</div>"
      ],
      "text/plain": [
       "   USER_ID USER_NAME  AGE GENDER\n",
       "0        1     user1   31      M\n",
       "1        2     user2   58      F\n",
       "2        3     user3   43      M\n",
       "3        4     user4   38      M\n",
       "4        5     user5   24      M"
      ]
     },
     "execution_count": 12,
     "metadata": {},
     "output_type": "execute_result"
    }
   ],
   "source": [
    "def user_data_selection(df, cols):\n",
    "    ldf = df[cols]\n",
    "    ldf = ldf.rename(columns={'id':'USER_ID',\n",
    "                              'username' : 'USER_NAME',\n",
    "                              'age' :'AGE',\n",
    "                              'gender' : 'GENDER',                              \n",
    "                             })\n",
    "    \n",
    "    return ldf\n",
    "\n",
    "user_cols = ['id', 'username', 'age', 'gender']\n",
    "\n",
    "\n",
    "users_df = user_data_selection(users, user_cols)    \n",
    "users_df.head()\n",
    "    "
   ]
  },
  {
   "cell_type": "markdown",
   "metadata": {},
   "source": [
    "### Users 데이터 타입 변경"
   ]
  },
  {
   "cell_type": "code",
   "execution_count": 13,
   "metadata": {},
   "outputs": [
    {
     "name": "stdout",
     "output_type": "stream",
     "text": [
      "<class 'pandas.core.frame.DataFrame'>\n",
      "RangeIndex: 5250 entries, 0 to 5249\n",
      "Data columns (total 4 columns):\n",
      " #   Column     Non-Null Count  Dtype \n",
      "---  ------     --------------  ----- \n",
      " 0   USER_ID    5250 non-null   int64 \n",
      " 1   USER_NAME  5250 non-null   object\n",
      " 2   AGE        5250 non-null   int64 \n",
      " 3   GENDER     5250 non-null   object\n",
      "dtypes: int64(2), object(2)\n",
      "memory usage: 164.2+ KB\n"
     ]
    }
   ],
   "source": [
    "users_df.info()"
   ]
  },
  {
   "cell_type": "code",
   "execution_count": 14,
   "metadata": {},
   "outputs": [],
   "source": [
    "def change_data_type(df, col, target_type):\n",
    "    ldf = df.copy()\n",
    "    ldf[col] = ldf[col].astype(target_type)\n",
    "    \n",
    "    return ldf\n",
    "    "
   ]
  },
  {
   "cell_type": "code",
   "execution_count": 15,
   "metadata": {},
   "outputs": [
    {
     "name": "stdout",
     "output_type": "stream",
     "text": [
      "<class 'pandas.core.frame.DataFrame'>\n",
      "RangeIndex: 5250 entries, 0 to 5249\n",
      "Data columns (total 4 columns):\n",
      " #   Column     Non-Null Count  Dtype \n",
      "---  ------     --------------  ----- \n",
      " 0   USER_ID    5250 non-null   object\n",
      " 1   USER_NAME  5250 non-null   object\n",
      " 2   AGE        5250 non-null   int64 \n",
      " 3   GENDER     5250 non-null   object\n",
      "dtypes: int64(1), object(3)\n",
      "memory usage: 164.2+ KB\n"
     ]
    }
   ],
   "source": [
    "users_df = change_data_type(users_df, col='USER_ID', target_type='object')\n",
    "users_df.info()"
   ]
  },
  {
   "cell_type": "markdown",
   "metadata": {},
   "source": [
    "## Interactions"
   ]
  },
  {
   "cell_type": "code",
   "execution_count": 16,
   "metadata": {},
   "outputs": [
    {
     "data": {
      "text/plain": [
       "Index(['ITEM_ID', 'USER_ID', 'EVENT_TYPE', 'TIMESTAMP', 'DISCOUNT'], dtype='object')"
      ]
     },
     "execution_count": 16,
     "metadata": {},
     "output_type": "execute_result"
    }
   ],
   "source": [
    "its.columns"
   ]
  },
  {
   "cell_type": "code",
   "execution_count": 17,
   "metadata": {},
   "outputs": [
    {
     "data": {
      "text/html": [
       "<div>\n",
       "<style scoped>\n",
       "    .dataframe tbody tr th:only-of-type {\n",
       "        vertical-align: middle;\n",
       "    }\n",
       "\n",
       "    .dataframe tbody tr th {\n",
       "        vertical-align: top;\n",
       "    }\n",
       "\n",
       "    .dataframe thead th {\n",
       "        text-align: right;\n",
       "    }\n",
       "</style>\n",
       "<table border=\"1\" class=\"dataframe\">\n",
       "  <thead>\n",
       "    <tr style=\"text-align: right;\">\n",
       "      <th></th>\n",
       "      <th>ITEM_ID</th>\n",
       "      <th>USER_ID</th>\n",
       "      <th>EVENT_TYPE</th>\n",
       "      <th>TIMESTAMP</th>\n",
       "    </tr>\n",
       "  </thead>\n",
       "  <tbody>\n",
       "    <tr>\n",
       "      <th>0</th>\n",
       "      <td>26bb732f-9159-432f-91ef-bad14fedd298</td>\n",
       "      <td>3156</td>\n",
       "      <td>ProductViewed</td>\n",
       "      <td>1591803788</td>\n",
       "    </tr>\n",
       "    <tr>\n",
       "      <th>1</th>\n",
       "      <td>26bb732f-9159-432f-91ef-bad14fedd298</td>\n",
       "      <td>3156</td>\n",
       "      <td>ProductViewed</td>\n",
       "      <td>1591803788</td>\n",
       "    </tr>\n",
       "    <tr>\n",
       "      <th>2</th>\n",
       "      <td>dc073623-4b95-47d9-93cb-0171c20baa04</td>\n",
       "      <td>332</td>\n",
       "      <td>ProductViewed</td>\n",
       "      <td>1591803812</td>\n",
       "    </tr>\n",
       "    <tr>\n",
       "      <th>3</th>\n",
       "      <td>dc073623-4b95-47d9-93cb-0171c20baa04</td>\n",
       "      <td>332</td>\n",
       "      <td>ProductViewed</td>\n",
       "      <td>1591803812</td>\n",
       "    </tr>\n",
       "    <tr>\n",
       "      <th>4</th>\n",
       "      <td>31efcfea-47d6-43f3-97f7-2704a5397e22</td>\n",
       "      <td>3981</td>\n",
       "      <td>ProductViewed</td>\n",
       "      <td>1591803830</td>\n",
       "    </tr>\n",
       "  </tbody>\n",
       "</table>\n",
       "</div>"
      ],
      "text/plain": [
       "                                ITEM_ID  USER_ID     EVENT_TYPE   TIMESTAMP\n",
       "0  26bb732f-9159-432f-91ef-bad14fedd298     3156  ProductViewed  1591803788\n",
       "1  26bb732f-9159-432f-91ef-bad14fedd298     3156  ProductViewed  1591803788\n",
       "2  dc073623-4b95-47d9-93cb-0171c20baa04      332  ProductViewed  1591803812\n",
       "3  dc073623-4b95-47d9-93cb-0171c20baa04      332  ProductViewed  1591803812\n",
       "4  31efcfea-47d6-43f3-97f7-2704a5397e22     3981  ProductViewed  1591803830"
      ]
     },
     "execution_count": 17,
     "metadata": {},
     "output_type": "execute_result"
    }
   ],
   "source": [
    "def interactions_data_selection(df, cols):\n",
    "    ldf = df[cols]\n",
    "    ldf = ldf.rename(columns={'id':'USER_ID',\n",
    "                              'username' : 'USER_NAME',\n",
    "                              'age' :'AGE',\n",
    "                              'gender' : 'GENDER',                              \n",
    "                             })\n",
    "    \n",
    "    return ldf\n",
    "\n",
    "interactions_cols = ['ITEM_ID', 'USER_ID', 'EVENT_TYPE', 'TIMESTAMP']\n",
    "\n",
    "\n",
    "full_interactions_df = interactions_data_selection(its, interactions_cols)    \n",
    "full_interactions_df.head()\n",
    "    "
   ]
  },
  {
   "cell_type": "markdown",
   "metadata": {},
   "source": [
    "## 인터렉션의 EVENT_TYPE 의 두가지 선택\n",
    "\n",
    "- 우리는 여기서 \"ProductViewed\" , \"OrderCompleted\" 를 선택하고 각각 이름을 \"View\" , \"Purchase\" 로 바꿉니다."
   ]
  },
  {
   "cell_type": "code",
   "execution_count": 18,
   "metadata": {},
   "outputs": [
    {
     "data": {
      "text/plain": [
       "ProductViewed      581900\n",
       "ProductAdded        46552\n",
       "CartViewed          29095\n",
       "CheckoutStarted     11638\n",
       "OrderCompleted       5819\n",
       "Name: EVENT_TYPE, dtype: int64"
      ]
     },
     "execution_count": 18,
     "metadata": {},
     "output_type": "execute_result"
    }
   ],
   "source": [
    "full_interactions_df.EVENT_TYPE.value_counts()"
   ]
  },
  {
   "cell_type": "code",
   "execution_count": 19,
   "metadata": {},
   "outputs": [
    {
     "name": "stderr",
     "output_type": "stream",
     "text": [
      "/home/ec2-user/anaconda3/envs/python3/lib/python3.6/site-packages/ipykernel/__main__.py:3: SettingWithCopyWarning: \n",
      "A value is trying to be set on a copy of a slice from a DataFrame.\n",
      "Try using .loc[row_indexer,col_indexer] = value instead\n",
      "\n",
      "See the caveats in the documentation: https://pandas.pydata.org/pandas-docs/stable/user_guide/indexing.html#returning-a-view-versus-a-copy\n",
      "  app.launch_new_instance()\n",
      "/home/ec2-user/anaconda3/envs/python3/lib/python3.6/site-packages/ipykernel/__main__.py:4: SettingWithCopyWarning: \n",
      "A value is trying to be set on a copy of a slice from a DataFrame.\n",
      "Try using .loc[row_indexer,col_indexer] = value instead\n",
      "\n",
      "See the caveats in the documentation: https://pandas.pydata.org/pandas-docs/stable/user_guide/indexing.html#returning-a-view-versus-a-copy\n"
     ]
    },
    {
     "data": {
      "text/html": [
       "<div>\n",
       "<style scoped>\n",
       "    .dataframe tbody tr th:only-of-type {\n",
       "        vertical-align: middle;\n",
       "    }\n",
       "\n",
       "    .dataframe tbody tr th {\n",
       "        vertical-align: top;\n",
       "    }\n",
       "\n",
       "    .dataframe thead th {\n",
       "        text-align: right;\n",
       "    }\n",
       "</style>\n",
       "<table border=\"1\" class=\"dataframe\">\n",
       "  <thead>\n",
       "    <tr style=\"text-align: right;\">\n",
       "      <th></th>\n",
       "      <th>ITEM_ID</th>\n",
       "      <th>USER_ID</th>\n",
       "      <th>EVENT_TYPE</th>\n",
       "      <th>TIMESTAMP</th>\n",
       "    </tr>\n",
       "  </thead>\n",
       "  <tbody>\n",
       "    <tr>\n",
       "      <th>0</th>\n",
       "      <td>26bb732f-9159-432f-91ef-bad14fedd298</td>\n",
       "      <td>3156</td>\n",
       "      <td>View</td>\n",
       "      <td>1591803788</td>\n",
       "    </tr>\n",
       "    <tr>\n",
       "      <th>1</th>\n",
       "      <td>26bb732f-9159-432f-91ef-bad14fedd298</td>\n",
       "      <td>3156</td>\n",
       "      <td>View</td>\n",
       "      <td>1591803788</td>\n",
       "    </tr>\n",
       "    <tr>\n",
       "      <th>2</th>\n",
       "      <td>dc073623-4b95-47d9-93cb-0171c20baa04</td>\n",
       "      <td>332</td>\n",
       "      <td>View</td>\n",
       "      <td>1591803812</td>\n",
       "    </tr>\n",
       "    <tr>\n",
       "      <th>3</th>\n",
       "      <td>dc073623-4b95-47d9-93cb-0171c20baa04</td>\n",
       "      <td>332</td>\n",
       "      <td>View</td>\n",
       "      <td>1591803812</td>\n",
       "    </tr>\n",
       "    <tr>\n",
       "      <th>4</th>\n",
       "      <td>31efcfea-47d6-43f3-97f7-2704a5397e22</td>\n",
       "      <td>3981</td>\n",
       "      <td>View</td>\n",
       "      <td>1591803830</td>\n",
       "    </tr>\n",
       "    <tr>\n",
       "      <th>...</th>\n",
       "      <td>...</td>\n",
       "      <td>...</td>\n",
       "      <td>...</td>\n",
       "      <td>...</td>\n",
       "    </tr>\n",
       "    <tr>\n",
       "      <th>674996</th>\n",
       "      <td>94a0ad41-8b19-4ecb-b0d7-33704e2d4421</td>\n",
       "      <td>4046</td>\n",
       "      <td>View</td>\n",
       "      <td>1598204625</td>\n",
       "    </tr>\n",
       "    <tr>\n",
       "      <th>674997</th>\n",
       "      <td>f9c470b0-152b-4776-893a-67ffc4064675</td>\n",
       "      <td>2627</td>\n",
       "      <td>View</td>\n",
       "      <td>1598204657</td>\n",
       "    </tr>\n",
       "    <tr>\n",
       "      <th>674998</th>\n",
       "      <td>1def0093-96b2-4cc4-a022-071941f75b92</td>\n",
       "      <td>3538</td>\n",
       "      <td>View</td>\n",
       "      <td>1598204664</td>\n",
       "    </tr>\n",
       "    <tr>\n",
       "      <th>674999</th>\n",
       "      <td>9bc87696-e9bd-4241-86b0-234e054a607b</td>\n",
       "      <td>5165</td>\n",
       "      <td>View</td>\n",
       "      <td>1598204678</td>\n",
       "    </tr>\n",
       "    <tr>\n",
       "      <th>675003</th>\n",
       "      <td>9bc87696-e9bd-4241-86b0-234e054a607b</td>\n",
       "      <td>5165</td>\n",
       "      <td>Purchase</td>\n",
       "      <td>1598204689</td>\n",
       "    </tr>\n",
       "  </tbody>\n",
       "</table>\n",
       "<p>587719 rows × 4 columns</p>\n",
       "</div>"
      ],
      "text/plain": [
       "                                     ITEM_ID  USER_ID EVENT_TYPE   TIMESTAMP\n",
       "0       26bb732f-9159-432f-91ef-bad14fedd298     3156       View  1591803788\n",
       "1       26bb732f-9159-432f-91ef-bad14fedd298     3156       View  1591803788\n",
       "2       dc073623-4b95-47d9-93cb-0171c20baa04      332       View  1591803812\n",
       "3       dc073623-4b95-47d9-93cb-0171c20baa04      332       View  1591803812\n",
       "4       31efcfea-47d6-43f3-97f7-2704a5397e22     3981       View  1591803830\n",
       "...                                      ...      ...        ...         ...\n",
       "674996  94a0ad41-8b19-4ecb-b0d7-33704e2d4421     4046       View  1598204625\n",
       "674997  f9c470b0-152b-4776-893a-67ffc4064675     2627       View  1598204657\n",
       "674998  1def0093-96b2-4cc4-a022-071941f75b92     3538       View  1598204664\n",
       "674999  9bc87696-e9bd-4241-86b0-234e054a607b     5165       View  1598204678\n",
       "675003  9bc87696-e9bd-4241-86b0-234e054a607b     5165   Purchase  1598204689\n",
       "\n",
       "[587719 rows x 4 columns]"
      ]
     },
     "execution_count": 19,
     "metadata": {},
     "output_type": "execute_result"
    }
   ],
   "source": [
    "def filter_interactions_data(df, kinds_event_type):\n",
    "    ldf = df[df['EVENT_TYPE'].isin(kinds_event_type)]\n",
    "    ldf['EVENT_TYPE'] = ldf['EVENT_TYPE'].replace(['ProductViewed'],'View')    \n",
    "    ldf['EVENT_TYPE'] = ldf['EVENT_TYPE'].replace(['OrderCompleted'],'Purchase')        \n",
    "    \n",
    "    return ldf\n",
    "\n",
    "select_event_types = ['ProductViewed','OrderCompleted']\n",
    "interactions_df = filter_interactions_data(full_interactions_df, select_event_types)\n",
    "interactions_df"
   ]
  },
  {
   "cell_type": "markdown",
   "metadata": {},
   "source": [
    "### 인터렉션 데이터 타입 변경"
   ]
  },
  {
   "cell_type": "code",
   "execution_count": 20,
   "metadata": {},
   "outputs": [
    {
     "name": "stdout",
     "output_type": "stream",
     "text": [
      "<class 'pandas.core.frame.DataFrame'>\n",
      "Int64Index: 587719 entries, 0 to 675003\n",
      "Data columns (total 4 columns):\n",
      " #   Column      Non-Null Count   Dtype \n",
      "---  ------      --------------   ----- \n",
      " 0   ITEM_ID     587719 non-null  object\n",
      " 1   USER_ID     587719 non-null  int64 \n",
      " 2   EVENT_TYPE  587719 non-null  object\n",
      " 3   TIMESTAMP   587719 non-null  int64 \n",
      "dtypes: int64(2), object(2)\n",
      "memory usage: 22.4+ MB\n"
     ]
    }
   ],
   "source": [
    "interactions_df.info()"
   ]
  },
  {
   "cell_type": "code",
   "execution_count": 21,
   "metadata": {},
   "outputs": [
    {
     "name": "stdout",
     "output_type": "stream",
     "text": [
      "<class 'pandas.core.frame.DataFrame'>\n",
      "Int64Index: 587719 entries, 0 to 675003\n",
      "Data columns (total 4 columns):\n",
      " #   Column      Non-Null Count   Dtype \n",
      "---  ------      --------------   ----- \n",
      " 0   ITEM_ID     587719 non-null  object\n",
      " 1   USER_ID     587719 non-null  object\n",
      " 2   EVENT_TYPE  587719 non-null  object\n",
      " 3   TIMESTAMP   587719 non-null  int64 \n",
      "dtypes: int64(1), object(3)\n",
      "memory usage: 22.4+ MB\n"
     ]
    }
   ],
   "source": [
    "interactions_df = change_data_type(interactions_df, col='USER_ID', target_type='object')\n",
    "interactions_df.info()"
   ]
  },
  {
   "cell_type": "markdown",
   "metadata": {},
   "source": [
    "# 3. 데이터 분리\n",
    "\n",
    "이 데이터에는 UserID, ItemID, Event_Type 및 Timestamp 컬럼이 포함되어 있습니다.<br>\n",
    "\n",
    "- 시간순으로 정렬한 후에 90%는 학습용 데이터로, 마지막 최근 10% 데이터를 검증용 데이터로 분리합니다.\n",
    "\n"
   ]
  },
  {
   "cell_type": "markdown",
   "metadata": {},
   "source": [
    "## Data Set을 Train, Validation(holdout) 데이터 분리하기 \n",
    "\n",
    "모든 사용자의 마지막(Timestamp기준으로) 10%의 데이터를 Validation(Holdout) 데이터로 분리합니다."
   ]
  },
  {
   "cell_type": "code",
   "execution_count": 22,
   "metadata": {},
   "outputs": [],
   "source": [
    "pd.options.display.max_rows = 5\n",
    "def split_holdout(data, pct):\n",
    "    df = data.copy()\n",
    "    # Rank per each subgroup, 'USER_ID'\n",
    "    ranks = df.groupby('USER_ID').TIMESTAMP.rank(pct=True, method='first')\n",
    "    df = df.join((ranks> pct).to_frame('holdout'))\n",
    "    \n",
    "    holdout = df[df['holdout']].drop('holdout', axis=1)\n",
    "    train = df[~df['holdout']].drop('holdout', axis=1)    \n",
    "    \n",
    "    return train, holdout\n",
    "\n",
    "df_warm_train, df_warm_holdout = split_holdout(interactions_df, pct=0.9)"
   ]
  },
  {
   "cell_type": "markdown",
   "metadata": {},
   "source": [
    "train 과 holdout의 분리된 데이타의 정보입니다. holdout은 대략 전체 대비 10%의 Row의 갯수 입니다. holdout의 timestamp는 train보다 미래의 숫자인 것을 인지할 수 있습니다. (숫자가 많은 것이 더 미래의 날짜를 의미함)"
   ]
  },
  {
   "cell_type": "code",
   "execution_count": 23,
   "metadata": {},
   "outputs": [
    {
     "name": "stdout",
     "output_type": "stream",
     "text": [
      "<class 'pandas.core.frame.DataFrame'>\n",
      "Int64Index: 526581 entries, 0 to 664340\n",
      "Data columns (total 4 columns):\n",
      " #   Column      Non-Null Count   Dtype \n",
      "---  ------      --------------   ----- \n",
      " 0   ITEM_ID     526581 non-null  object\n",
      " 1   USER_ID     526581 non-null  object\n",
      " 2   EVENT_TYPE  526581 non-null  object\n",
      " 3   TIMESTAMP   526581 non-null  int64 \n",
      "dtypes: int64(1), object(3)\n",
      "memory usage: 20.1+ MB\n"
     ]
    },
    {
     "data": {
      "text/plain": [
       "ITEM_ID         2449\n",
       "USER_ID         5250\n",
       "EVENT_TYPE         2\n",
       "TIMESTAMP     282956\n",
       "dtype: int64"
      ]
     },
     "execution_count": 23,
     "metadata": {},
     "output_type": "execute_result"
    }
   ],
   "source": [
    "df_warm_train.info()\n",
    "df_warm_train.nunique()"
   ]
  },
  {
   "cell_type": "code",
   "execution_count": 24,
   "metadata": {},
   "outputs": [
    {
     "name": "stdout",
     "output_type": "stream",
     "text": [
      "<class 'pandas.core.frame.DataFrame'>\n",
      "Int64Index: 61138 entries, 432222 to 675003\n",
      "Data columns (total 4 columns):\n",
      " #   Column      Non-Null Count  Dtype \n",
      "---  ------      --------------  ----- \n",
      " 0   ITEM_ID     61138 non-null  object\n",
      " 1   USER_ID     61138 non-null  object\n",
      " 2   EVENT_TYPE  61138 non-null  object\n",
      " 3   TIMESTAMP   61138 non-null  int64 \n",
      "dtypes: int64(1), object(3)\n",
      "memory usage: 2.3+ MB\n"
     ]
    },
    {
     "data": {
      "text/plain": [
       "ITEM_ID        2446\n",
       "USER_ID        5250\n",
       "EVENT_TYPE        2\n",
       "TIMESTAMP     34393\n",
       "dtype: int64"
      ]
     },
     "execution_count": 24,
     "metadata": {},
     "output_type": "execute_result"
    }
   ],
   "source": [
    "df_warm_holdout.info()\n",
    "df_warm_holdout.nunique()"
   ]
  },
  {
   "cell_type": "code",
   "execution_count": 25,
   "metadata": {},
   "outputs": [
    {
     "data": {
      "text/html": [
       "<div>\n",
       "<style scoped>\n",
       "    .dataframe tbody tr th:only-of-type {\n",
       "        vertical-align: middle;\n",
       "    }\n",
       "\n",
       "    .dataframe tbody tr th {\n",
       "        vertical-align: top;\n",
       "    }\n",
       "\n",
       "    .dataframe thead th {\n",
       "        text-align: right;\n",
       "    }\n",
       "</style>\n",
       "<table border=\"1\" class=\"dataframe\">\n",
       "  <thead>\n",
       "    <tr style=\"text-align: right;\">\n",
       "      <th></th>\n",
       "      <th>ITEM_ID</th>\n",
       "      <th>USER_ID</th>\n",
       "      <th>EVENT_TYPE</th>\n",
       "      <th>TIMESTAMP</th>\n",
       "    </tr>\n",
       "  </thead>\n",
       "  <tbody>\n",
       "    <tr>\n",
       "      <th>21464</th>\n",
       "      <td>35efa417-357d-465e-99cb-b208bbc63f8b</td>\n",
       "      <td>1</td>\n",
       "      <td>View</td>\n",
       "      <td>1592007327</td>\n",
       "    </tr>\n",
       "    <tr>\n",
       "      <th>21465</th>\n",
       "      <td>35efa417-357d-465e-99cb-b208bbc63f8b</td>\n",
       "      <td>1</td>\n",
       "      <td>View</td>\n",
       "      <td>1592007327</td>\n",
       "    </tr>\n",
       "    <tr>\n",
       "      <th>...</th>\n",
       "      <td>...</td>\n",
       "      <td>...</td>\n",
       "      <td>...</td>\n",
       "      <td>...</td>\n",
       "    </tr>\n",
       "    <tr>\n",
       "      <th>585017</th>\n",
       "      <td>072ded32-2903-4f35-9f28-d6284c5f5605</td>\n",
       "      <td>5250</td>\n",
       "      <td>View</td>\n",
       "      <td>1597351374</td>\n",
       "    </tr>\n",
       "    <tr>\n",
       "      <th>585018</th>\n",
       "      <td>072ded32-2903-4f35-9f28-d6284c5f5605</td>\n",
       "      <td>5250</td>\n",
       "      <td>View</td>\n",
       "      <td>1597351374</td>\n",
       "    </tr>\n",
       "  </tbody>\n",
       "</table>\n",
       "<p>526581 rows × 4 columns</p>\n",
       "</div>"
      ],
      "text/plain": [
       "                                     ITEM_ID USER_ID EVENT_TYPE   TIMESTAMP\n",
       "21464   35efa417-357d-465e-99cb-b208bbc63f8b       1       View  1592007327\n",
       "21465   35efa417-357d-465e-99cb-b208bbc63f8b       1       View  1592007327\n",
       "...                                      ...     ...        ...         ...\n",
       "585017  072ded32-2903-4f35-9f28-d6284c5f5605    5250       View  1597351374\n",
       "585018  072ded32-2903-4f35-9f28-d6284c5f5605    5250       View  1597351374\n",
       "\n",
       "[526581 rows x 4 columns]"
      ]
     },
     "execution_count": 25,
     "metadata": {},
     "output_type": "execute_result"
    }
   ],
   "source": [
    "df_warm_train.sort_values(['USER_ID','TIMESTAMP'])"
   ]
  },
  {
   "cell_type": "code",
   "execution_count": 26,
   "metadata": {},
   "outputs": [
    {
     "data": {
      "text/html": [
       "<div>\n",
       "<style scoped>\n",
       "    .dataframe tbody tr th:only-of-type {\n",
       "        vertical-align: middle;\n",
       "    }\n",
       "\n",
       "    .dataframe tbody tr th {\n",
       "        vertical-align: top;\n",
       "    }\n",
       "\n",
       "    .dataframe thead th {\n",
       "        text-align: right;\n",
       "    }\n",
       "</style>\n",
       "<table border=\"1\" class=\"dataframe\">\n",
       "  <thead>\n",
       "    <tr style=\"text-align: right;\">\n",
       "      <th></th>\n",
       "      <th>ITEM_ID</th>\n",
       "      <th>USER_ID</th>\n",
       "      <th>EVENT_TYPE</th>\n",
       "      <th>TIMESTAMP</th>\n",
       "    </tr>\n",
       "  </thead>\n",
       "  <tbody>\n",
       "    <tr>\n",
       "      <th>612212</th>\n",
       "      <td>be14695b-f8cb-46b8-aecd-ef28f0218514</td>\n",
       "      <td>1</td>\n",
       "      <td>View</td>\n",
       "      <td>1597609245</td>\n",
       "    </tr>\n",
       "    <tr>\n",
       "      <th>621508</th>\n",
       "      <td>079ab14b-3435-4a95-ba1d-fc0b21e0cf4b</td>\n",
       "      <td>1</td>\n",
       "      <td>View</td>\n",
       "      <td>1597697421</td>\n",
       "    </tr>\n",
       "    <tr>\n",
       "      <th>...</th>\n",
       "      <td>...</td>\n",
       "      <td>...</td>\n",
       "      <td>...</td>\n",
       "      <td>...</td>\n",
       "    </tr>\n",
       "    <tr>\n",
       "      <th>609116</th>\n",
       "      <td>e66109bf-9ad5-430a-90e5-900c00119f39</td>\n",
       "      <td>5250</td>\n",
       "      <td>View</td>\n",
       "      <td>1597579890</td>\n",
       "    </tr>\n",
       "    <tr>\n",
       "      <th>662349</th>\n",
       "      <td>072ded32-2903-4f35-9f28-d6284c5f5605</td>\n",
       "      <td>5250</td>\n",
       "      <td>View</td>\n",
       "      <td>1598084705</td>\n",
       "    </tr>\n",
       "  </tbody>\n",
       "</table>\n",
       "<p>61138 rows × 4 columns</p>\n",
       "</div>"
      ],
      "text/plain": [
       "                                     ITEM_ID USER_ID EVENT_TYPE   TIMESTAMP\n",
       "612212  be14695b-f8cb-46b8-aecd-ef28f0218514       1       View  1597609245\n",
       "621508  079ab14b-3435-4a95-ba1d-fc0b21e0cf4b       1       View  1597697421\n",
       "...                                      ...     ...        ...         ...\n",
       "609116  e66109bf-9ad5-430a-90e5-900c00119f39    5250       View  1597579890\n",
       "662349  072ded32-2903-4f35-9f28-d6284c5f5605    5250       View  1598084705\n",
       "\n",
       "[61138 rows x 4 columns]"
      ]
     },
     "execution_count": 26,
     "metadata": {},
     "output_type": "execute_result"
    }
   ],
   "source": [
    "df_warm_holdout.sort_values(['USER_ID','TIMESTAMP'])"
   ]
  },
  {
   "cell_type": "markdown",
   "metadata": {},
   "source": [
    "# 4. 로컬에 train, item, validation(holdout) 및 coldstart 를 CSV 저장\n",
    "\n",
    "완료되면 파일을 새 CSV로 저장한 다음, S3에 업로드합니다.<br>"
   ]
  },
  {
   "cell_type": "code",
   "execution_count": 27,
   "metadata": {},
   "outputs": [],
   "source": [
    "import os\n",
    "os.makedirs('dataset', exist_ok=True)"
   ]
  },
  {
   "cell_type": "markdown",
   "metadata": {},
   "source": [
    "train, item, validation(holdout) 데이터를 로컬에 csv 파일로 저장 합니다."
   ]
  },
  {
   "cell_type": "code",
   "execution_count": 28,
   "metadata": {},
   "outputs": [],
   "source": [
    "# train, item, validation 로컬 저장\n",
    "warm_train_interaction_filename=\"dataset/training_interaction.csv\"\n",
    "items_filename=\"dataset/training_item.csv\"\n",
    "users_filename=\"dataset/training_usedr.csv\"\n",
    "validation_interaction_filename=\"dataset/validation_interaction.csv\"\n",
    "\n",
    "df_warm_train.to_csv(warm_train_interaction_filename,index=False)\n",
    "items_df.to_csv(items_filename,index=False)\n",
    "users_df.to_csv(users_filename,index=False)\n",
    "df_warm_holdout.to_csv(validation_interaction_filename,index=False)      \n",
    "\n"
   ]
  },
  {
   "cell_type": "code",
   "execution_count": 29,
   "metadata": {},
   "outputs": [],
   "source": [
    "# warm data set 로컬 저장\n",
    "warm_interation_filename=\"dataset/warm_interaction.csv\"\n",
    "interactions_df.to_csv(warm_interation_filename,index=False)\n"
   ]
  },
  {
   "cell_type": "markdown",
   "metadata": {},
   "source": [
    "## S3에 로컬 CSV 업로드"
   ]
  },
  {
   "cell_type": "code",
   "execution_count": 30,
   "metadata": {},
   "outputs": [],
   "source": [
    "import sagemaker\n",
    "#bucket='<YOUR BUCKET NAME>' # replace with the name of your S3 bucket\n",
    "bucket = sagemaker.Session().default_bucket()  "
   ]
  },
  {
   "cell_type": "code",
   "execution_count": 31,
   "metadata": {},
   "outputs": [
    {
     "name": "stdout",
     "output_type": "stream",
     "text": [
      "s3_warm_train_interaction_filename: \n",
      " s3://sagemaker-ap-northeast-2-057716757052/dataset/training_interaction.csv\n",
      "s3_items_filename: \n",
      " s3://sagemaker-ap-northeast-2-057716757052/dataset/training_item.csv\n",
      "s3_users_filename: \n",
      " s3://sagemaker-ap-northeast-2-057716757052/dataset/training_usedr.csv\n"
     ]
    }
   ],
   "source": [
    "#upload file for training\n",
    "response_upload = boto3.Session().resource('s3').Bucket(bucket).Object(warm_train_interaction_filename).upload_file(warm_train_interaction_filename)\n",
    "boto3.Session().resource('s3').Bucket(bucket).Object(users_filename).upload_file(users_filename)\n",
    "boto3.Session().resource('s3').Bucket(bucket).Object(items_filename).upload_file(items_filename)\n",
    "\n",
    "s3_warm_train_interaction_filename = \"s3://{}/{}\".format(bucket, warm_train_interaction_filename)\n",
    "s3_items_filename = \"s3://{}/{}\".format(bucket, items_filename)\n",
    "s3_users_filename = \"s3://{}/{}\".format(bucket, users_filename)\n",
    "\n",
    "print(\"s3_warm_train_interaction_filename: \\n\", s3_warm_train_interaction_filename)\n",
    "print(\"s3_items_filename: \\n\", s3_items_filename)\n",
    "print(\"s3_users_filename: \\n\", s3_users_filename)\n",
    "\n"
   ]
  },
  {
   "cell_type": "code",
   "execution_count": 32,
   "metadata": {},
   "outputs": [
    {
     "name": "stdout",
     "output_type": "stream",
     "text": [
      "2022-01-02 12:21:58   30451496 dataset/training_interaction.csv\n",
      "2022-01-02 12:22:00     300071 dataset/training_item.csv\n",
      "2022-01-02 12:21:59      97565 dataset/training_usedr.csv\n"
     ]
    }
   ],
   "source": [
    "! aws s3 ls {s3_warm_train_interaction_filename} --recursive\n",
    "! aws s3 ls {s3_items_filename} --recursive\n",
    "! aws s3 ls {s3_users_filename} --recursive"
   ]
  },
  {
   "cell_type": "code",
   "execution_count": 33,
   "metadata": {},
   "outputs": [
    {
     "name": "stdout",
     "output_type": "stream",
     "text": [
      "Stored 'bucket' (str)\n",
      "Stored 's3_warm_train_interaction_filename' (str)\n",
      "Stored 's3_users_filename' (str)\n",
      "Stored 's3_items_filename' (str)\n",
      "Stored 'warm_train_interaction_filename' (str)\n",
      "Stored 'items_filename' (str)\n",
      "Stored 'users_filename' (str)\n",
      "Stored 'validation_interaction_filename' (str)\n",
      "Stored 'warm_interation_filename' (str)\n"
     ]
    }
   ],
   "source": [
    "%store bucket\n",
    "%store s3_warm_train_interaction_filename\n",
    "%store s3_users_filename\n",
    "%store s3_items_filename\n",
    "%store warm_train_interaction_filename\n",
    "%store items_filename\n",
    "%store users_filename\n",
    "%store validation_interaction_filename\n",
    "\n",
    "%store warm_interation_filename\n"
   ]
  },
  {
   "cell_type": "code",
   "execution_count": null,
   "metadata": {},
   "outputs": [],
   "source": []
  }
 ],
 "metadata": {
  "kernelspec": {
   "display_name": "conda_python3",
   "language": "python",
   "name": "conda_python3"
  },
  "language_info": {
   "codemirror_mode": {
    "name": "ipython",
    "version": 3
   },
   "file_extension": ".py",
   "mimetype": "text/x-python",
   "name": "python",
   "nbconvert_exporter": "python",
   "pygments_lexer": "ipython3",
   "version": "3.6.10"
  }
 },
 "nbformat": 4,
 "nbformat_minor": 4
}
