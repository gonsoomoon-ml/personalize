{
 "cells": [
  {
   "cell_type": "markdown",
   "metadata": {},
   "source": [
    "# [Module 4.3] Personalize 캠페인과 실시간 상호 작용 하기\n",
    "\n",
    "이 노트북은 사용자의 실시간 행동에 반응하는 기능을 추가하는 과정을 안내합니다. 영화를 탐색하는 동안 사용자의 의도가 변경되면, 해당 동작에 따라 수정된 추천 영화 목록들이 표시됩니다.\n",
    "이 노트북은 다음과 같은 작업을 합니다.\n",
    "- 이벤트 추적기 생성\n",
    "- 이전 노트북에서 실행한 처음 추천 결과 보기\n",
    "- 새로운 영화를 클릭했다고 가정하고, 이벤트 트랙커 업데이트 후에 두 번째 추천 결과 보기\n",
    "- 다른 새로운 영화를 클릭했다고 가정하고, 이벤트 트랙커 업데이트 후에 세 번째 추천 결과 보기"
   ]
  },
  {
   "cell_type": "code",
   "execution_count": 1,
   "metadata": {},
   "outputs": [],
   "source": [
    "%load_ext autoreload\n",
    "%autoreload 2"
   ]
  },
  {
   "cell_type": "code",
   "execution_count": 2,
   "metadata": {},
   "outputs": [],
   "source": [
    "# Imports\n",
    "import boto3\n",
    "import json\n",
    "import numpy as np\n",
    "import pandas as pd\n",
    "import time\n",
    "import uuid\n",
    "from random import randint"
   ]
  },
  {
   "cell_type": "markdown",
   "metadata": {},
   "source": [
    "아래 코드 셀은 이전 notebook에서 저장했던 공유 변수들을 불러옵니다."
   ]
  },
  {
   "cell_type": "code",
   "execution_count": 3,
   "metadata": {},
   "outputs": [],
   "source": [
    "%store -r\n"
   ]
  },
  {
   "cell_type": "markdown",
   "metadata": {},
   "source": [
    "생성할 오브젝트의 끝에 임의의 숫자를 부여하기 위해 suffix 정의"
   ]
  },
  {
   "cell_type": "code",
   "execution_count": 4,
   "metadata": {},
   "outputs": [],
   "source": [
    "# suffix = str(np.random.uniform())[4:9]"
   ]
  },
  {
   "cell_type": "code",
   "execution_count": 5,
   "metadata": {},
   "outputs": [],
   "source": [
    "# Setup and Config\n",
    "# Recommendations from Event data\n",
    "personalize = boto3.client('personalize')\n",
    "personalize_runtime = boto3.client('personalize-runtime')\n",
    "\n",
    "# Establish a connection to Personalize's Event Streaming\n",
    "personalize_events = boto3.client(service_name='personalize-events')"
   ]
  },
  {
   "cell_type": "markdown",
   "metadata": {},
   "source": [
    "## 이벤트 추적기 생성\n",
    "\n",
    "추천 시스템이 실시간 이벤트에 응답하기 전에 이벤트 추적기(Event Tracker)가 필요합니다. 아래 코드 셀에서 이벤트 추적기 하나를 생성하고 이 실습에서 계속 사용하겠습니다. 이벤트 추적기 이름을 `MovieClickTracker`로 부여하였지만, 여러분들이 자유롭게 지정하실 수 있습니다.<br>\n",
    "위의 추적 ID가 표시되며, 이 ID는 변수에 할당되었으므로 추가 조치가 필요하지 않습니다. 아래 코드 셀을 실행하면 나중에 추천 영화 목록을 출력할 수 있도록 합니다."
   ]
  },
  {
   "cell_type": "code",
   "execution_count": 5,
   "metadata": {},
   "outputs": [
    {
     "data": {
      "text/plain": [
       "'arn:aws:personalize:ap-northeast-2:057716757052:dataset-group/RetailDemo-dataset-group-18036'"
      ]
     },
     "execution_count": 5,
     "metadata": {},
     "output_type": "execute_result"
    }
   ],
   "source": [
    "dataset_group_arn"
   ]
  },
  {
   "cell_type": "code",
   "execution_count": 6,
   "metadata": {},
   "outputs": [
    {
     "name": "stdout",
     "output_type": "stream",
     "text": [
      "arn:aws:personalize:ap-northeast-2:057716757052:event-tracker/44551a3e\n",
      "045e0d46-327e-43aa-8d0a-1b6407502759\n"
     ]
    }
   ],
   "source": [
    "import time\n",
    "\n",
    "\n",
    "response = personalize.create_event_tracker(\n",
    "    name='MovieClickTracker',\n",
    "    datasetGroupArn=dataset_group_arn\n",
    ")\n",
    "\n",
    "# wait tracker creation\n",
    "time.sleep(30)\n",
    "\n",
    "print(response['eventTrackerArn'])\n",
    "print(response['trackingId'])\n",
    "TRACKING_ID = response['trackingId'] "
   ]
  },
  {
   "cell_type": "code",
   "execution_count": 8,
   "metadata": {},
   "outputs": [],
   "source": [
    "event_tracker_arn = response['eventTrackerArn']"
   ]
  },
  {
   "cell_type": "markdown",
   "metadata": {},
   "source": [
    "## 처음 추천 결과 확인\n",
    "\n",
    "이전 노트북에서 아래 유저에 대해서 (예: 4375)  추천 리스트를 확인 합니다. <br>"
   ]
  },
  {
   "cell_type": "code",
   "execution_count": 7,
   "metadata": {},
   "outputs": [
    {
     "name": "stdout",
     "output_type": "stream",
     "text": [
      "user_id:  1\n"
     ]
    }
   ],
   "source": [
    "user_id = 1\n",
    "print(\"user_id: \", user_id)"
   ]
  },
  {
   "cell_type": "code",
   "execution_count": 8,
   "metadata": {},
   "outputs": [
    {
     "name": "stdout",
     "output_type": "stream",
     "text": [
      "Recommended items\n"
     ]
    },
    {
     "data": {
      "text/html": [
       "<div>\n",
       "<style scoped>\n",
       "    .dataframe tbody tr th:only-of-type {\n",
       "        vertical-align: middle;\n",
       "    }\n",
       "\n",
       "    .dataframe tbody tr th {\n",
       "        vertical-align: top;\n",
       "    }\n",
       "\n",
       "    .dataframe thead th {\n",
       "        text-align: right;\n",
       "    }\n",
       "</style>\n",
       "<table border=\"1\" class=\"dataframe\">\n",
       "  <thead>\n",
       "    <tr style=\"text-align: right;\">\n",
       "      <th></th>\n",
       "      <th>ITEM_ID</th>\n",
       "      <th>NAME</th>\n",
       "      <th>CATEGORY_L1</th>\n",
       "      <th>STYLE</th>\n",
       "      <th>PRODUCT_DESCRIPTION</th>\n",
       "      <th>PRICE</th>\n",
       "    </tr>\n",
       "  </thead>\n",
       "  <tbody>\n",
       "    <tr>\n",
       "      <th>0</th>\n",
       "      <td>7bc976b5-c78c-42aa-a4b2-dd734ce1047f</td>\n",
       "      <td>Fancy Wood Bowl</td>\n",
       "      <td>housewares</td>\n",
       "      <td>bowls</td>\n",
       "      <td>This fancy wood bowl is a must-have</td>\n",
       "      <td>67.99</td>\n",
       "    </tr>\n",
       "    <tr>\n",
       "      <th>1</th>\n",
       "      <td>898e919e-4758-41bf-bc8a-f96bcf7e375b</td>\n",
       "      <td>Magnificent Ceramic Bowl</td>\n",
       "      <td>housewares</td>\n",
       "      <td>bowls</td>\n",
       "      <td>This magnificent ceramic bowl is a must-have</td>\n",
       "      <td>23.99</td>\n",
       "    </tr>\n",
       "    <tr>\n",
       "      <th>2</th>\n",
       "      <td>05f4f79c-e6d1-4c31-bcfe-44d7e77fcb68</td>\n",
       "      <td>Strainer</td>\n",
       "      <td>housewares</td>\n",
       "      <td>kitchen</td>\n",
       "      <td>A must-have for your kitchen</td>\n",
       "      <td>68.99</td>\n",
       "    </tr>\n",
       "    <tr>\n",
       "      <th>3</th>\n",
       "      <td>dc8f6e1b-3d49-436e-93ef-821fe08ffa4e</td>\n",
       "      <td>Coffee Maker</td>\n",
       "      <td>housewares</td>\n",
       "      <td>kitchen</td>\n",
       "      <td>Unrivaled for every kitchen</td>\n",
       "      <td>53.99</td>\n",
       "    </tr>\n",
       "    <tr>\n",
       "      <th>4</th>\n",
       "      <td>ab228b40-f692-4662-9986-6d8184dda20b</td>\n",
       "      <td>Beauty Balm</td>\n",
       "      <td>beauty</td>\n",
       "      <td>bathing</td>\n",
       "      <td>This product is bottled heaven</td>\n",
       "      <td>51.99</td>\n",
       "    </tr>\n",
       "    <tr>\n",
       "      <th>5</th>\n",
       "      <td>6edbdde6-0791-4a53-ae92-b8aaba88753d</td>\n",
       "      <td>Chef Knife</td>\n",
       "      <td>housewares</td>\n",
       "      <td>kitchen</td>\n",
       "      <td>Incomparable for every kitchen</td>\n",
       "      <td>72.99</td>\n",
       "    </tr>\n",
       "    <tr>\n",
       "      <th>6</th>\n",
       "      <td>a3ad25e8-c9c3-459a-a853-c26a0ad837eb</td>\n",
       "      <td>Gainsboro Backpack</td>\n",
       "      <td>accessories</td>\n",
       "      <td>backpack</td>\n",
       "      <td>This gainsboro backpack is incomparable for th...</td>\n",
       "      <td>133.99</td>\n",
       "    </tr>\n",
       "    <tr>\n",
       "      <th>7</th>\n",
       "      <td>912fb371-de19-4753-b43a-87bf4b18bac2</td>\n",
       "      <td>Chef Knife</td>\n",
       "      <td>housewares</td>\n",
       "      <td>kitchen</td>\n",
       "      <td>A must-have for your kitchen</td>\n",
       "      <td>51.99</td>\n",
       "    </tr>\n",
       "    <tr>\n",
       "      <th>8</th>\n",
       "      <td>5a9e66ed-32c5-461e-a4b0-a56948c3235b</td>\n",
       "      <td>Black Leather Bag</td>\n",
       "      <td>accessories</td>\n",
       "      <td>bag</td>\n",
       "      <td>An all-around convenient bag for everyday use</td>\n",
       "      <td>96.99</td>\n",
       "    </tr>\n",
       "    <tr>\n",
       "      <th>9</th>\n",
       "      <td>63074efc-388e-4505-b984-5b25a4441299</td>\n",
       "      <td>Sublime Soap</td>\n",
       "      <td>beauty</td>\n",
       "      <td>bathing</td>\n",
       "      <td>Enjoy the fragrance of this sublime soap</td>\n",
       "      <td>22.99</td>\n",
       "    </tr>\n",
       "  </tbody>\n",
       "</table>\n",
       "</div>"
      ],
      "text/plain": [
       "                                ITEM_ID                      NAME  \\\n",
       "0  7bc976b5-c78c-42aa-a4b2-dd734ce1047f           Fancy Wood Bowl   \n",
       "1  898e919e-4758-41bf-bc8a-f96bcf7e375b  Magnificent Ceramic Bowl   \n",
       "2  05f4f79c-e6d1-4c31-bcfe-44d7e77fcb68                  Strainer   \n",
       "3  dc8f6e1b-3d49-436e-93ef-821fe08ffa4e              Coffee Maker   \n",
       "4  ab228b40-f692-4662-9986-6d8184dda20b               Beauty Balm   \n",
       "5  6edbdde6-0791-4a53-ae92-b8aaba88753d                Chef Knife   \n",
       "6  a3ad25e8-c9c3-459a-a853-c26a0ad837eb        Gainsboro Backpack   \n",
       "7  912fb371-de19-4753-b43a-87bf4b18bac2                Chef Knife   \n",
       "8  5a9e66ed-32c5-461e-a4b0-a56948c3235b         Black Leather Bag   \n",
       "9  63074efc-388e-4505-b984-5b25a4441299              Sublime Soap   \n",
       "\n",
       "   CATEGORY_L1     STYLE                                PRODUCT_DESCRIPTION  \\\n",
       "0   housewares     bowls                This fancy wood bowl is a must-have   \n",
       "1   housewares     bowls       This magnificent ceramic bowl is a must-have   \n",
       "2   housewares   kitchen                       A must-have for your kitchen   \n",
       "3   housewares   kitchen                        Unrivaled for every kitchen   \n",
       "4       beauty   bathing                     This product is bottled heaven   \n",
       "5   housewares   kitchen                     Incomparable for every kitchen   \n",
       "6  accessories  backpack  This gainsboro backpack is incomparable for th...   \n",
       "7   housewares   kitchen                       A must-have for your kitchen   \n",
       "8  accessories       bag      An all-around convenient bag for everyday use   \n",
       "9       beauty   bathing           Enjoy the fragrance of this sublime soap   \n",
       "\n",
       "    PRICE  \n",
       "0   67.99  \n",
       "1   23.99  \n",
       "2   68.99  \n",
       "3   53.99  \n",
       "4   51.99  \n",
       "5   72.99  \n",
       "6  133.99  \n",
       "7   51.99  \n",
       "8   96.99  \n",
       "9   22.99  "
      ]
     },
     "execution_count": 8,
     "metadata": {},
     "output_type": "execute_result"
    }
   ],
   "source": [
    "from src.p_utils import get_item_list_details\n",
    "\n",
    "items_df = pd.read_csv(items_filename)\n",
    "\n",
    "\n",
    "get_recommendations_response = personalize_runtime.get_recommendations(\n",
    "    recommenderArn = MostViewed_RecommenderARN,\n",
    "    userId = str(user_id),\n",
    "    numResults = 10\n",
    ")\n",
    "\n",
    "print(\"Recommended items\")\n",
    "\n",
    "items_list = []    \n",
    "for item in get_recommendations_response['itemList']:\n",
    "    items_list.append(item['itemId'])   \n",
    "    # print (item['itemId'])\n",
    "    \n",
    "get_item_list_details(items_df, items_list)  # 유의: 기존의 추천 순서와 리턴의 값이 순서가 다름"
   ]
  },
  {
   "cell_type": "markdown",
   "metadata": {},
   "source": [
    "## 사용자 행동 시뮬레이션\n",
    "\n",
    "아래 코드 셀은 특정 item과 상호 작용하는 사용자를 시뮬레이트하는 코드 샘플을 제공하며, 시작할 때와 다른 추천 목록을 얻습니다."
   ]
  },
  {
   "cell_type": "markdown",
   "metadata": {},
   "source": [
    "아래 ```send_movie_click(USER_ID, ITEM_ID)``` 는 다음과 같은 작업을 하여 실시간 이벤트를 반영 합니다.\n",
    "\n",
    "- 유저에 대한 세션이 없으면 SessionID를 생성하고, 있으면 이 유저의 SessionID를 불러온다\n",
    "- event를 정의하고 event에 item_id를 할당한다\n",
    "- event를 json 형태로 바꾼다\n",
    "- 위에서 생성한 event tranker의 put_event에 위 json파일을 인자로 넘겨서 호출한다.\n",
    "\n",
    "#### Help 함수"
   ]
  },
  {
   "cell_type": "code",
   "execution_count": 15,
   "metadata": {},
   "outputs": [],
   "source": [
    "session_dict = {}\n",
    "\n",
    "def send_click(EVENT_TYPE, USER_ID, ITEM_ID):\n",
    "    \"\"\"\n",
    "    Simulates a click as an envent\n",
    "    to send an event to Amazon Personalize's Event Tracker\n",
    "    \"\"\"\n",
    "    # Configure Session\n",
    "    try:\n",
    "        session_ID = session_dict[USER_ID]\n",
    "    except:\n",
    "        session_dict[USER_ID] = str(uuid.uuid1())\n",
    "        session_ID = session_dict[USER_ID]\n",
    "   \n",
    "    # value=randint(0,5)\n",
    "    \n",
    "    # Configure Properties:\n",
    "    event = {\n",
    "    \"itemId\": str(ITEM_ID),\n",
    "    #\"eventValue\": value\n",
    "    }\n",
    "    event_json = json.dumps(event)\n",
    "    \n",
    "    # Make Call\n",
    "    personalize_events.put_events(\n",
    "    trackingId = TRACKING_ID, # 이벤트트래커에서 생성한 아이디\n",
    "    userId= USER_ID,\n",
    "    sessionId = session_ID,\n",
    "    eventList = [{\n",
    "        'sentAt': int(time.time()),\n",
    "        'eventType': EVENT_TYPE,\n",
    "        'properties': event_json\n",
    "        }]\n",
    ")\n",
    "    \n",
    "# Help 함수\n",
    "\n",
    "# def rec_item_list(item_list, clicked_title, clicked_genre):\n",
    "#     recommendation_title_list = []\n",
    "#     recommendation_genre_list = []\n",
    "\n",
    "#     for item in item_list:\n",
    "#         title = get_movie_title(item['itemId'])\n",
    "#         genre = get_movie_genre(item['itemId'])\n",
    "#         recommendation_title_list.append(title)\n",
    "#         recommendation_genre_list.append(genre)    \n",
    "\n",
    "#     title_df = pd.DataFrame(recommendation_title_list, columns=[clicked_title])\n",
    "#     genre_df = pd.DataFrame(recommendation_genre_list, columns=[clicked_genre])        \n",
    "#     recommendations_df = title_df.join(genre_df)\n",
    "\n",
    "#     return recommendations_df                                                    \n",
    "\n",
    "# def get_new_recommend(user_id,campaign_arn, recommendations_df, title, genre):    \n",
    "#     get_recommendations_response = personalize_runtime.get_recommendations(\n",
    "#         campaignArn = campaign_arn,\n",
    "#         userId = str(user_id),\n",
    "#     )\n",
    "\n",
    "#     item_list = get_recommendations_response['itemList']\n",
    "#     new_recs_df = rec_item_list(item_list,title,  genre)\n",
    "#     new_recommendations_df = pd.concat([recommendations_df,new_recs_df ], axis=1)\n",
    "\n",
    "#     print(\"Recommendations for user: \", user_id)\n",
    "#     return new_recommendations_df\n",
    "    "
   ]
  },
  {
   "cell_type": "markdown",
   "metadata": {},
   "source": [
    "# 실시간 클릭 전달"
   ]
  },
  {
   "cell_type": "code",
   "execution_count": 21,
   "metadata": {},
   "outputs": [],
   "source": [
    "%store -r\n",
    "pd.options.display.max_columns = 10\n",
    "\n",
    "\n",
    "EVENT_TYPE = 'View'\n",
    "user_id = 1\n",
    "item_id = '4952a24b-7c7c-4ee6-a448-720e97927ba8' # Cool Watch\n",
    "\n",
    "# 이벤트 추적기 put_event 호출\n",
    "\n",
    "import time\n",
    "click_nums = 100\n",
    "\n",
    "for i in range(click_nums):\n",
    "    send_click(EVENT_TYPE, USER_ID=str(user_id), ITEM_ID=item_id)\n",
    "    time.sleep(1)\n",
    "# 새로운 추천 결과\n"
   ]
  },
  {
   "cell_type": "code",
   "execution_count": 6,
   "metadata": {},
   "outputs": [
    {
     "name": "stdout",
     "output_type": "stream",
     "text": [
      "Recommended items\n"
     ]
    },
    {
     "ename": "NameError",
     "evalue": "name 'get_item_list_details' is not defined",
     "output_type": "error",
     "traceback": [
      "\u001b[0;31m---------------------------------------------------------------------------\u001b[0m",
      "\u001b[0;31mNameError\u001b[0m                                 Traceback (most recent call last)",
      "\u001b[0;32m<ipython-input-6-c6fdeb64fc99>\u001b[0m in \u001b[0;36m<module>\u001b[0;34m\u001b[0m\n\u001b[1;32m     12\u001b[0m     \u001b[0;31m# print (item['itemId'])\u001b[0m\u001b[0;34m\u001b[0m\u001b[0;34m\u001b[0m\u001b[0;34m\u001b[0m\u001b[0m\n\u001b[1;32m     13\u001b[0m \u001b[0;34m\u001b[0m\u001b[0m\n\u001b[0;32m---> 14\u001b[0;31m \u001b[0mget_item_list_details\u001b[0m\u001b[0;34m(\u001b[0m\u001b[0mitems_df\u001b[0m\u001b[0;34m,\u001b[0m \u001b[0mitems_list\u001b[0m\u001b[0;34m)\u001b[0m  \u001b[0;31m# 유의: 기존의 추천 순서와 리턴의 값이 순서가 다름\u001b[0m\u001b[0;34m\u001b[0m\u001b[0;34m\u001b[0m\u001b[0m\n\u001b[0m",
      "\u001b[0;31mNameError\u001b[0m: name 'get_item_list_details' is not defined"
     ]
    }
   ],
   "source": [
    "get_recommendations_response = personalize_runtime.get_recommendations(\n",
    "    recommenderArn = MostViewed_RecommenderARN,\n",
    "    userId = str(user_id),\n",
    "    numResults = 10\n",
    ")\n",
    "\n",
    "print(\"Recommended items\")\n",
    "\n",
    "items_list = []    \n",
    "for item in get_recommendations_response['itemList']:\n",
    "    items_list.append(item['itemId'])   \n",
    "    # print (item['itemId'])\n",
    "    \n",
    "get_item_list_details(items_df, items_list)  # 유의: 기존의 추천 순서와 리턴의 값이 순서가 다름"
   ]
  },
  {
   "cell_type": "code",
   "execution_count": 27,
   "metadata": {},
   "outputs": [
    {
     "name": "stdout",
     "output_type": "stream",
     "text": [
      "test\n"
     ]
    }
   ],
   "source": [
    "print(\"test\")"
   ]
  },
  {
   "cell_type": "markdown",
   "metadata": {},
   "source": [
    "## 결론\n",
    "\n",
    "사용자가 상호 작용하는 영화를 변경하여 추천 사항이 변경되었음을 알 수 있습니다. 이 시스템은 사용자가 item 모음과 상호 작용하는 모든 응용 프로그램으로 확장할 수 있습니다. 이러한 도구는 언제든지 사용 가능한 데이터로 가능한 것을 풀다운하여 탐색할 수 있습니다."
   ]
  },
  {
   "cell_type": "code",
   "execution_count": 24,
   "metadata": {},
   "outputs": [
    {
     "name": "stdout",
     "output_type": "stream",
     "text": [
      "Stored 'event_tracker_arn' (str)\n"
     ]
    }
   ],
   "source": [
    "%store event_tracker_arn"
   ]
  },
  {
   "cell_type": "code",
   "execution_count": null,
   "metadata": {},
   "outputs": [],
   "source": []
  }
 ],
 "metadata": {
  "kernelspec": {
   "display_name": "conda_python3",
   "language": "python",
   "name": "conda_python3"
  },
  "language_info": {
   "codemirror_mode": {
    "name": "ipython",
    "version": 3
   },
   "file_extension": ".py",
   "mimetype": "text/x-python",
   "name": "python",
   "nbconvert_exporter": "python",
   "pygments_lexer": "ipython3",
   "version": "3.6.10"
  }
 },
 "nbformat": 4,
 "nbformat_minor": 4
}
