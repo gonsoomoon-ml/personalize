{
 "cells": [
  {
   "cell_type": "markdown",
   "metadata": {},
   "source": [
    "# [Module 3.2] Personalize 솔류션 버전 평가 지표 확인하기\n",
    "\n",
    "이 노트북은 아래와 같은 작업을 합니다.\n",
    "\n",
    "* 솔류션 버전으로 부터 성능 지표 구하기\n",
    "* 성능 지표 분석\n",
    "\n",
    "---\n",
    "노트북의 실행 소요 시간은 약 1분 입니다."
   ]
  },
  {
   "cell_type": "code",
   "execution_count": 1,
   "metadata": {},
   "outputs": [],
   "source": [
    "# Imports\n",
    "import boto3\n",
    "import json\n",
    "import numpy as np\n",
    "import pandas as pd\n",
    "import time\n"
   ]
  },
  {
   "cell_type": "markdown",
   "metadata": {},
   "source": [
    "다음으로 여러분의 환경이 Amazon Personalize와 성공적으로 통신할 수 있는지 확인해야 합니다."
   ]
  },
  {
   "cell_type": "code",
   "execution_count": 2,
   "metadata": {},
   "outputs": [],
   "source": [
    "# Configure the SDK to Personalize:\n",
    "personalize = boto3.client('personalize')"
   ]
  },
  {
   "cell_type": "markdown",
   "metadata": {},
   "source": [
    "아래 코드 셀은 이전 notebook에서 저장했던 공유 변수들을 불러옵니다."
   ]
  },
  {
   "cell_type": "code",
   "execution_count": 3,
   "metadata": {},
   "outputs": [],
   "source": [
    "%store -r"
   ]
  },
  {
   "cell_type": "markdown",
   "metadata": {},
   "source": [
    "생성할 오브젝트의 끝에 임의의 숫자를 부여하기 위해 suffix 정의"
   ]
  },
  {
   "cell_type": "markdown",
   "metadata": {},
   "source": [
    "## 솔루션 버전 평가를 위한 학습 데이터 분리 방법\n",
    "\n",
    "이번 파트에서는 Amazon Personalize에서 기본으로 제공하는 솔루션에 대한 평가 지표를 확인해 봅니다. \n",
    "Amazon Personalize에서는 평가 지표를 생성하기 위해 약 랜덤으로 10% 사용자의 interaction data를 테스트 용으로 활용합니다. \n",
    "\n",
    "아래 이미지는 Amazon Personalize가 데이터를 분리하는 방법을 보여줍니다. 사용자가 10 명이고 각각 10 개의 상호 작용이있는 경우 (여기에서 원은 Interaction data를 나타냄) 타임 스탬프를 기준으로 가장 오래된 것부터 최신 것까지 나열된 것입니다. Amazon Personalize는 사용자의 90 % (파란색 원)의 모든 Interaction 데이터를 사용하여 솔루션 버전을 훈련시키고 나머지 10 %는 평가를 위해 사용합니다. 나머지 10 %의 각 사용자에 대해 Interaction data (녹색 원)의 90 %가 훈련 된 모델의 입력값으로 사용됩니다. 데이터의 나머지 10 % (주황색 원)는 모델에서 생성 된 추천 결과물과 비교되고 평가 지표를 계산하는 데 사용됩니다.\n",
    "\n",
    "\n",
    "\n",
    "![personalize metrics](static/imgs/personalize_metrics.png)\n",
    "\n",
    "\n",
    "\n",
    "#### 솔류션 버전의 성능 지표 구하기\n",
    "\n"
   ]
  },
  {
   "cell_type": "code",
   "execution_count": 4,
   "metadata": {},
   "outputs": [],
   "source": [
    "metrics=[]\n",
    "\n",
    "def build_metric_matrix(solution,response):\n",
    "    metrics.append([solution,\n",
    "                response['metrics']['coverage'],\n",
    "                response['metrics']['mean_reciprocal_rank_at_25'],\n",
    "                response['metrics']['normalized_discounted_cumulative_gain_at_5'],\n",
    "                response['metrics']['normalized_discounted_cumulative_gain_at_10'],\n",
    "                response['metrics']['normalized_discounted_cumulative_gain_at_25'],\n",
    "                response['metrics']['precision_at_5'],\n",
    "                response['metrics']['precision_at_10'],\n",
    "                response['metrics']['precision_at_25']])"
   ]
  },
  {
   "cell_type": "markdown",
   "metadata": {},
   "source": [
    "#### Metrics: Popularity\n",
    "\n",
    "아래는 생성한 7개의 솔류션 버전에 대해서 성능 지표를 얻습니다."
   ]
  },
  {
   "cell_type": "code",
   "execution_count": 5,
   "metadata": {},
   "outputs": [
    {
     "name": "stdout",
     "output_type": "stream",
     "text": [
      "{\n",
      "  \"solutionVersionArn\": \"arn:aws:personalize:ap-northeast-2:057716757052:solution/Movielens-popularity-60498/a7709e59\",\n",
      "  \"metrics\": {\n",
      "    \"coverage\": 0.0136,\n",
      "    \"mean_reciprocal_rank_at_25\": 0.0456,\n",
      "    \"normalized_discounted_cumulative_gain_at_10\": 0.0606,\n",
      "    \"normalized_discounted_cumulative_gain_at_25\": 0.0981,\n",
      "    \"normalized_discounted_cumulative_gain_at_5\": 0.0362,\n",
      "    \"precision_at_10\": 0.0163,\n",
      "    \"precision_at_25\": 0.015,\n",
      "    \"precision_at_5\": 0.0143\n",
      "  },\n",
      "  \"ResponseMetadata\": {\n",
      "    \"RequestId\": \"7457ef34-282e-4117-aa7c-9902109ff641\",\n",
      "    \"HTTPStatusCode\": 200,\n",
      "    \"HTTPHeaders\": {\n",
      "      \"content-type\": \"application/x-amz-json-1.1\",\n",
      "      \"date\": \"Mon, 07 Sep 2020 10:15:33 GMT\",\n",
      "      \"x-amzn-requestid\": \"7457ef34-282e-4117-aa7c-9902109ff641\",\n",
      "      \"content-length\": \"414\",\n",
      "      \"connection\": \"keep-alive\"\n",
      "    },\n",
      "    \"RetryAttempts\": 0\n",
      "  }\n",
      "}\n"
     ]
    }
   ],
   "source": [
    "get_solution_metrics_response = personalize.get_solution_metrics(\n",
    "    solutionVersionArn = popularity_solution_version_arn \n",
    ")\n",
    "\n",
    "print(json.dumps(get_solution_metrics_response, indent=2))\n",
    "build_metric_matrix('popularity',get_solution_metrics_response)\n"
   ]
  },
  {
   "cell_type": "markdown",
   "metadata": {},
   "source": [
    "#### Metrics: User-Personalization"
   ]
  },
  {
   "cell_type": "code",
   "execution_count": 6,
   "metadata": {},
   "outputs": [
    {
     "name": "stdout",
     "output_type": "stream",
     "text": [
      "{\n",
      "  \"solutionVersionArn\": \"arn:aws:personalize:ap-northeast-2:057716757052:solution/Movielens-user-personalization-60498/2ea58de0\",\n",
      "  \"metrics\": {\n",
      "    \"coverage\": 0.2959,\n",
      "    \"mean_reciprocal_rank_at_25\": 0.2335,\n",
      "    \"normalized_discounted_cumulative_gain_at_10\": 0.2301,\n",
      "    \"normalized_discounted_cumulative_gain_at_25\": 0.3161,\n",
      "    \"normalized_discounted_cumulative_gain_at_5\": 0.1751,\n",
      "    \"precision_at_10\": 0.082,\n",
      "    \"precision_at_25\": 0.0616,\n",
      "    \"precision_at_5\": 0.0942\n",
      "  },\n",
      "  \"ResponseMetadata\": {\n",
      "    \"RequestId\": \"1c587611-8b78-4196-b772-be29c15a4254\",\n",
      "    \"HTTPStatusCode\": 200,\n",
      "    \"HTTPHeaders\": {\n",
      "      \"content-type\": \"application/x-amz-json-1.1\",\n",
      "      \"date\": \"Mon, 07 Sep 2020 10:15:33 GMT\",\n",
      "      \"x-amzn-requestid\": \"1c587611-8b78-4196-b772-be29c15a4254\",\n",
      "      \"content-length\": \"424\",\n",
      "      \"connection\": \"keep-alive\"\n",
      "    },\n",
      "    \"RetryAttempts\": 0\n",
      "  }\n",
      "}\n"
     ]
    }
   ],
   "source": [
    "get_solution_metrics_response = personalize.get_solution_metrics(\n",
    "    solutionVersionArn = user_personalization_solution_version_arn\n",
    ")\n",
    "\n",
    "print(json.dumps(get_solution_metrics_response, indent=2))\n",
    "\n",
    "build_metric_matrix('user_personalization',get_solution_metrics_response)"
   ]
  },
  {
   "cell_type": "markdown",
   "metadata": {},
   "source": [
    "#### Metrics: HRNN"
   ]
  },
  {
   "cell_type": "code",
   "execution_count": 7,
   "metadata": {},
   "outputs": [
    {
     "name": "stdout",
     "output_type": "stream",
     "text": [
      "{\n",
      "  \"solutionVersionArn\": \"arn:aws:personalize:ap-northeast-2:057716757052:solution/Movielens-aws-hrnn-60498/b1d26512\",\n",
      "  \"metrics\": {\n",
      "    \"coverage\": 0.6349,\n",
      "    \"mean_reciprocal_rank_at_25\": 0.2438,\n",
      "    \"normalized_discounted_cumulative_gain_at_10\": 0.2456,\n",
      "    \"normalized_discounted_cumulative_gain_at_25\": 0.3312,\n",
      "    \"normalized_discounted_cumulative_gain_at_5\": 0.1991,\n",
      "    \"precision_at_10\": 0.0824,\n",
      "    \"precision_at_25\": 0.0627,\n",
      "    \"precision_at_5\": 0.1013\n",
      "  },\n",
      "  \"ResponseMetadata\": {\n",
      "    \"RequestId\": \"68804574-2e87-4079-a68a-3a258c20a1a9\",\n",
      "    \"HTTPStatusCode\": 200,\n",
      "    \"HTTPHeaders\": {\n",
      "      \"content-type\": \"application/x-amz-json-1.1\",\n",
      "      \"date\": \"Mon, 07 Sep 2020 10:15:33 GMT\",\n",
      "      \"x-amzn-requestid\": \"68804574-2e87-4079-a68a-3a258c20a1a9\",\n",
      "      \"content-length\": \"413\",\n",
      "      \"connection\": \"keep-alive\"\n",
      "    },\n",
      "    \"RetryAttempts\": 0\n",
      "  }\n",
      "}\n"
     ]
    }
   ],
   "source": [
    "get_solution_metrics_response = personalize.get_solution_metrics(\n",
    "    solutionVersionArn = hrnn_solution_version_arn\n",
    ")\n",
    "\n",
    "print(json.dumps(get_solution_metrics_response, indent=2))\n",
    "\n",
    "build_metric_matrix('hrnn',get_solution_metrics_response)"
   ]
  },
  {
   "cell_type": "markdown",
   "metadata": {},
   "source": [
    "#### Metrics: HRNN-Meta"
   ]
  },
  {
   "cell_type": "code",
   "execution_count": 8,
   "metadata": {},
   "outputs": [
    {
     "name": "stdout",
     "output_type": "stream",
     "text": [
      "{\n",
      "  \"solutionVersionArn\": \"arn:aws:personalize:ap-northeast-2:057716757052:solution/Movielens-aws-hrnn-metadata-60498/765fd88d\",\n",
      "  \"metrics\": {\n",
      "    \"coverage\": 0.5898,\n",
      "    \"mean_reciprocal_rank_at_25\": 0.2427,\n",
      "    \"normalized_discounted_cumulative_gain_at_10\": 0.2354,\n",
      "    \"normalized_discounted_cumulative_gain_at_25\": 0.3281,\n",
      "    \"normalized_discounted_cumulative_gain_at_5\": 0.1884,\n",
      "    \"precision_at_10\": 0.077,\n",
      "    \"precision_at_25\": 0.0613,\n",
      "    \"precision_at_5\": 0.0961\n",
      "  },\n",
      "  \"ResponseMetadata\": {\n",
      "    \"RequestId\": \"e4a79fc0-c866-4053-892c-67acd0addd7d\",\n",
      "    \"HTTPStatusCode\": 200,\n",
      "    \"HTTPHeaders\": {\n",
      "      \"content-type\": \"application/x-amz-json-1.1\",\n",
      "      \"date\": \"Mon, 07 Sep 2020 10:15:34 GMT\",\n",
      "      \"x-amzn-requestid\": \"e4a79fc0-c866-4053-892c-67acd0addd7d\",\n",
      "      \"content-length\": \"421\",\n",
      "      \"connection\": \"keep-alive\"\n",
      "    },\n",
      "    \"RetryAttempts\": 0\n",
      "  }\n",
      "}\n"
     ]
    }
   ],
   "source": [
    "get_solution_metrics_response = personalize.get_solution_metrics(\n",
    "    solutionVersionArn = hrnn_meta_solution_version_arn\n",
    ")\n",
    "\n",
    "print(json.dumps(get_solution_metrics_response, indent=2))\n",
    "build_metric_matrix('hrnn_meta',get_solution_metrics_response)"
   ]
  },
  {
   "cell_type": "markdown",
   "metadata": {},
   "source": [
    "#### Metrics: HRNN-Coldstart"
   ]
  },
  {
   "cell_type": "code",
   "execution_count": 9,
   "metadata": {},
   "outputs": [
    {
     "name": "stdout",
     "output_type": "stream",
     "text": [
      "{\n",
      "  \"solutionVersionArn\": \"arn:aws:personalize:ap-northeast-2:057716757052:solution/Movielens-hrnn-coldstart-60498/7e3c69db\",\n",
      "  \"metrics\": {\n",
      "    \"coverage\": 0.229,\n",
      "    \"mean_reciprocal_rank_at_25\": 0.0038,\n",
      "    \"normalized_discounted_cumulative_gain_at_10\": 0.0044,\n",
      "    \"normalized_discounted_cumulative_gain_at_25\": 0.0077,\n",
      "    \"normalized_discounted_cumulative_gain_at_5\": 0.0032,\n",
      "    \"precision_at_10\": 0.0006,\n",
      "    \"precision_at_25\": 0.0008,\n",
      "    \"precision_at_5\": 0.0006\n",
      "  },\n",
      "  \"ResponseMetadata\": {\n",
      "    \"RequestId\": \"c14a6af7-795a-44c1-a242-746f5021903f\",\n",
      "    \"HTTPStatusCode\": 200,\n",
      "    \"HTTPHeaders\": {\n",
      "      \"content-type\": \"application/x-amz-json-1.1\",\n",
      "      \"date\": \"Mon, 07 Sep 2020 10:15:33 GMT\",\n",
      "      \"x-amzn-requestid\": \"c14a6af7-795a-44c1-a242-746f5021903f\",\n",
      "      \"content-length\": \"418\",\n",
      "      \"connection\": \"keep-alive\"\n",
      "    },\n",
      "    \"RetryAttempts\": 0\n",
      "  }\n",
      "}\n"
     ]
    }
   ],
   "source": [
    "get_solution_metrics_response = personalize.get_solution_metrics(\n",
    "    solutionVersionArn = hrnn_coldstart_solution_version_arn\n",
    ")\n",
    "\n",
    "print(json.dumps(get_solution_metrics_response, indent=2))\n",
    "build_metric_matrix('hrnn_coldstart',get_solution_metrics_response)"
   ]
  },
  {
   "cell_type": "markdown",
   "metadata": {},
   "source": [
    "#### Metrics: SIMS"
   ]
  },
  {
   "cell_type": "code",
   "execution_count": 10,
   "metadata": {},
   "outputs": [
    {
     "name": "stdout",
     "output_type": "stream",
     "text": [
      "{\n",
      "  \"solutionVersionArn\": \"arn:aws:personalize:ap-northeast-2:057716757052:solution/Movielens-sims-60498/3d08ae29\",\n",
      "  \"metrics\": {\n",
      "    \"coverage\": 0.7622,\n",
      "    \"mean_reciprocal_rank_at_25\": 0.1807,\n",
      "    \"normalized_discounted_cumulative_gain_at_10\": 0.1834,\n",
      "    \"normalized_discounted_cumulative_gain_at_25\": 0.2516,\n",
      "    \"normalized_discounted_cumulative_gain_at_5\": 0.151,\n",
      "    \"precision_at_10\": 0.0533,\n",
      "    \"precision_at_25\": 0.0404,\n",
      "    \"precision_at_5\": 0.0686\n",
      "  },\n",
      "  \"ResponseMetadata\": {\n",
      "    \"RequestId\": \"56e103e0-958f-403f-b5c1-04098061a37f\",\n",
      "    \"HTTPStatusCode\": 200,\n",
      "    \"HTTPHeaders\": {\n",
      "      \"content-type\": \"application/x-amz-json-1.1\",\n",
      "      \"date\": \"Mon, 07 Sep 2020 10:15:33 GMT\",\n",
      "      \"x-amzn-requestid\": \"56e103e0-958f-403f-b5c1-04098061a37f\",\n",
      "      \"content-length\": \"408\",\n",
      "      \"connection\": \"keep-alive\"\n",
      "    },\n",
      "    \"RetryAttempts\": 0\n",
      "  }\n",
      "}\n"
     ]
    }
   ],
   "source": [
    "get_solution_metrics_response = personalize.get_solution_metrics(\n",
    "    solutionVersionArn = sims_solution_version_arn\n",
    ")\n",
    "\n",
    "print(json.dumps(get_solution_metrics_response, indent=2))\n",
    "build_metric_matrix('sims',get_solution_metrics_response)"
   ]
  },
  {
   "cell_type": "markdown",
   "metadata": {},
   "source": [
    "#### Metrics: Ranking"
   ]
  },
  {
   "cell_type": "code",
   "execution_count": 11,
   "metadata": {},
   "outputs": [
    {
     "name": "stdout",
     "output_type": "stream",
     "text": [
      "{\n",
      "  \"solutionVersionArn\": \"arn:aws:personalize:ap-northeast-2:057716757052:solution/Movielens-ranking-60498/f669db6d\",\n",
      "  \"metrics\": {\n",
      "    \"coverage\": 0.0136,\n",
      "    \"mean_reciprocal_rank_at_25\": 0.0865,\n",
      "    \"normalized_discounted_cumulative_gain_at_10\": 0.1149,\n",
      "    \"normalized_discounted_cumulative_gain_at_25\": 0.1379,\n",
      "    \"normalized_discounted_cumulative_gain_at_5\": 0.0928,\n",
      "    \"precision_at_10\": 0.0236,\n",
      "    \"precision_at_25\": 0.0145,\n",
      "    \"precision_at_5\": 0.0299\n",
      "  },\n",
      "  \"ResponseMetadata\": {\n",
      "    \"RequestId\": \"86003d4b-3261-4921-8651-fe99e69ffc89\",\n",
      "    \"HTTPStatusCode\": 200,\n",
      "    \"HTTPHeaders\": {\n",
      "      \"content-type\": \"application/x-amz-json-1.1\",\n",
      "      \"date\": \"Mon, 07 Sep 2020 10:15:33 GMT\",\n",
      "      \"x-amzn-requestid\": \"86003d4b-3261-4921-8651-fe99e69ffc89\",\n",
      "      \"content-length\": \"412\",\n",
      "      \"connection\": \"keep-alive\"\n",
      "    },\n",
      "    \"RetryAttempts\": 0\n",
      "  }\n",
      "}\n"
     ]
    }
   ],
   "source": [
    "get_solution_metrics_response = personalize.get_solution_metrics(\n",
    "    solutionVersionArn = ranking_solution_version_arn \n",
    ")\n",
    "\n",
    "print(json.dumps(get_solution_metrics_response, indent=2))\n",
    "build_metric_matrix('ranking',get_solution_metrics_response)"
   ]
  },
  {
   "cell_type": "markdown",
   "metadata": {},
   "source": [
    "## Summary Metrics\n",
    "\n",
    "#### 1. 솔류션 평가 지표 정의\n",
    "[솔류션 평가 지표 정의](https://docs.aws.amazon.com/personalize/latest/dg/working-with-training-metrics.html)\n",
    "는 개발자 문서의 링크 참조 바랍니다. 또한 이 링크 [솔류션 평가 정의 예제](http://francescopochetti.com/recommend-expedia-hotels-with-amazon-personalize-the-magic-of-hierarchical-rnns/) 의 페이지 맨 아래 쪽을 보시면 조금 더 직관적인 그림을 보실 수 있습니다.\n",
    " <br>\n",
    "또한 reciprocal_rank_at_5, normalized_discounted_cumulative_gain_at_5,precision_at_5 의 예제는 아래와 같습니다. \n",
    "* Exmaple\n",
    "    * 5 개의 추천리스트를 제공했고, 이 중에 2번째와 5번째가 실제 데이타와 일치 했다고 하면, 쉽게 이렇게 [0,1,0,0,1] 표시 할 수 있습니다.\n",
    "        * reciprocal_rank\n",
    "            * 1/2 (0.5) # 가장 빠른 순서의 하나만을 선택 합니다\n",
    "        * normalized_discounted_cumulative_gain_at_5\n",
    "            * (1/log(1+2) + 1/log(1+5)) / (1/log(1+1) + 1/log(1+2)) = 0.6241\n",
    "        * precision_at_5\n",
    "            * 2/5 (0.4)\n",
    "\n",
    "#### 2. 솔류션 버전의 성능 지표 분석\n",
    "\n",
    "레서피의 종류는 크게 세가지 입니다. 각각에 대해 확인을 해보겠습니다.\n",
    "#### 1. USER_PERSONALIZATION Recipes\n",
    "- 5가지 (popularity,user_personalization,hrnn,hrnn_meta,hrnn_coldstart) 있습니다.\n",
    "- popularity 는 베이스라인의 레서피로서 샤용을 주로 합니다. 모든 지표에서 가장 낮은 수치를 보입니다.\n",
    "- hrnn, hrnn-meta, user_personalization 이 전반적으로 가장 높은 성능을 보여 줍니다. user_personalization은 default로 exploration_weight=0.3 입니다. coldstart item 이 거의 없는 상태에서도 높은 성능을 보여 주고 있습니다.학습 데이터의 인터렉션 데이터에 콜드 스타트 아이템이 전형 없기에 성능은 감소합니다. 이 경우에는 exloration_weight = 0을 하게 되면 콜드 스타트의 아이템을 배제하고 추천 합니다.<br>\n",
    "이 링크 [exploration_weight](https://docs.aws.amazon.com/personalize/latest/dg/native-recipe-new-item-USER_PERSONALIZATION.html)에서 \"Item Exploration Configuration Hyperparameters\" 이 부분을 참고 하세요.<br>\n",
    "- hrnn_coldstart 는coldstart item 이 거의 없는 상태이기에 성능이 낮게 나오는 것이 정상 으로 보입니다.\n",
    "\n",
    "#### 2. RELATED_ITEMS Recipes\n",
    "- sims 가 부류에 속하는 레서피로 커버리지가 높게 나왔습니다.\n",
    "\n",
    "#### 3. PERSONALIZED_RANKING Recipes\n",
    "- ranking 이 여기에 속합니다. \n",
    "\n",
    "\n",
    "<div>\n",
    "    <img src=\"static/imgs/Fig.3.2.metric_summary2.png\" width=\"800\">\n",
    "</div>\n",
    "\n",
    "---\n",
    "참고:\n",
    "*추천시에 시간에 대한 입력값이 들어가기에 추천 결과가 아래 이미지 (저자 실행)와 다를 수 있습니다. 여러 번 테스트 시에 매번 조금씩 다르게 나옴을 확인 하였습니다.<br>\n",
    "레서비의 정의는 개발자 문서 참고 하세요 --> [레서피 정의](https://docs.aws.amazon.com/personalize/latest/dg/working-with-predefined-recipes.html)\n"
   ]
  },
  {
   "cell_type": "code",
   "execution_count": 12,
   "metadata": {},
   "outputs": [
    {
     "data": {
      "text/html": [
       "<div>\n",
       "<style scoped>\n",
       "    .dataframe tbody tr th:only-of-type {\n",
       "        vertical-align: middle;\n",
       "    }\n",
       "\n",
       "    .dataframe tbody tr th {\n",
       "        vertical-align: top;\n",
       "    }\n",
       "\n",
       "    .dataframe thead th {\n",
       "        text-align: right;\n",
       "    }\n",
       "</style>\n",
       "<table border=\"1\" class=\"dataframe\">\n",
       "  <thead>\n",
       "    <tr style=\"text-align: right;\">\n",
       "      <th></th>\n",
       "      <th>recipe</th>\n",
       "      <th>coverage</th>\n",
       "      <th>mrr@25</th>\n",
       "      <th>ndcg@5</th>\n",
       "      <th>ndcg@10</th>\n",
       "      <th>ndcg@25</th>\n",
       "      <th>p@5</th>\n",
       "      <th>p@10</th>\n",
       "      <th>p@25</th>\n",
       "    </tr>\n",
       "  </thead>\n",
       "  <tbody>\n",
       "    <tr>\n",
       "      <th>0</th>\n",
       "      <td>popularity</td>\n",
       "      <td>0.0136</td>\n",
       "      <td>0.0456</td>\n",
       "      <td>0.0362</td>\n",
       "      <td>0.0606</td>\n",
       "      <td>0.0981</td>\n",
       "      <td>0.0143</td>\n",
       "      <td>0.0163</td>\n",
       "      <td>0.0150</td>\n",
       "    </tr>\n",
       "    <tr>\n",
       "      <th>1</th>\n",
       "      <td>user_personalization</td>\n",
       "      <td>0.2959</td>\n",
       "      <td>0.2335</td>\n",
       "      <td>0.1751</td>\n",
       "      <td>0.2301</td>\n",
       "      <td>0.3161</td>\n",
       "      <td>0.0942</td>\n",
       "      <td>0.0820</td>\n",
       "      <td>0.0616</td>\n",
       "    </tr>\n",
       "    <tr>\n",
       "      <th>2</th>\n",
       "      <td>hrnn</td>\n",
       "      <td>0.6349</td>\n",
       "      <td>0.2438</td>\n",
       "      <td>0.1991</td>\n",
       "      <td>0.2456</td>\n",
       "      <td>0.3312</td>\n",
       "      <td>0.1013</td>\n",
       "      <td>0.0824</td>\n",
       "      <td>0.0627</td>\n",
       "    </tr>\n",
       "    <tr>\n",
       "      <th>3</th>\n",
       "      <td>hrnn_meta</td>\n",
       "      <td>0.5898</td>\n",
       "      <td>0.2427</td>\n",
       "      <td>0.1884</td>\n",
       "      <td>0.2354</td>\n",
       "      <td>0.3281</td>\n",
       "      <td>0.0961</td>\n",
       "      <td>0.0770</td>\n",
       "      <td>0.0613</td>\n",
       "    </tr>\n",
       "    <tr>\n",
       "      <th>4</th>\n",
       "      <td>hrnn_coldstart</td>\n",
       "      <td>0.2290</td>\n",
       "      <td>0.0038</td>\n",
       "      <td>0.0032</td>\n",
       "      <td>0.0044</td>\n",
       "      <td>0.0077</td>\n",
       "      <td>0.0006</td>\n",
       "      <td>0.0006</td>\n",
       "      <td>0.0008</td>\n",
       "    </tr>\n",
       "    <tr>\n",
       "      <th>5</th>\n",
       "      <td>sims</td>\n",
       "      <td>0.7622</td>\n",
       "      <td>0.1807</td>\n",
       "      <td>0.1510</td>\n",
       "      <td>0.1834</td>\n",
       "      <td>0.2516</td>\n",
       "      <td>0.0686</td>\n",
       "      <td>0.0533</td>\n",
       "      <td>0.0404</td>\n",
       "    </tr>\n",
       "    <tr>\n",
       "      <th>6</th>\n",
       "      <td>ranking</td>\n",
       "      <td>0.0136</td>\n",
       "      <td>0.0865</td>\n",
       "      <td>0.0928</td>\n",
       "      <td>0.1149</td>\n",
       "      <td>0.1379</td>\n",
       "      <td>0.0299</td>\n",
       "      <td>0.0236</td>\n",
       "      <td>0.0145</td>\n",
       "    </tr>\n",
       "  </tbody>\n",
       "</table>\n",
       "</div>"
      ],
      "text/plain": [
       "                 recipe  coverage  mrr@25  ndcg@5  ndcg@10  ndcg@25     p@5  \\\n",
       "0            popularity    0.0136  0.0456  0.0362   0.0606   0.0981  0.0143   \n",
       "1  user_personalization    0.2959  0.2335  0.1751   0.2301   0.3161  0.0942   \n",
       "2                  hrnn    0.6349  0.2438  0.1991   0.2456   0.3312  0.1013   \n",
       "3             hrnn_meta    0.5898  0.2427  0.1884   0.2354   0.3281  0.0961   \n",
       "4        hrnn_coldstart    0.2290  0.0038  0.0032   0.0044   0.0077  0.0006   \n",
       "5                  sims    0.7622  0.1807  0.1510   0.1834   0.2516  0.0686   \n",
       "6               ranking    0.0136  0.0865  0.0928   0.1149   0.1379  0.0299   \n",
       "\n",
       "     p@10    p@25  \n",
       "0  0.0163  0.0150  \n",
       "1  0.0820  0.0616  \n",
       "2  0.0824  0.0627  \n",
       "3  0.0770  0.0613  \n",
       "4  0.0006  0.0008  \n",
       "5  0.0533  0.0404  \n",
       "6  0.0236  0.0145  "
      ]
     },
     "execution_count": 12,
     "metadata": {},
     "output_type": "execute_result"
    }
   ],
   "source": [
    "recipe_metrics=pd.DataFrame(metrics,columns=['recipe','coverage','mrr@25','ndcg@5','ndcg@10','ndcg@25','p@5','p@10','p@25'])\n",
    "\n",
    "recipe_metrics"
   ]
  },
  {
   "cell_type": "code",
   "execution_count": 13,
   "metadata": {},
   "outputs": [
    {
     "name": "stdout",
     "output_type": "stream",
     "text": [
      "Stored 'user_personalization_solution_version_arn' (str)\n",
      "Stored 'user_personalization_solution_arn' (str)\n",
      "Stored 'hrnn_solution_version_arn' (str)\n",
      "Stored 'hrnn_solution_arn' (str)\n",
      "Stored 'hrnn_meta_solution_version_arn' (str)\n",
      "Stored 'hrnn_meta_solution_arn' (str)\n",
      "Stored 'hrnn_coldstart_solution_version_arn' (str)\n",
      "Stored 'hrnn_coldstart_solution_arn' (str)\n",
      "Stored 'sims_solution_version_arn' (str)\n",
      "Stored 'sims_solution_arn' (str)\n"
     ]
    }
   ],
   "source": [
    "%store user_personalization_solution_version_arn\n",
    "%store user_personalization_solution_arn\n",
    "\n",
    "\n",
    "%store hrnn_solution_version_arn\n",
    "%store hrnn_solution_arn\n",
    "\n",
    "%store hrnn_meta_solution_version_arn\n",
    "%store hrnn_meta_solution_arn\n",
    "\n",
    "%store hrnn_coldstart_solution_version_arn\n",
    "%store hrnn_coldstart_solution_arn\n",
    "\n",
    "%store sims_solution_version_arn\n",
    "%store sims_solution_arn\n"
   ]
  },
  {
   "cell_type": "code",
   "execution_count": null,
   "metadata": {},
   "outputs": [],
   "source": []
  }
 ],
 "metadata": {
  "kernelspec": {
   "display_name": "conda_python3",
   "language": "python",
   "name": "conda_python3"
  },
  "language_info": {
   "codemirror_mode": {
    "name": "ipython",
    "version": 3
   },
   "file_extension": ".py",
   "mimetype": "text/x-python",
   "name": "python",
   "nbconvert_exporter": "python",
   "pygments_lexer": "ipython3",
   "version": "3.6.10"
  }
 },
 "nbformat": 4,
 "nbformat_minor": 4
}
