{
 "cells": [
  {
   "cell_type": "markdown",
   "metadata": {},
   "source": [
    "# [Module 3.1] Personalize 솔류션 및 솔류션 버전 생성\n",
    "\n",
    "이 노트북은 Module1에서 생성한 데이타셋 그룹, 데이타셋을 바탕으로 아래와 같은 작업을 합니다.\n",
    "\n",
    "* 레서피(알고리즘) 선택 및 7가지 솔류션 생성\n",
    "* 4가지 솔류션 버전 생성\n",
    "\n",
    "--- \n",
    "이 노트북은 약 50분 소요 됩니다.\n",
    "\n"
   ]
  },
  {
   "cell_type": "code",
   "execution_count": 1,
   "metadata": {},
   "outputs": [],
   "source": [
    "# Imports\n",
    "import boto3\n",
    "import json\n",
    "import numpy as np\n",
    "import pandas as pd\n",
    "import time\n"
   ]
  },
  {
   "cell_type": "markdown",
   "metadata": {},
   "source": [
    "다음으로 여러분의 환경이 Amazon Personalize와 성공적으로 통신할 수 있는지 확인해야 합니다."
   ]
  },
  {
   "cell_type": "code",
   "execution_count": 2,
   "metadata": {},
   "outputs": [
    {
     "name": "stderr",
     "output_type": "stream",
     "text": [
      "/home/ec2-user/anaconda3/envs/python3/lib/python3.6/site-packages/boto3/compat.py:88: PythonDeprecationWarning: Boto3 will no longer support Python 3.6 starting May 30, 2022. To continue receiving service updates, bug fixes, and security updates please upgrade to Python 3.7 or later. More information can be found here: https://aws.amazon.com/blogs/developer/python-support-policy-updates-for-aws-sdks-and-tools/\n",
      "  warnings.warn(warning, PythonDeprecationWarning)\n"
     ]
    }
   ],
   "source": [
    "# Configure the SDK to Personalize:\n",
    "personalize = boto3.client('personalize')"
   ]
  },
  {
   "cell_type": "markdown",
   "metadata": {},
   "source": [
    "아래 코드 셀은 이전 notebook에서 저장했던 공유 변수들을 불러옵니다."
   ]
  },
  {
   "cell_type": "code",
   "execution_count": 3,
   "metadata": {},
   "outputs": [],
   "source": [
    "%store -r"
   ]
  },
  {
   "cell_type": "markdown",
   "metadata": {},
   "source": [
    "생성할 오브젝트의 끝에 임의의 숫자를 부여하기 위해 suffix 정의"
   ]
  },
  {
   "cell_type": "code",
   "execution_count": 4,
   "metadata": {},
   "outputs": [],
   "source": [
    "suffix = str(np.random.uniform())[4:9]"
   ]
  },
  {
   "cell_type": "markdown",
   "metadata": {},
   "source": [
    "## 솔루션 및 버전 생성\n",
    "\n",
    "Amazon Personalize에서 훈련된 모델을 솔루션이라고 하며, 각 솔루션에는 모델이 훈련되었을 때 주어진 데이터량과 관련된 많은 특정 버전들이 있을 수 있습니다.\n",
    "\n",
    "우선, Amazon Personalize에서 지원되는 모든 레시피(레시피는 아직 데이터에 대해 훈련되지 않은 알고리즘입니다.)들을 나열합니다. 리스트업된 레시피들 중 하나를 선택하고 이를 사용하여 모델을 빌드해 보세요.\n",
    "\n",
    "이 LAB에서 아래와 같은 모든 솔루션을 생성하여 성능을 비교하여 봅니다.\n",
    "\n",
    "    1) User-Personalization \n",
    "    2) popularity-count \n",
    "    3) similar-items\n",
    "    4) Personalized Ranking\n",
    "\n",
    "이 프로세스의 완료는 실제로 40분 이상 소요됩니다. 작업이 완료될 때까지(즉, 활성화 상태가 될 때까지) while 루프를 수행하는 방법도 있지만, 이렇게 하면 다른 셀의 실행을 차단하게 됩니다. 따라서, 많은 모델을 만들어 신속하게 배포하려면 while 루프를 사용하는 대신, 필요한 솔루션 버전들을 생성 후, SageMaker 및 Cloudwatch에서 업데이트를 확인하세요.\n",
    "\n",
    "###  레시피 리스트 확인"
   ]
  },
  {
   "cell_type": "code",
   "execution_count": 6,
   "metadata": {},
   "outputs": [
    {
     "name": "stdout",
     "output_type": "stream",
     "text": [
      "arn:aws:personalize:::recipe/aws-ecomm-customers-who-viewed-x-also-viewed\n",
      "arn:aws:personalize:::recipe/aws-ecomm-frequently-bought-together\n",
      "arn:aws:personalize:::recipe/aws-ecomm-popular-items-by-purchases\n",
      "arn:aws:personalize:::recipe/aws-ecomm-popular-items-by-views\n",
      "arn:aws:personalize:::recipe/aws-ecomm-recommended-for-you\n",
      "arn:aws:personalize:::recipe/aws-item-affinity\n",
      "arn:aws:personalize:::recipe/aws-item-attribute-affinity\n",
      "arn:aws:personalize:::recipe/aws-personalized-ranking\n",
      "arn:aws:personalize:::recipe/aws-popularity-count\n",
      "arn:aws:personalize:::recipe/aws-similar-items\n",
      "arn:aws:personalize:::recipe/aws-sims\n"
     ]
    }
   ],
   "source": [
    "recipe_list = personalize.list_recipes()\n",
    "for recipe in recipe_list['recipes']:\n",
    "    print(recipe['recipeArn'])"
   ]
  },
  {
   "cell_type": "markdown",
   "metadata": {},
   "source": [
    "###  User-Personalization 솔루션 생성 "
   ]
  },
  {
   "cell_type": "code",
   "execution_count": 7,
   "metadata": {},
   "outputs": [],
   "source": [
    "# Recipe 선택 \n",
    "system_user_personalization_recipe_arn = \"arn:aws:personalize:::recipe/aws-user-personalization\"\n",
    "\n",
    "# Solution 생성 \n",
    "create_solution_response = personalize.create_solution(\n",
    "    name = \"Movielens-user-personalization-\" + suffix,\n",
    "    datasetGroupArn = dataset_group_arn,\n",
    "    recipeArn = system_user_personalization_recipe_arn,\n",
    ")"
   ]
  },
  {
   "cell_type": "code",
   "execution_count": 8,
   "metadata": {},
   "outputs": [
    {
     "name": "stdout",
     "output_type": "stream",
     "text": [
      "{\n",
      "  \"solutionArn\": \"arn:aws:personalize:ap-northeast-2:057716757052:solution/Movielens-user-personalization-08866\",\n",
      "  \"ResponseMetadata\": {\n",
      "    \"RequestId\": \"86480f70-24d5-4edd-a20e-95dbb9f20073\",\n",
      "    \"HTTPStatusCode\": 200,\n",
      "    \"HTTPHeaders\": {\n",
      "      \"date\": \"Sun, 26 Feb 2023 02:10:14 GMT\",\n",
      "      \"content-type\": \"application/x-amz-json-1.1\",\n",
      "      \"content-length\": \"111\",\n",
      "      \"connection\": \"keep-alive\",\n",
      "      \"x-amzn-requestid\": \"86480f70-24d5-4edd-a20e-95dbb9f20073\"\n",
      "    },\n",
      "    \"RetryAttempts\": 0\n",
      "  }\n",
      "}\n"
     ]
    }
   ],
   "source": [
    "user_personalization_solution_arn = create_solution_response['solutionArn']\n",
    "print(json.dumps(create_solution_response, indent=2))"
   ]
  },
  {
   "cell_type": "code",
   "execution_count": 9,
   "metadata": {},
   "outputs": [
    {
     "name": "stdout",
     "output_type": "stream",
     "text": [
      "{\n",
      "  \"solutionVersionArn\": \"arn:aws:personalize:ap-northeast-2:057716757052:solution/Movielens-user-personalization-08866/02d2bad5\",\n",
      "  \"ResponseMetadata\": {\n",
      "    \"RequestId\": \"ea94a723-2faa-4114-932f-12348d7419ec\",\n",
      "    \"HTTPStatusCode\": 200,\n",
      "    \"HTTPHeaders\": {\n",
      "      \"date\": \"Sun, 26 Feb 2023 02:10:22 GMT\",\n",
      "      \"content-type\": \"application/x-amz-json-1.1\",\n",
      "      \"content-length\": \"127\",\n",
      "      \"connection\": \"keep-alive\",\n",
      "      \"x-amzn-requestid\": \"ea94a723-2faa-4114-932f-12348d7419ec\"\n",
      "    },\n",
      "    \"RetryAttempts\": 0\n",
      "  }\n",
      "}\n"
     ]
    }
   ],
   "source": [
    "# 솔루션 버전 생성\n",
    "create_solution_version_response = personalize.create_solution_version(\n",
    "    solutionArn = user_personalization_solution_arn\n",
    ")\n",
    "\n",
    "user_personalization_solution_version_arn = create_solution_version_response['solutionVersionArn']\n",
    "print(json.dumps(create_solution_version_response, indent=2))"
   ]
  },
  {
   "cell_type": "markdown",
   "metadata": {},
   "source": [
    "###  Popularity Count 솔루션 생성 "
   ]
  },
  {
   "cell_type": "code",
   "execution_count": 10,
   "metadata": {},
   "outputs": [],
   "source": [
    "# Recipe 선택 \n",
    "system_popularity_recipe_arn = \"arn:aws:personalize:::recipe/aws-popularity-count\"\n",
    "\n",
    "# Solution 생성 \n",
    "create_solution_response = personalize.create_solution(\n",
    "    name = \"Movielens-popularity-\" + suffix,\n",
    "    datasetGroupArn = dataset_group_arn,\n",
    "    recipeArn = system_popularity_recipe_arn,\n",
    ")\n",
    "\n"
   ]
  },
  {
   "cell_type": "code",
   "execution_count": 11,
   "metadata": {},
   "outputs": [
    {
     "name": "stdout",
     "output_type": "stream",
     "text": [
      "{\n",
      "  \"solutionArn\": \"arn:aws:personalize:ap-northeast-2:057716757052:solution/Movielens-popularity-08866\",\n",
      "  \"ResponseMetadata\": {\n",
      "    \"RequestId\": \"70d569cf-27c3-40e7-8a71-270e31009d84\",\n",
      "    \"HTTPStatusCode\": 200,\n",
      "    \"HTTPHeaders\": {\n",
      "      \"date\": \"Sun, 26 Feb 2023 02:10:27 GMT\",\n",
      "      \"content-type\": \"application/x-amz-json-1.1\",\n",
      "      \"content-length\": \"101\",\n",
      "      \"connection\": \"keep-alive\",\n",
      "      \"x-amzn-requestid\": \"70d569cf-27c3-40e7-8a71-270e31009d84\"\n",
      "    },\n",
      "    \"RetryAttempts\": 0\n",
      "  }\n",
      "}\n"
     ]
    }
   ],
   "source": [
    "popularity_solution_arn = create_solution_response['solutionArn']\n",
    "print(json.dumps(create_solution_response, indent=2))"
   ]
  },
  {
   "cell_type": "code",
   "execution_count": 12,
   "metadata": {},
   "outputs": [
    {
     "name": "stdout",
     "output_type": "stream",
     "text": [
      "{\n",
      "  \"solutionVersionArn\": \"arn:aws:personalize:ap-northeast-2:057716757052:solution/Movielens-popularity-08866/b9eddfc3\",\n",
      "  \"ResponseMetadata\": {\n",
      "    \"RequestId\": \"7b225f9a-516d-4d33-b790-f460191b19f0\",\n",
      "    \"HTTPStatusCode\": 200,\n",
      "    \"HTTPHeaders\": {\n",
      "      \"date\": \"Sun, 26 Feb 2023 02:10:32 GMT\",\n",
      "      \"content-type\": \"application/x-amz-json-1.1\",\n",
      "      \"content-length\": \"117\",\n",
      "      \"connection\": \"keep-alive\",\n",
      "      \"x-amzn-requestid\": \"7b225f9a-516d-4d33-b790-f460191b19f0\"\n",
      "    },\n",
      "    \"RetryAttempts\": 0\n",
      "  }\n",
      "}\n"
     ]
    }
   ],
   "source": [
    "# 솔루션 버전 생성\n",
    "create_solution_version_response = personalize.create_solution_version(\n",
    "    solutionArn = popularity_solution_arn\n",
    ")\n",
    "\n",
    "popularity_solution_version_arn = create_solution_version_response['solutionVersionArn']\n",
    "print(json.dumps(create_solution_version_response, indent=2))"
   ]
  },
  {
   "cell_type": "markdown",
   "metadata": {},
   "source": [
    "### Similar ITEMS 솔루션 생성 "
   ]
  },
  {
   "cell_type": "code",
   "execution_count": 13,
   "metadata": {},
   "outputs": [
    {
     "name": "stdout",
     "output_type": "stream",
     "text": [
      "{\n",
      "  \"solutionArn\": \"arn:aws:personalize:ap-northeast-2:057716757052:solution/Movielens-similar-items-08866\",\n",
      "  \"ResponseMetadata\": {\n",
      "    \"RequestId\": \"145d2a2a-4f06-46a7-8564-be7c1ba860a2\",\n",
      "    \"HTTPStatusCode\": 200,\n",
      "    \"HTTPHeaders\": {\n",
      "      \"date\": \"Sun, 26 Feb 2023 02:12:28 GMT\",\n",
      "      \"content-type\": \"application/x-amz-json-1.1\",\n",
      "      \"content-length\": \"104\",\n",
      "      \"connection\": \"keep-alive\",\n",
      "      \"x-amzn-requestid\": \"145d2a2a-4f06-46a7-8564-be7c1ba860a2\"\n",
      "    },\n",
      "    \"RetryAttempts\": 0\n",
      "  }\n",
      "}\n"
     ]
    }
   ],
   "source": [
    " # Recipe 선택 \n",
    "system_sims_recipe_arn = \"arn:aws:personalize:::recipe/aws-similar-items\"\n",
    "\n",
    "# Solution 생성 \n",
    "create_solution_response = personalize.create_solution(\n",
    "    name = \"Movielens-similar-items-\" + suffix,\n",
    "    datasetGroupArn = dataset_group_arn,\n",
    "    recipeArn = system_sims_recipe_arn\n",
    ")\n",
    "\n",
    "sims_solution_arn = create_solution_response['solutionArn']\n",
    "print(json.dumps(create_solution_response, indent=2))"
   ]
  },
  {
   "cell_type": "code",
   "execution_count": 14,
   "metadata": {},
   "outputs": [
    {
     "name": "stdout",
     "output_type": "stream",
     "text": [
      "{\n",
      "  \"solutionVersionArn\": \"arn:aws:personalize:ap-northeast-2:057716757052:solution/Movielens-similar-items-08866/8ef71484\",\n",
      "  \"ResponseMetadata\": {\n",
      "    \"RequestId\": \"4044d823-af1e-4f10-afa1-edaa06d0796f\",\n",
      "    \"HTTPStatusCode\": 200,\n",
      "    \"HTTPHeaders\": {\n",
      "      \"date\": \"Sun, 26 Feb 2023 02:12:31 GMT\",\n",
      "      \"content-type\": \"application/x-amz-json-1.1\",\n",
      "      \"content-length\": \"120\",\n",
      "      \"connection\": \"keep-alive\",\n",
      "      \"x-amzn-requestid\": \"4044d823-af1e-4f10-afa1-edaa06d0796f\"\n",
      "    },\n",
      "    \"RetryAttempts\": 0\n",
      "  }\n",
      "}\n"
     ]
    }
   ],
   "source": [
    "# 솔루션 버전 생성\n",
    "create_solution_version_response = personalize.create_solution_version(\n",
    "    solutionArn = sims_solution_arn\n",
    ")\n",
    "sims_solution_version_arn = create_solution_version_response['solutionVersionArn']\n",
    "print(json.dumps(create_solution_version_response, indent=2))"
   ]
  },
  {
   "cell_type": "markdown",
   "metadata": {},
   "source": [
    "### Personalize Ranking 솔루션 생성 "
   ]
  },
  {
   "cell_type": "code",
   "execution_count": 15,
   "metadata": {},
   "outputs": [
    {
     "name": "stdout",
     "output_type": "stream",
     "text": [
      "{\n",
      "  \"solutionArn\": \"arn:aws:personalize:ap-northeast-2:057716757052:solution/Movielens-ranking-08866\",\n",
      "  \"ResponseMetadata\": {\n",
      "    \"RequestId\": \"6fc47abb-5ada-4925-809d-8b0007f13668\",\n",
      "    \"HTTPStatusCode\": 200,\n",
      "    \"HTTPHeaders\": {\n",
      "      \"date\": \"Sun, 26 Feb 2023 02:12:34 GMT\",\n",
      "      \"content-type\": \"application/x-amz-json-1.1\",\n",
      "      \"content-length\": \"98\",\n",
      "      \"connection\": \"keep-alive\",\n",
      "      \"x-amzn-requestid\": \"6fc47abb-5ada-4925-809d-8b0007f13668\"\n",
      "    },\n",
      "    \"RetryAttempts\": 0\n",
      "  }\n",
      "}\n"
     ]
    }
   ],
   "source": [
    " # Recipe 선택 \n",
    "system_ranking_recipe_arn = \"arn:aws:personalize:::recipe/aws-personalized-ranking\"\n",
    "\n",
    "# Solution 생성 \n",
    "create_solution_response = personalize.create_solution(\n",
    "    name = \"Movielens-ranking-\" + suffix,\n",
    "    datasetGroupArn = dataset_group_arn,\n",
    "    recipeArn = system_ranking_recipe_arn\n",
    ")\n",
    "\n",
    "ranking_solution_arn = create_solution_response['solutionArn']\n",
    "print(json.dumps(create_solution_response, indent=2))"
   ]
  },
  {
   "cell_type": "code",
   "execution_count": 16,
   "metadata": {},
   "outputs": [
    {
     "name": "stdout",
     "output_type": "stream",
     "text": [
      "{\n",
      "  \"solutionVersionArn\": \"arn:aws:personalize:ap-northeast-2:057716757052:solution/Movielens-ranking-08866/4fd50926\",\n",
      "  \"ResponseMetadata\": {\n",
      "    \"RequestId\": \"160c6bc4-2f5a-4aef-a396-94f785005584\",\n",
      "    \"HTTPStatusCode\": 200,\n",
      "    \"HTTPHeaders\": {\n",
      "      \"date\": \"Sun, 26 Feb 2023 02:12:34 GMT\",\n",
      "      \"content-type\": \"application/x-amz-json-1.1\",\n",
      "      \"content-length\": \"114\",\n",
      "      \"connection\": \"keep-alive\",\n",
      "      \"x-amzn-requestid\": \"160c6bc4-2f5a-4aef-a396-94f785005584\"\n",
      "    },\n",
      "    \"RetryAttempts\": 0\n",
      "  }\n",
      "}\n"
     ]
    }
   ],
   "source": [
    "# 솔루션 버전 생성\n",
    "create_solution_version_response = personalize.create_solution_version(\n",
    "    solutionArn = ranking_solution_arn\n",
    ")\n",
    "ranking_solution_version_arn = create_solution_version_response['solutionVersionArn']\n",
    "print(json.dumps(create_solution_version_response, indent=2))"
   ]
  },
  {
   "cell_type": "markdown",
   "metadata": {},
   "source": [
    "### 모델 생성 확인 하기 \n",
    "아래 코드 실행하여 모델 생성 여부를 확인합니다. "
   ]
  },
  {
   "cell_type": "code",
   "execution_count": 18,
   "metadata": {},
   "outputs": [
    {
     "name": "stdout",
     "output_type": "stream",
     "text": [
      "user_personalization SolutionVersion: CREATE IN_PROGRESS\n",
      "Popularity SolutionVersion: CREATE IN_PROGRESS\n",
      "Similar Items SolutionVersion: CREATE IN_PROGRESS\n",
      "Ranking SolutionVersion: CREATE IN_PROGRESS\n",
      "-------------------------------------->\n",
      "user_personalization SolutionVersion: CREATE IN_PROGRESS\n",
      "Popularity SolutionVersion: CREATE IN_PROGRESS\n",
      "Similar Items SolutionVersion: CREATE IN_PROGRESS\n",
      "Ranking SolutionVersion: CREATE IN_PROGRESS\n",
      "-------------------------------------->\n",
      "user_personalization SolutionVersion: CREATE IN_PROGRESS\n",
      "Popularity SolutionVersion: CREATE IN_PROGRESS\n",
      "Similar Items SolutionVersion: CREATE IN_PROGRESS\n",
      "Ranking SolutionVersion: CREATE IN_PROGRESS\n",
      "-------------------------------------->\n",
      "user_personalization SolutionVersion: CREATE IN_PROGRESS\n",
      "Popularity SolutionVersion: CREATE IN_PROGRESS\n",
      "Similar Items SolutionVersion: CREATE IN_PROGRESS\n",
      "Ranking SolutionVersion: CREATE IN_PROGRESS\n",
      "-------------------------------------->\n",
      "user_personalization SolutionVersion: CREATE IN_PROGRESS\n",
      "Popularity SolutionVersion: CREATE IN_PROGRESS\n",
      "Similar Items SolutionVersion: CREATE IN_PROGRESS\n",
      "Ranking SolutionVersion: CREATE IN_PROGRESS\n",
      "-------------------------------------->\n",
      "user_personalization SolutionVersion: CREATE IN_PROGRESS\n",
      "Popularity SolutionVersion: CREATE IN_PROGRESS\n",
      "Similar Items SolutionVersion: CREATE IN_PROGRESS\n",
      "Ranking SolutionVersion: CREATE IN_PROGRESS\n",
      "-------------------------------------->\n",
      "user_personalization SolutionVersion: CREATE IN_PROGRESS\n",
      "Popularity SolutionVersion: CREATE IN_PROGRESS\n",
      "Similar Items SolutionVersion: CREATE IN_PROGRESS\n",
      "Ranking SolutionVersion: CREATE IN_PROGRESS\n",
      "-------------------------------------->\n",
      "user_personalization SolutionVersion: CREATE IN_PROGRESS\n",
      "Popularity SolutionVersion: CREATE IN_PROGRESS\n",
      "Similar Items SolutionVersion: CREATE IN_PROGRESS\n",
      "Ranking SolutionVersion: CREATE IN_PROGRESS\n",
      "-------------------------------------->\n",
      "user_personalization SolutionVersion: CREATE IN_PROGRESS\n",
      "Popularity SolutionVersion: CREATE IN_PROGRESS\n",
      "Similar Items SolutionVersion: CREATE IN_PROGRESS\n",
      "Ranking SolutionVersion: CREATE IN_PROGRESS\n",
      "-------------------------------------->\n",
      "user_personalization SolutionVersion: CREATE IN_PROGRESS\n",
      "Popularity SolutionVersion: CREATE IN_PROGRESS\n",
      "Similar Items SolutionVersion: CREATE IN_PROGRESS\n",
      "Ranking SolutionVersion: CREATE IN_PROGRESS\n",
      "-------------------------------------->\n",
      "user_personalization SolutionVersion: CREATE IN_PROGRESS\n",
      "Popularity SolutionVersion: CREATE IN_PROGRESS\n",
      "Similar Items SolutionVersion: CREATE IN_PROGRESS\n",
      "Ranking SolutionVersion: CREATE IN_PROGRESS\n",
      "-------------------------------------->\n",
      "user_personalization SolutionVersion: CREATE IN_PROGRESS\n",
      "Popularity SolutionVersion: CREATE IN_PROGRESS\n",
      "Similar Items SolutionVersion: CREATE IN_PROGRESS\n",
      "Ranking SolutionVersion: CREATE IN_PROGRESS\n",
      "-------------------------------------->\n",
      "user_personalization SolutionVersion: CREATE IN_PROGRESS\n",
      "Popularity SolutionVersion: CREATE IN_PROGRESS\n",
      "Similar Items SolutionVersion: CREATE IN_PROGRESS\n",
      "Ranking SolutionVersion: CREATE IN_PROGRESS\n",
      "-------------------------------------->\n",
      "user_personalization SolutionVersion: CREATE IN_PROGRESS\n",
      "Popularity SolutionVersion: CREATE IN_PROGRESS\n",
      "Similar Items SolutionVersion: CREATE IN_PROGRESS\n",
      "Ranking SolutionVersion: CREATE IN_PROGRESS\n",
      "-------------------------------------->\n",
      "user_personalization SolutionVersion: CREATE IN_PROGRESS\n",
      "Popularity SolutionVersion: CREATE IN_PROGRESS\n",
      "Similar Items SolutionVersion: CREATE IN_PROGRESS\n",
      "Ranking SolutionVersion: CREATE IN_PROGRESS\n",
      "-------------------------------------->\n",
      "user_personalization SolutionVersion: CREATE IN_PROGRESS\n",
      "Popularity SolutionVersion: CREATE IN_PROGRESS\n",
      "Similar Items SolutionVersion: CREATE IN_PROGRESS\n",
      "Ranking SolutionVersion: CREATE IN_PROGRESS\n",
      "-------------------------------------->\n",
      "user_personalization SolutionVersion: CREATE IN_PROGRESS\n",
      "Popularity SolutionVersion: CREATE IN_PROGRESS\n",
      "Similar Items SolutionVersion: CREATE IN_PROGRESS\n",
      "Ranking SolutionVersion: CREATE IN_PROGRESS\n",
      "-------------------------------------->\n",
      "user_personalization SolutionVersion: CREATE IN_PROGRESS\n",
      "Popularity SolutionVersion: ACTIVE\n",
      "Similar Items SolutionVersion: CREATE IN_PROGRESS\n",
      "Ranking SolutionVersion: CREATE IN_PROGRESS\n",
      "-------------------------------------->\n",
      "user_personalization SolutionVersion: CREATE IN_PROGRESS\n",
      "Popularity SolutionVersion: ACTIVE\n",
      "Similar Items SolutionVersion: ACTIVE\n",
      "Ranking SolutionVersion: CREATE IN_PROGRESS\n",
      "-------------------------------------->\n",
      "user_personalization SolutionVersion: CREATE IN_PROGRESS\n",
      "Popularity SolutionVersion: ACTIVE\n",
      "Similar Items SolutionVersion: ACTIVE\n",
      "Ranking SolutionVersion: CREATE IN_PROGRESS\n",
      "-------------------------------------->\n",
      "user_personalization SolutionVersion: ACTIVE\n",
      "Popularity SolutionVersion: ACTIVE\n",
      "Similar Items SolutionVersion: ACTIVE\n",
      "Ranking SolutionVersion: CREATE IN_PROGRESS\n",
      "-------------------------------------->\n",
      "user_personalization SolutionVersion: ACTIVE\n",
      "Popularity SolutionVersion: ACTIVE\n",
      "Similar Items SolutionVersion: ACTIVE\n",
      "Ranking SolutionVersion: ACTIVE\n",
      "All solution creation completed\n",
      "CPU times: user 311 ms, sys: 43.3 ms, total: 354 ms\n",
      "Wall time: 21min 5s\n"
     ]
    }
   ],
   "source": [
    "%%time\n",
    "\n",
    "max_time = time.time() + 3*60*60 # 3 hours\n",
    "while time.time() < max_time:\n",
    "    ##user_personalization Status\n",
    "    describe_solution_version_response = personalize.describe_solution_version(\n",
    "        solutionVersionArn = user_personalization_solution_version_arn\n",
    "    )  \n",
    "    status_user_per = describe_solution_version_response[\"solutionVersion\"][\"status\"]\n",
    "    print(\"user_personalization SolutionVersion: {}\".format(status_user_per))\n",
    "    \n",
    "    ##Popularity Status\n",
    "    describe_solution_version_response = personalize.describe_solution_version(\n",
    "        solutionVersionArn = popularity_solution_version_arn\n",
    "    )  \n",
    "    status_pop = describe_solution_version_response[\"solutionVersion\"][\"status\"]\n",
    "    print(\"Popularity SolutionVersion: {}\".format(status_pop))\n",
    "    \n",
    "\n",
    "    #sims status\n",
    "    describe_solution_version_response = personalize.describe_solution_version(\n",
    "    solutionVersionArn = sims_solution_version_arn\n",
    "    )\n",
    "    status_sims = describe_solution_version_response[\"solutionVersion\"][\"status\"]\n",
    "    print(\"Similar Items SolutionVersion: {}\".format(status_sims))\n",
    "    \n",
    "    #ranking status\n",
    "    describe_solution_version_response = personalize.describe_solution_version(\n",
    "        solutionVersionArn = ranking_solution_version_arn\n",
    "    )\n",
    "    status_ranking= describe_solution_version_response[\"solutionVersion\"][\"status\"]    \n",
    "    print(\"Ranking SolutionVersion: {}\".format(status_ranking))    \n",
    "    \n",
    "    if (status_user_per == \"ACTIVE\" or status_user_per == \"CREATE FAILED\") &\\\n",
    "       (status_pop == \"ACTIVE\" or status_pop == \"CREATE FAILED\") &\\\n",
    "       (status_sims == \"ACTIVE\" or status_sims == \"CREATE FAILED\") &\\\n",
    "       (status_ranking == \"ACTIVE\" or status_ranking == \"CREATE FAILED\"):\n",
    "        break\n",
    "    print(\"-------------------------------------->\")\n",
    "    time.sleep(60)\n",
    "\n",
    "print(\"All solution creation completed\")"
   ]
  },
  {
   "cell_type": "markdown",
   "metadata": {},
   "source": [
    "### Store variables"
   ]
  },
  {
   "cell_type": "code",
   "execution_count": 19,
   "metadata": {},
   "outputs": [
    {
     "name": "stdout",
     "output_type": "stream",
     "text": [
      "Stored 'user_personalization_solution_arn' (str)\n",
      "Stored 'user_personalization_solution_version_arn' (str)\n",
      "Stored 'popularity_solution_arn' (str)\n",
      "Stored 'popularity_solution_version_arn' (str)\n",
      "Stored 'sims_solution_version_arn' (str)\n",
      "Stored 'sims_solution_arn' (str)\n",
      "Stored 'ranking_solution_version_arn' (str)\n",
      "Stored 'ranking_solution_arn' (str)\n"
     ]
    }
   ],
   "source": [
    "\n",
    "%store user_personalization_solution_arn\n",
    "%store user_personalization_solution_version_arn\n",
    "\n",
    "%store popularity_solution_arn\n",
    "%store popularity_solution_version_arn\n",
    "\n",
    "%store sims_solution_version_arn\n",
    "%store sims_solution_arn\n",
    "\n",
    "%store ranking_solution_version_arn\n",
    "%store ranking_solution_arn\n"
   ]
  },
  {
   "cell_type": "code",
   "execution_count": null,
   "metadata": {},
   "outputs": [],
   "source": []
  },
  {
   "cell_type": "code",
   "execution_count": null,
   "metadata": {},
   "outputs": [],
   "source": []
  }
 ],
 "metadata": {
  "kernelspec": {
   "display_name": "conda_python3",
   "language": "python",
   "name": "conda_python3"
  },
  "language_info": {
   "codemirror_mode": {
    "name": "ipython",
    "version": 3
   },
   "file_extension": ".py",
   "mimetype": "text/x-python",
   "name": "python",
   "nbconvert_exporter": "python",
   "pygments_lexer": "ipython3",
   "version": "3.6.13"
  }
 },
 "nbformat": 4,
 "nbformat_minor": 4
}
