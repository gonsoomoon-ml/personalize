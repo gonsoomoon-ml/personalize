{
 "cells": [
  {
   "cell_type": "markdown",
   "metadata": {},
   "source": [
    "# [Module 3.1] Personalize 솔류션 및 솔류션 버전 생성\n",
    "\n",
    "이 노트북은 Module1에서 생성한 데이타셋 그룹, 데이타셋을 바탕으로 아래와 같은 작업을 합니다.\n",
    "\n",
    "* 레서피(알고리즘) 선택 및 7가지 솔류션 생성\n",
    "* 4가지 솔류션 버전 생성\n",
    "\n",
    "--- \n",
    "이 노트북은 약 50분 소요 됩니다.\n",
    "\n"
   ]
  },
  {
   "cell_type": "code",
   "execution_count": 1,
   "metadata": {},
   "outputs": [],
   "source": [
    "# Imports\n",
    "import boto3\n",
    "import json\n",
    "import numpy as np\n",
    "import pandas as pd\n",
    "import time\n"
   ]
  },
  {
   "cell_type": "markdown",
   "metadata": {},
   "source": [
    "다음으로 여러분의 환경이 Amazon Personalize와 성공적으로 통신할 수 있는지 확인해야 합니다."
   ]
  },
  {
   "cell_type": "code",
   "execution_count": 2,
   "metadata": {},
   "outputs": [],
   "source": [
    "# Configure the SDK to Personalize:\n",
    "personalize = boto3.client('personalize')"
   ]
  },
  {
   "cell_type": "markdown",
   "metadata": {},
   "source": [
    "아래 코드 셀은 이전 notebook에서 저장했던 공유 변수들을 불러옵니다."
   ]
  },
  {
   "cell_type": "code",
   "execution_count": 3,
   "metadata": {},
   "outputs": [],
   "source": [
    "%store -r"
   ]
  },
  {
   "cell_type": "markdown",
   "metadata": {},
   "source": [
    "생성할 오브젝트의 끝에 임의의 숫자를 부여하기 위해 suffix 정의"
   ]
  },
  {
   "cell_type": "code",
   "execution_count": 4,
   "metadata": {},
   "outputs": [],
   "source": [
    "suffix = str(np.random.uniform())[4:9]"
   ]
  },
  {
   "cell_type": "markdown",
   "metadata": {},
   "source": [
    "## 솔루션 및 버전 생성\n",
    "\n",
    "Amazon Personalize에서 훈련된 모델을 솔루션이라고 하며, 각 솔루션에는 모델이 훈련되었을 때 주어진 데이터량과 관련된 많은 특정 버전들이 있을 수 있습니다.\n",
    "\n",
    "우선, Amazon Personalize에서 지원되는 모든 레시피(레시피는 아직 데이터에 대해 훈련되지 않은 알고리즘입니다.)들을 나열합니다. 리스트업된 레시피들 중 하나를 선택하고 이를 사용하여 모델을 빌드해 보세요.\n",
    "\n",
    "이 LAB에서 아래와 같은 모든 솔루션을 생성하여 성능을 비교하여 봅니다.\n",
    "\n",
    "    1) User-Personalization \n",
    "    2) popularity-count \n",
    "    3) SIMS\n",
    "    4) Personalized Ranking\n",
    "\n",
    "이 프로세스의 완료는 실제로 40분 이상 소요됩니다. 작업이 완료될 때까지(즉, 활성화 상태가 될 때까지) while 루프를 수행하는 방법도 있지만, 이렇게 하면 다른 셀의 실행을 차단하게 됩니다. 따라서, 많은 모델을 만들어 신속하게 배포하려면 while 루프를 사용하는 대신, 필요한 솔루션 버전들을 생성 후, SageMaker 및 Cloudwatch에서 업데이트를 확인하세요.\n",
    "\n",
    "###  레시피 리스트 확인"
   ]
  },
  {
   "cell_type": "code",
   "execution_count": 5,
   "metadata": {},
   "outputs": [
    {
     "name": "stdout",
     "output_type": "stream",
     "text": [
      "arn:aws:personalize:::recipe/aws-ecomm-customers-who-viewed-x-also-viewed\n",
      "arn:aws:personalize:::recipe/aws-ecomm-frequently-bought-together\n",
      "arn:aws:personalize:::recipe/aws-ecomm-popular-items-by-purchases\n",
      "arn:aws:personalize:::recipe/aws-ecomm-popular-items-by-views\n",
      "arn:aws:personalize:::recipe/aws-ecomm-recommended-for-you\n",
      "arn:aws:personalize:::recipe/aws-item-affinity\n",
      "arn:aws:personalize:::recipe/aws-item-attribute-affinity\n",
      "arn:aws:personalize:::recipe/aws-personalized-ranking\n",
      "arn:aws:personalize:::recipe/aws-popularity-count\n",
      "arn:aws:personalize:::recipe/aws-similar-items\n",
      "arn:aws:personalize:::recipe/aws-sims\n"
     ]
    }
   ],
   "source": [
    "recipe_list = personalize.list_recipes()\n",
    "for recipe in recipe_list['recipes']:\n",
    "    print(recipe['recipeArn'])"
   ]
  },
  {
   "cell_type": "markdown",
   "metadata": {},
   "source": [
    "###  User-Personalization 솔루션 생성 "
   ]
  },
  {
   "cell_type": "code",
   "execution_count": 6,
   "metadata": {},
   "outputs": [],
   "source": [
    "# Recipe 선택 \n",
    "system_user_personalization_recipe_arn = \"arn:aws:personalize:::recipe/aws-user-personalization\"\n",
    "\n",
    "# Solution 생성 \n",
    "create_solution_response = personalize.create_solution(\n",
    "    name = \"Movielens-user-personalization-\" + suffix,\n",
    "    datasetGroupArn = dataset_group_arn,\n",
    "    recipeArn = system_user_personalization_recipe_arn,\n",
    ")"
   ]
  },
  {
   "cell_type": "code",
   "execution_count": 7,
   "metadata": {},
   "outputs": [
    {
     "name": "stdout",
     "output_type": "stream",
     "text": [
      "{\n",
      "  \"solutionArn\": \"arn:aws:personalize:ap-northeast-2:057716757052:solution/Movielens-user-personalization-42535\",\n",
      "  \"ResponseMetadata\": {\n",
      "    \"RequestId\": \"5b6e0afa-08d1-457e-92b4-7992b9979931\",\n",
      "    \"HTTPStatusCode\": 200,\n",
      "    \"HTTPHeaders\": {\n",
      "      \"date\": \"Wed, 15 Jun 2022 03:21:10 GMT\",\n",
      "      \"content-type\": \"application/x-amz-json-1.1\",\n",
      "      \"content-length\": \"111\",\n",
      "      \"connection\": \"keep-alive\",\n",
      "      \"x-amzn-requestid\": \"5b6e0afa-08d1-457e-92b4-7992b9979931\"\n",
      "    },\n",
      "    \"RetryAttempts\": 0\n",
      "  }\n",
      "}\n"
     ]
    }
   ],
   "source": [
    "user_personalization_solution_arn = create_solution_response['solutionArn']\n",
    "print(json.dumps(create_solution_response, indent=2))"
   ]
  },
  {
   "cell_type": "code",
   "execution_count": 8,
   "metadata": {},
   "outputs": [
    {
     "name": "stdout",
     "output_type": "stream",
     "text": [
      "{\n",
      "  \"solutionVersionArn\": \"arn:aws:personalize:ap-northeast-2:057716757052:solution/Movielens-user-personalization-42535/1cdb2182\",\n",
      "  \"ResponseMetadata\": {\n",
      "    \"RequestId\": \"cbc22e16-c58a-4ece-8172-650b224898a2\",\n",
      "    \"HTTPStatusCode\": 200,\n",
      "    \"HTTPHeaders\": {\n",
      "      \"date\": \"Wed, 15 Jun 2022 03:21:10 GMT\",\n",
      "      \"content-type\": \"application/x-amz-json-1.1\",\n",
      "      \"content-length\": \"127\",\n",
      "      \"connection\": \"keep-alive\",\n",
      "      \"x-amzn-requestid\": \"cbc22e16-c58a-4ece-8172-650b224898a2\"\n",
      "    },\n",
      "    \"RetryAttempts\": 0\n",
      "  }\n",
      "}\n"
     ]
    }
   ],
   "source": [
    "# 솔루션 버전 생성\n",
    "create_solution_version_response = personalize.create_solution_version(\n",
    "    solutionArn = user_personalization_solution_arn\n",
    ")\n",
    "\n",
    "user_personalization_solution_version_arn = create_solution_version_response['solutionVersionArn']\n",
    "print(json.dumps(create_solution_version_response, indent=2))"
   ]
  },
  {
   "cell_type": "markdown",
   "metadata": {},
   "source": [
    "###  Popularity Count 솔루션 생성 "
   ]
  },
  {
   "cell_type": "code",
   "execution_count": 9,
   "metadata": {},
   "outputs": [],
   "source": [
    "# Recipe 선택 \n",
    "system_popularity_recipe_arn = \"arn:aws:personalize:::recipe/aws-popularity-count\"\n",
    "\n",
    "# Solution 생성 \n",
    "create_solution_response = personalize.create_solution(\n",
    "    name = \"Movielens-popularity-\" + suffix,\n",
    "    datasetGroupArn = dataset_group_arn,\n",
    "    recipeArn = system_popularity_recipe_arn,\n",
    ")\n",
    "\n"
   ]
  },
  {
   "cell_type": "code",
   "execution_count": 10,
   "metadata": {},
   "outputs": [
    {
     "name": "stdout",
     "output_type": "stream",
     "text": [
      "{\n",
      "  \"solutionArn\": \"arn:aws:personalize:ap-northeast-2:057716757052:solution/Movielens-popularity-42535\",\n",
      "  \"ResponseMetadata\": {\n",
      "    \"RequestId\": \"e3438cdc-f7a8-42ee-a9fc-845bb918504a\",\n",
      "    \"HTTPStatusCode\": 200,\n",
      "    \"HTTPHeaders\": {\n",
      "      \"date\": \"Wed, 15 Jun 2022 03:21:11 GMT\",\n",
      "      \"content-type\": \"application/x-amz-json-1.1\",\n",
      "      \"content-length\": \"101\",\n",
      "      \"connection\": \"keep-alive\",\n",
      "      \"x-amzn-requestid\": \"e3438cdc-f7a8-42ee-a9fc-845bb918504a\"\n",
      "    },\n",
      "    \"RetryAttempts\": 0\n",
      "  }\n",
      "}\n"
     ]
    }
   ],
   "source": [
    "popularity_solution_arn = create_solution_response['solutionArn']\n",
    "print(json.dumps(create_solution_response, indent=2))"
   ]
  },
  {
   "cell_type": "code",
   "execution_count": 11,
   "metadata": {},
   "outputs": [
    {
     "name": "stdout",
     "output_type": "stream",
     "text": [
      "{\n",
      "  \"solutionVersionArn\": \"arn:aws:personalize:ap-northeast-2:057716757052:solution/Movielens-popularity-42535/ec593d6a\",\n",
      "  \"ResponseMetadata\": {\n",
      "    \"RequestId\": \"5a68d613-50f0-4950-95e5-116ee869d5a6\",\n",
      "    \"HTTPStatusCode\": 200,\n",
      "    \"HTTPHeaders\": {\n",
      "      \"date\": \"Wed, 15 Jun 2022 03:21:11 GMT\",\n",
      "      \"content-type\": \"application/x-amz-json-1.1\",\n",
      "      \"content-length\": \"117\",\n",
      "      \"connection\": \"keep-alive\",\n",
      "      \"x-amzn-requestid\": \"5a68d613-50f0-4950-95e5-116ee869d5a6\"\n",
      "    },\n",
      "    \"RetryAttempts\": 0\n",
      "  }\n",
      "}\n"
     ]
    }
   ],
   "source": [
    "# 솔루션 버전 생성\n",
    "create_solution_version_response = personalize.create_solution_version(\n",
    "    solutionArn = popularity_solution_arn\n",
    ")\n",
    "\n",
    "popularity_solution_version_arn = create_solution_version_response['solutionVersionArn']\n",
    "print(json.dumps(create_solution_version_response, indent=2))"
   ]
  },
  {
   "cell_type": "markdown",
   "metadata": {},
   "source": [
    "### SIMS 솔루션 생성 "
   ]
  },
  {
   "cell_type": "code",
   "execution_count": 12,
   "metadata": {},
   "outputs": [
    {
     "name": "stdout",
     "output_type": "stream",
     "text": [
      "{\n",
      "  \"solutionArn\": \"arn:aws:personalize:ap-northeast-2:057716757052:solution/Movielens-sims-42535\",\n",
      "  \"ResponseMetadata\": {\n",
      "    \"RequestId\": \"65a443fc-473d-46f3-9059-14100256a33e\",\n",
      "    \"HTTPStatusCode\": 200,\n",
      "    \"HTTPHeaders\": {\n",
      "      \"date\": \"Wed, 15 Jun 2022 03:21:11 GMT\",\n",
      "      \"content-type\": \"application/x-amz-json-1.1\",\n",
      "      \"content-length\": \"95\",\n",
      "      \"connection\": \"keep-alive\",\n",
      "      \"x-amzn-requestid\": \"65a443fc-473d-46f3-9059-14100256a33e\"\n",
      "    },\n",
      "    \"RetryAttempts\": 0\n",
      "  }\n",
      "}\n"
     ]
    }
   ],
   "source": [
    " # Recipe 선택 \n",
    "system_sims_recipe_arn = \"arn:aws:personalize:::recipe/aws-sims\"\n",
    "\n",
    "# Solution 생성 \n",
    "create_solution_response = personalize.create_solution(\n",
    "    name = \"Movielens-sims-\" + suffix,\n",
    "    datasetGroupArn = dataset_group_arn,\n",
    "    recipeArn = system_sims_recipe_arn\n",
    ")\n",
    "\n",
    "sims_solution_arn = create_solution_response['solutionArn']\n",
    "print(json.dumps(create_solution_response, indent=2))"
   ]
  },
  {
   "cell_type": "code",
   "execution_count": 13,
   "metadata": {},
   "outputs": [
    {
     "name": "stdout",
     "output_type": "stream",
     "text": [
      "{\n",
      "  \"solutionVersionArn\": \"arn:aws:personalize:ap-northeast-2:057716757052:solution/Movielens-sims-42535/f1b2522f\",\n",
      "  \"ResponseMetadata\": {\n",
      "    \"RequestId\": \"478aea7a-1376-4cc4-ad0c-77e342f6d19a\",\n",
      "    \"HTTPStatusCode\": 200,\n",
      "    \"HTTPHeaders\": {\n",
      "      \"date\": \"Wed, 15 Jun 2022 03:21:11 GMT\",\n",
      "      \"content-type\": \"application/x-amz-json-1.1\",\n",
      "      \"content-length\": \"111\",\n",
      "      \"connection\": \"keep-alive\",\n",
      "      \"x-amzn-requestid\": \"478aea7a-1376-4cc4-ad0c-77e342f6d19a\"\n",
      "    },\n",
      "    \"RetryAttempts\": 0\n",
      "  }\n",
      "}\n"
     ]
    }
   ],
   "source": [
    "# 솔루션 버전 생성\n",
    "create_solution_version_response = personalize.create_solution_version(\n",
    "    solutionArn = sims_solution_arn\n",
    ")\n",
    "sims_solution_version_arn = create_solution_version_response['solutionVersionArn']\n",
    "print(json.dumps(create_solution_version_response, indent=2))"
   ]
  },
  {
   "cell_type": "markdown",
   "metadata": {},
   "source": [
    "### Personalize Ranking 솔루션 생성 "
   ]
  },
  {
   "cell_type": "code",
   "execution_count": 14,
   "metadata": {},
   "outputs": [
    {
     "name": "stdout",
     "output_type": "stream",
     "text": [
      "{\n",
      "  \"solutionArn\": \"arn:aws:personalize:ap-northeast-2:057716757052:solution/Movielens-ranking-42535\",\n",
      "  \"ResponseMetadata\": {\n",
      "    \"RequestId\": \"7ad9bc45-7713-4b9e-9324-6b0bbee46f15\",\n",
      "    \"HTTPStatusCode\": 200,\n",
      "    \"HTTPHeaders\": {\n",
      "      \"date\": \"Wed, 15 Jun 2022 03:21:11 GMT\",\n",
      "      \"content-type\": \"application/x-amz-json-1.1\",\n",
      "      \"content-length\": \"98\",\n",
      "      \"connection\": \"keep-alive\",\n",
      "      \"x-amzn-requestid\": \"7ad9bc45-7713-4b9e-9324-6b0bbee46f15\"\n",
      "    },\n",
      "    \"RetryAttempts\": 0\n",
      "  }\n",
      "}\n"
     ]
    }
   ],
   "source": [
    " # Recipe 선택 \n",
    "system_ranking_recipe_arn = \"arn:aws:personalize:::recipe/aws-personalized-ranking\"\n",
    "\n",
    "# Solution 생성 \n",
    "create_solution_response = personalize.create_solution(\n",
    "    name = \"Movielens-ranking-\" + suffix,\n",
    "    datasetGroupArn = dataset_group_arn,\n",
    "    recipeArn = system_ranking_recipe_arn\n",
    ")\n",
    "\n",
    "ranking_solution_arn = create_solution_response['solutionArn']\n",
    "print(json.dumps(create_solution_response, indent=2))"
   ]
  },
  {
   "cell_type": "code",
   "execution_count": 15,
   "metadata": {},
   "outputs": [
    {
     "name": "stdout",
     "output_type": "stream",
     "text": [
      "{\n",
      "  \"solutionVersionArn\": \"arn:aws:personalize:ap-northeast-2:057716757052:solution/Movielens-ranking-42535/7ff102dc\",\n",
      "  \"ResponseMetadata\": {\n",
      "    \"RequestId\": \"d0fd1a58-1280-49c4-88c4-307dffddf212\",\n",
      "    \"HTTPStatusCode\": 200,\n",
      "    \"HTTPHeaders\": {\n",
      "      \"date\": \"Wed, 15 Jun 2022 03:21:11 GMT\",\n",
      "      \"content-type\": \"application/x-amz-json-1.1\",\n",
      "      \"content-length\": \"114\",\n",
      "      \"connection\": \"keep-alive\",\n",
      "      \"x-amzn-requestid\": \"d0fd1a58-1280-49c4-88c4-307dffddf212\"\n",
      "    },\n",
      "    \"RetryAttempts\": 0\n",
      "  }\n",
      "}\n"
     ]
    }
   ],
   "source": [
    "# 솔루션 버전 생성\n",
    "create_solution_version_response = personalize.create_solution_version(\n",
    "    solutionArn = ranking_solution_arn\n",
    ")\n",
    "ranking_solution_version_arn = create_solution_version_response['solutionVersionArn']\n",
    "print(json.dumps(create_solution_version_response, indent=2))"
   ]
  },
  {
   "cell_type": "markdown",
   "metadata": {},
   "source": [
    "### 모델 생성 확인 하기 \n",
    "아래 코드 실행하여 모델 생성 여부를 확인합니다. "
   ]
  },
  {
   "cell_type": "code",
   "execution_count": 18,
   "metadata": {},
   "outputs": [
    {
     "name": "stdout",
     "output_type": "stream",
     "text": [
      "user_personalization SolutionVersion: ACTIVE\n",
      "Popularity SolutionVersion: ACTIVE\n",
      "Sims SolutionVersion: ACTIVE\n",
      "Ranking SolutionVersion: ACTIVE\n",
      "All solution creation completed\n",
      "CPU times: user 6.65 ms, sys: 289 µs, total: 6.93 ms\n",
      "Wall time: 86.4 ms\n"
     ]
    }
   ],
   "source": [
    "%%time\n",
    "\n",
    "max_time = time.time() + 3*60*60 # 3 hours\n",
    "while time.time() < max_time:\n",
    "    ##user_personalization Status\n",
    "    describe_solution_version_response = personalize.describe_solution_version(\n",
    "        solutionVersionArn = user_personalization_solution_version_arn\n",
    "    )  \n",
    "    status_user_per = describe_solution_version_response[\"solutionVersion\"][\"status\"]\n",
    "    print(\"user_personalization SolutionVersion: {}\".format(status_user_per))\n",
    "    \n",
    "    ##Popularity Status\n",
    "    describe_solution_version_response = personalize.describe_solution_version(\n",
    "        solutionVersionArn = popularity_solution_version_arn\n",
    "    )  \n",
    "    status_pop = describe_solution_version_response[\"solutionVersion\"][\"status\"]\n",
    "    print(\"Popularity SolutionVersion: {}\".format(status_pop))\n",
    "    \n",
    "\n",
    "    #sims status\n",
    "    describe_solution_version_response = personalize.describe_solution_version(\n",
    "    solutionVersionArn = sims_solution_version_arn\n",
    "    )\n",
    "    status_sims = describe_solution_version_response[\"solutionVersion\"][\"status\"]\n",
    "    print(\"Sims SolutionVersion: {}\".format(status_sims))\n",
    "    \n",
    "    #ranking status\n",
    "    describe_solution_version_response = personalize.describe_solution_version(\n",
    "        solutionVersionArn = ranking_solution_version_arn\n",
    "    )\n",
    "    status_ranking= describe_solution_version_response[\"solutionVersion\"][\"status\"]    \n",
    "    print(\"Ranking SolutionVersion: {}\".format(status_ranking))    \n",
    "    \n",
    "    if (status_user_per == \"ACTIVE\" or status_user_per == \"CREATE FAILED\") &\\\n",
    "       (status_pop == \"ACTIVE\" or status_pop == \"CREATE FAILED\") &\\\n",
    "       (status_sims == \"ACTIVE\" or status_sims == \"CREATE FAILED\") &\\\n",
    "       (status_ranking == \"ACTIVE\" or status_ranking == \"CREATE FAILED\"):\n",
    "        break\n",
    "    print(\"-------------------------------------->\")\n",
    "    time.sleep(60)\n",
    "\n",
    "print(\"All solution creation completed\")"
   ]
  },
  {
   "cell_type": "markdown",
   "metadata": {},
   "source": [
    "### Store variables"
   ]
  },
  {
   "cell_type": "code",
   "execution_count": 22,
   "metadata": {},
   "outputs": [
    {
     "name": "stdout",
     "output_type": "stream",
     "text": [
      "Stored 'user_personalization_solution_arn' (str)\n",
      "Stored 'user_personalization_solution_version_arn' (str)\n",
      "Stored 'popularity_solution_arn' (str)\n",
      "Stored 'popularity_solution_version_arn' (str)\n",
      "Stored 'sims_solution_version_arn' (str)\n",
      "Stored 'sims_solution_arn' (str)\n",
      "Stored 'ranking_solution_version_arn' (str)\n",
      "Stored 'ranking_solution_arn' (str)\n"
     ]
    }
   ],
   "source": [
    "\n",
    "%store user_personalization_solution_arn\n",
    "%store user_personalization_solution_version_arn\n",
    "\n",
    "%store popularity_solution_arn\n",
    "%store popularity_solution_version_arn\n",
    "\n",
    "%store sims_solution_version_arn\n",
    "%store sims_solution_arn\n",
    "\n",
    "%store ranking_solution_version_arn\n",
    "%store ranking_solution_arn\n"
   ]
  },
  {
   "cell_type": "code",
   "execution_count": null,
   "metadata": {},
   "outputs": [],
   "source": []
  },
  {
   "cell_type": "code",
   "execution_count": null,
   "metadata": {},
   "outputs": [],
   "source": []
  }
 ],
 "metadata": {
  "kernelspec": {
   "display_name": "conda_python3",
   "language": "python",
   "name": "conda_python3"
  },
  "language_info": {
   "codemirror_mode": {
    "name": "ipython",
    "version": 3
   },
   "file_extension": ".py",
   "mimetype": "text/x-python",
   "name": "python",
   "nbconvert_exporter": "python",
   "pygments_lexer": "ipython3",
   "version": "3.6.10"
  }
 },
 "nbformat": 4,
 "nbformat_minor": 4
}
