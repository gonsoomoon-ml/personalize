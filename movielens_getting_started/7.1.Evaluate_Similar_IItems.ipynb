{
 "cells": [
  {
   "cell_type": "markdown",
   "metadata": {},
   "source": [
    "# [Module 7.1] Similar SIMS 추천 결과 분석\n",
    "\n",
    "이 노트북을 실행하기 전에 먼저 \"데이타 셋의 분리\"에 대해서 다시 한번 보겠습니다.\n",
    "Training Data (학습 데이터 셋)는 Solution Version을 학습하여 Campaign을 생성하였고 Validation(holdout, 검증 데이터 셋)은 이 노트북에서 Campaign을 통해 나온 추천 결과와 비교하여 성능 지표를 계산 합니다. \n",
    "- Coldstart는 현재 노트북에서 사용하지 않으므로 무시하시기 바랍니다.\n",
    "<p>\n",
    "<div>\n",
    "<img src=\"static/imgs/img_datasplit50_v1.png\", width=\"800\">\n",
    "</div>\n"
   ]
  },
  {
   "cell_type": "markdown",
   "metadata": {},
   "source": [
    "\n",
    "이 노트북에서는 아래와 같은 작업을 합니다.\n",
    "\n",
    "- 유저 개인별 아이템 클릭한 아이템의 추천 분석\n",
    "    - **캠페인을 통해서 추천 결과가 나오면, 어떻게 해서 이런 추천 결과가 나올까 라는 호기심이 생깁니다.** 이런 호기심을 충족하기 위해서, (1) 학습 데이터 셋에서의 최근 인터랙션의 마지막 영화를 확인하고, (2) 검증 데이터 셋의 리스트를 확인 합니다. 이후 (3) 캠페인을 통한 추천 결과 리스트를 확인 합니다. (3)의 추천 결과는 (1) 의 기반 위에서 나온 겻을 확인할 수 있고, (3) 과 (2)를 비교하여 추천 정확도를 확인 합니다.\n",
    "\n",
    "\n",
    "- 캠페인을 통한 Validation(검증) 데이터 셋의 지표 분석 (전체 6040명) \n",
    "    - **실제로 캠페인을 통한 추천의 성능이 얼마나 잘 되었는지를 확인 합니다.**\n",
    "\n",
    "\n",
    "\n",
    "\n",
    "---\n",
    "이 노트북은 실행 시간이 약 3분 소요 됩니다. 하지만 분석된 결과를 보시려면 약 20분 정도 걸립니다.\n"
   ]
  },
  {
   "cell_type": "markdown",
   "metadata": {},
   "source": [
    "# 1. 환경 셋업"
   ]
  },
  {
   "cell_type": "code",
   "execution_count": 1,
   "metadata": {},
   "outputs": [],
   "source": [
    "import pandas as pd, numpy as np\n",
    "import io\n",
    "import scipy.sparse as ss\n",
    "import json\n",
    "import time\n",
    "import os\n",
    "import boto3\n",
    "from metrics import ndcg_at_k, precision_at_k, mean_reciprocal_rank\n",
    "\n",
    "from tqdm import notebook\n",
    "from IPython.display import display, HTML\n",
    "from IPython.display import display as dp"
   ]
  },
  {
   "cell_type": "code",
   "execution_count": 2,
   "metadata": {},
   "outputs": [],
   "source": [
    "%store -r"
   ]
  },
  {
   "cell_type": "code",
   "execution_count": 3,
   "metadata": {},
   "outputs": [
    {
     "name": "stderr",
     "output_type": "stream",
     "text": [
      "/home/ec2-user/anaconda3/envs/python3/lib/python3.6/site-packages/boto3/compat.py:88: PythonDeprecationWarning: Boto3 will no longer support Python 3.6 starting May 30, 2022. To continue receiving service updates, bug fixes, and security updates please upgrade to Python 3.7 or later. More information can be found here: https://aws.amazon.com/blogs/developer/python-support-policy-updates-for-aws-sdks-and-tools/\n",
      "  warnings.warn(warning, PythonDeprecationWarning)\n"
     ]
    }
   ],
   "source": [
    "# Configure the SDK to Personalize:\n",
    "personalize = boto3.client('personalize')\n",
    "personalize_runtime = boto3.client('personalize-runtime')"
   ]
  },
  {
   "cell_type": "markdown",
   "metadata": {},
   "source": [
    "# 2. 기본 데이터 셋 가져오기 \n",
    "\n",
    "다음과 같은 데이터 셋을 가져 옵니다.\n",
    "- 학습에 사용된 데이터 셋\n",
    "- 검증에 사용할 데이터 셋"
   ]
  },
  {
   "cell_type": "code",
   "execution_count": 4,
   "metadata": {},
   "outputs": [
    {
     "name": "stderr",
     "output_type": "stream",
     "text": [
      "/home/ec2-user/anaconda3/envs/python3/lib/python3.6/site-packages/ipykernel/__main__.py:8: ParserWarning: Falling back to the 'python' engine because the 'c' engine does not support regex separators (separators > 1 char and different from '\\s+' are interpreted as regex); you can avoid this warning by specifying engine='python'.\n"
     ]
    }
   ],
   "source": [
    "from utils import get_rich_dataset\n",
    "\n",
    "# 학습에 사용된 warm_train 데이터 셋 로딩\n",
    "df_warm_train = pd.read_csv(warm_train_interaction_filename)\n",
    "# Validation 인 holdout 데이터 셋 로딩\n",
    "df_holdout = pd.read_csv(validation_interaction_filename)\n",
    "# item 정보 로딩\n",
    "item_meta = pd.read_csv('./ml-1m/movies.dat',sep='::', encoding='latin1',names=['ITEM_ID', 'TITLE', 'GENRE'],)\n",
    "# 영황 타이틀, 장르를 포함한 정보 리턴\n",
    "df_warm_train_rich = get_rich_dataset(df_warm_train, item_meta)\n",
    "df_warm_train_rich = df_warm_train_rich.sort_values('TIMESTAMP').copy()\n",
    "# 영황 타이틀, 장르를 포함한 정보 리턴\n",
    "df_holdout_rich = get_rich_dataset(df_holdout, item_meta)\n",
    "df_holdout_rich = df_holdout_rich.sort_values('TIMESTAMP').copy()\n",
    "\n",
    "num_history = 5 # warm_train에서 최근 데이타 보여줄 수\n",
    "num_recommend = 10 # 캠페인을 통한 추천에서 보여줄 수\n"
   ]
  },
  {
   "cell_type": "markdown",
   "metadata": {},
   "source": [
    "# 3. 유저별 \"유사 아이템 추천\" 분석"
   ]
  },
  {
   "cell_type": "code",
   "execution_count": 5,
   "metadata": {},
   "outputs": [],
   "source": [
    "def track_item_recommend(user_id, campaign_arn):\n",
    "    '''\n",
    "    유저의 선택한 영화 부터 추천에 대한 리스트 제공\n",
    "    '''\n",
    "    # show the last interaction (warm_train) out of training data\n",
    "    rec_items_movies, last_item_df, last_item_id = get_similar_items_richdata(user_id, df_warm_train_rich, campaign_arn, item_meta, num_history, num_recommend)\n",
    "\n",
    "    display(HTML(\"<font><b>The last item the user clicked: </b></font>\"))\n",
    "    display(last_item_df)\n",
    "\n",
    "    # show validation data\n",
    "    display(HTML(\"<font><b>The validation list (Holdout Dataset): </b></font>\"))\n",
    "    display(df_holdout_rich[df_holdout_rich.USER_ID == user_id].tail(100))\n",
    "\n",
    "    # 캠페인에서의 추천 리스트\n",
    "    display(HTML(\"<font><b>The recommended list by Campaign: </b></font>\"))\n",
    "    display(rec_items_movies)\n",
    "\n",
    "    # 매치 리스트: validation (warm_holdout) and 캠페인에서의 추천 리스트\n",
    "    relevance_list = get_item_relevance_list(campaign_arn, df_holdout, user_id, last_item_id)\n",
    "    display(HTML(\"<font><b>The matched list between validation (Holdout Dataset)and recommendation: </b></font>\"))\n",
    "    display(relevance_list)\n",
    "\n",
    "def get_similar_items_richdata(user_id, df_rich, campaign_arn, item_meta, num_history, num_recommend):\n",
    "    '''\n",
    "    학습된 데이터(Warm_Train)에서 최신 리스트 및 추천 아이템을 제공 함\n",
    "    '''\n",
    "    history_items = df_rich[df_rich['USER_ID']==user_id].tail(num_history)\n",
    "    last_item_df = history_items[-1:]\n",
    "#     print(\"##################\")\n",
    "    last_item_id = last_item_df[\"ITEM_ID\"].values[0]\n",
    "    \n",
    "    \n",
    "    rec_response = personalize_runtime.get_recommendations(\n",
    "                campaignArn = campaign_arn,\n",
    "                itemId = str(last_item_id)\n",
    "            )\n",
    "    rec_items = [int(x['itemId']) for x in rec_response['itemList']]\n",
    "    rec_items_movies = item_meta.set_index('ITEM_ID').loc[rec_items[:num_recommend]]\n",
    "\n",
    "    return rec_items_movies, last_item_df, last_item_id\n",
    "\n",
    "def get_item_relevance_list(campaign_arn, df_holdout, user_id, item_id):\n",
    "    '''\n",
    "    한명의 유저에 대해서 validation(warm_holdout)와 추천 리스트에서 매치된 것을 제공\n",
    "    '''\n",
    "    relevance = []\n",
    "\n",
    "    true_items = set(df_holdout[df_holdout['USER_ID']==user_id]['ITEM_ID'].values)\n",
    "    rec_response = personalize_runtime.get_recommendations(\n",
    "        campaignArn = campaign_arn,\n",
    "        itemId = str(item_id)\n",
    "    )\n",
    "    rec_items = [int(x['itemId']) for x in rec_response['itemList']]\n",
    "    relevance.append([int(x in true_items) for x in rec_items])\n",
    "    return relevance\n",
    "\n",
    "        "
   ]
  },
  {
   "cell_type": "markdown",
   "metadata": {},
   "source": [
    "## 유저 1\n",
    "아래의 그림은 유저1 에 대해서, 분석 시나리오 입니다.\n",
    "- (1) The last item the user clicked\n",
    "    - 해당 유저의 모델 훈련(솔루선 버전)에 사용된 인터렉션 데이터 중에 가장 최근의 데이터를 보여 줌\n",
    "        - 이 유저는 Tarzan 을 마지막으로 인터렉션을 함.\n",
    "- (2) The validation list (Holdout Dataset):\n",
    "    - 해당 유저에 대해서 모델 훈련에 들어간 이후 부터의 데이터 (\"검증데이터\", \"홀드아웃\" 데이터 셋으로 불리움) 를 보여 줌.\n",
    "        - 노트르담, 벅스 라이프, 뮬란 의 영화가 있음.            \n",
    "- (3) The recommended list by Campaign:\n",
    "    - 타잔 (item_id == 2687) 를 제공하여 similar_sims 레서피로 만든 솔루션 버전을 서빙하는 캠페인으로 부터 추천 결과 임.\n",
    "- (4) The matched list between validation (Holdout Dataset)and recommendation:\n",
    "    - (2), (3) 을 일차여 부를 0, 1 로 구분 함. 1이 \"일치\" 를 의미"
   ]
  },
  {
   "cell_type": "markdown",
   "metadata": {},
   "source": [
    "![story_similar_item.png](img/story_similar_item.png)"
   ]
  },
  {
   "cell_type": "code",
   "execution_count": 6,
   "metadata": {},
   "outputs": [
    {
     "data": {
      "text/html": [
       "<font><b>The last item the user clicked: </b></font>"
      ],
      "text/plain": [
       "<IPython.core.display.HTML object>"
      ]
     },
     "metadata": {},
     "output_type": "display_data"
    },
    {
     "data": {
      "text/html": [
       "<div>\n",
       "<style scoped>\n",
       "    .dataframe tbody tr th:only-of-type {\n",
       "        vertical-align: middle;\n",
       "    }\n",
       "\n",
       "    .dataframe tbody tr th {\n",
       "        vertical-align: top;\n",
       "    }\n",
       "\n",
       "    .dataframe thead th {\n",
       "        text-align: right;\n",
       "    }\n",
       "</style>\n",
       "<table border=\"1\" class=\"dataframe\">\n",
       "  <thead>\n",
       "    <tr style=\"text-align: right;\">\n",
       "      <th></th>\n",
       "      <th>USER_ID</th>\n",
       "      <th>ITEM_ID</th>\n",
       "      <th>TITLE</th>\n",
       "      <th>GENRE</th>\n",
       "      <th>TIMESTAMP</th>\n",
       "      <th>DATE</th>\n",
       "    </tr>\n",
       "  </thead>\n",
       "  <tbody>\n",
       "    <tr>\n",
       "      <th>11384</th>\n",
       "      <td>1</td>\n",
       "      <td>2687</td>\n",
       "      <td>Tarzan (1999)</td>\n",
       "      <td>Animation|Children's</td>\n",
       "      <td>978824268</td>\n",
       "      <td>2001-01-06 23:37:48</td>\n",
       "    </tr>\n",
       "  </tbody>\n",
       "</table>\n",
       "</div>"
      ],
      "text/plain": [
       "       USER_ID  ITEM_ID          TITLE                 GENRE  TIMESTAMP  \\\n",
       "11384        1     2687  Tarzan (1999)  Animation|Children's  978824268   \n",
       "\n",
       "                      DATE  \n",
       "11384  2001-01-06 23:37:48  "
      ]
     },
     "metadata": {},
     "output_type": "display_data"
    },
    {
     "data": {
      "text/html": [
       "<font><b>The validation list (Holdout Dataset): </b></font>"
      ],
      "text/plain": [
       "<IPython.core.display.HTML object>"
      ]
     },
     "metadata": {},
     "output_type": "display_data"
    },
    {
     "data": {
      "text/html": [
       "<div>\n",
       "<style scoped>\n",
       "    .dataframe tbody tr th:only-of-type {\n",
       "        vertical-align: middle;\n",
       "    }\n",
       "\n",
       "    .dataframe tbody tr th {\n",
       "        vertical-align: top;\n",
       "    }\n",
       "\n",
       "    .dataframe thead th {\n",
       "        text-align: right;\n",
       "    }\n",
       "</style>\n",
       "<table border=\"1\" class=\"dataframe\">\n",
       "  <thead>\n",
       "    <tr style=\"text-align: right;\">\n",
       "      <th></th>\n",
       "      <th>USER_ID</th>\n",
       "      <th>ITEM_ID</th>\n",
       "      <th>TITLE</th>\n",
       "      <th>GENRE</th>\n",
       "      <th>TIMESTAMP</th>\n",
       "      <th>DATE</th>\n",
       "    </tr>\n",
       "  </thead>\n",
       "  <tbody>\n",
       "    <tr>\n",
       "      <th>166</th>\n",
       "      <td>1</td>\n",
       "      <td>783</td>\n",
       "      <td>Hunchback of Notre Dame, The (1996)</td>\n",
       "      <td>Animation|Children's|Musical</td>\n",
       "      <td>978824291</td>\n",
       "      <td>2001-01-06 23:38:11</td>\n",
       "    </tr>\n",
       "    <tr>\n",
       "      <th>0</th>\n",
       "      <td>1</td>\n",
       "      <td>2355</td>\n",
       "      <td>Bug's Life, A (1998)</td>\n",
       "      <td>Animation|Children's|Comedy</td>\n",
       "      <td>978824291</td>\n",
       "      <td>2001-01-06 23:38:11</td>\n",
       "    </tr>\n",
       "    <tr>\n",
       "      <th>101</th>\n",
       "      <td>1</td>\n",
       "      <td>1907</td>\n",
       "      <td>Mulan (1998)</td>\n",
       "      <td>Animation|Children's</td>\n",
       "      <td>978824330</td>\n",
       "      <td>2001-01-06 23:38:50</td>\n",
       "    </tr>\n",
       "  </tbody>\n",
       "</table>\n",
       "</div>"
      ],
      "text/plain": [
       "     USER_ID  ITEM_ID                                TITLE  \\\n",
       "166        1      783  Hunchback of Notre Dame, The (1996)   \n",
       "0          1     2355                 Bug's Life, A (1998)   \n",
       "101        1     1907                         Mulan (1998)   \n",
       "\n",
       "                            GENRE  TIMESTAMP                 DATE  \n",
       "166  Animation|Children's|Musical  978824291  2001-01-06 23:38:11  \n",
       "0     Animation|Children's|Comedy  978824291  2001-01-06 23:38:11  \n",
       "101          Animation|Children's  978824330  2001-01-06 23:38:50  "
      ]
     },
     "metadata": {},
     "output_type": "display_data"
    },
    {
     "data": {
      "text/html": [
       "<font><b>The recommended list by Campaign: </b></font>"
      ],
      "text/plain": [
       "<IPython.core.display.HTML object>"
      ]
     },
     "metadata": {},
     "output_type": "display_data"
    },
    {
     "data": {
      "text/html": [
       "<div>\n",
       "<style scoped>\n",
       "    .dataframe tbody tr th:only-of-type {\n",
       "        vertical-align: middle;\n",
       "    }\n",
       "\n",
       "    .dataframe tbody tr th {\n",
       "        vertical-align: top;\n",
       "    }\n",
       "\n",
       "    .dataframe thead th {\n",
       "        text-align: right;\n",
       "    }\n",
       "</style>\n",
       "<table border=\"1\" class=\"dataframe\">\n",
       "  <thead>\n",
       "    <tr style=\"text-align: right;\">\n",
       "      <th></th>\n",
       "      <th>TITLE</th>\n",
       "      <th>GENRE</th>\n",
       "    </tr>\n",
       "    <tr>\n",
       "      <th>ITEM_ID</th>\n",
       "      <th></th>\n",
       "      <th></th>\n",
       "    </tr>\n",
       "  </thead>\n",
       "  <tbody>\n",
       "    <tr>\n",
       "      <th>2081</th>\n",
       "      <td>Little Mermaid, The (1989)</td>\n",
       "      <td>Animation|Children's|Comedy|Musical|Romance</td>\n",
       "    </tr>\n",
       "    <tr>\n",
       "      <th>1907</th>\n",
       "      <td>Mulan (1998)</td>\n",
       "      <td>Animation|Children's</td>\n",
       "    </tr>\n",
       "    <tr>\n",
       "      <th>2085</th>\n",
       "      <td>101 Dalmatians (1961)</td>\n",
       "      <td>Animation|Children's</td>\n",
       "    </tr>\n",
       "    <tr>\n",
       "      <th>2137</th>\n",
       "      <td>Charlotte's Web (1973)</td>\n",
       "      <td>Animation|Children's</td>\n",
       "    </tr>\n",
       "    <tr>\n",
       "      <th>783</th>\n",
       "      <td>Hunchback of Notre Dame, The (1996)</td>\n",
       "      <td>Animation|Children's|Musical</td>\n",
       "    </tr>\n",
       "    <tr>\n",
       "      <th>1</th>\n",
       "      <td>Toy Story (1995)</td>\n",
       "      <td>Animation|Children's|Comedy</td>\n",
       "    </tr>\n",
       "    <tr>\n",
       "      <th>594</th>\n",
       "      <td>Snow White and the Seven Dwarfs (1937)</td>\n",
       "      <td>Animation|Children's|Musical</td>\n",
       "    </tr>\n",
       "    <tr>\n",
       "      <th>2762</th>\n",
       "      <td>Sixth Sense, The (1999)</td>\n",
       "      <td>Thriller</td>\n",
       "    </tr>\n",
       "    <tr>\n",
       "      <th>2090</th>\n",
       "      <td>Rescuers, The (1977)</td>\n",
       "      <td>Animation|Children's</td>\n",
       "    </tr>\n",
       "    <tr>\n",
       "      <th>364</th>\n",
       "      <td>Lion King, The (1994)</td>\n",
       "      <td>Animation|Children's|Musical</td>\n",
       "    </tr>\n",
       "  </tbody>\n",
       "</table>\n",
       "</div>"
      ],
      "text/plain": [
       "                                          TITLE  \\\n",
       "ITEM_ID                                           \n",
       "2081                 Little Mermaid, The (1989)   \n",
       "1907                               Mulan (1998)   \n",
       "2085                      101 Dalmatians (1961)   \n",
       "2137                     Charlotte's Web (1973)   \n",
       "783         Hunchback of Notre Dame, The (1996)   \n",
       "1                              Toy Story (1995)   \n",
       "594      Snow White and the Seven Dwarfs (1937)   \n",
       "2762                    Sixth Sense, The (1999)   \n",
       "2090                       Rescuers, The (1977)   \n",
       "364                       Lion King, The (1994)   \n",
       "\n",
       "                                               GENRE  \n",
       "ITEM_ID                                               \n",
       "2081     Animation|Children's|Comedy|Musical|Romance  \n",
       "1907                            Animation|Children's  \n",
       "2085                            Animation|Children's  \n",
       "2137                            Animation|Children's  \n",
       "783                     Animation|Children's|Musical  \n",
       "1                        Animation|Children's|Comedy  \n",
       "594                     Animation|Children's|Musical  \n",
       "2762                                        Thriller  \n",
       "2090                            Animation|Children's  \n",
       "364                     Animation|Children's|Musical  "
      ]
     },
     "metadata": {},
     "output_type": "display_data"
    },
    {
     "data": {
      "text/html": [
       "<font><b>The matched list between validation (Holdout Dataset)and recommendation: </b></font>"
      ],
      "text/plain": [
       "<IPython.core.display.HTML object>"
      ]
     },
     "metadata": {},
     "output_type": "display_data"
    },
    {
     "data": {
      "text/plain": [
       "[[0, 1, 0, 0, 1, 0, 0, 0, 0, 0, 0, 0, 1, 0, 0, 0, 0, 0, 0, 0, 0, 0, 0, 0, 0]]"
      ]
     },
     "metadata": {},
     "output_type": "display_data"
    }
   ],
   "source": [
    "user_id = 1    \n",
    "track_item_recommend(user_id,  sims_campaign_arn)    \n"
   ]
  },
  {
   "cell_type": "markdown",
   "metadata": {},
   "source": [
    "## 유저 2\n"
   ]
  },
  {
   "cell_type": "code",
   "execution_count": 7,
   "metadata": {},
   "outputs": [
    {
     "data": {
      "text/html": [
       "<font><b>The last item the user clicked: </b></font>"
      ],
      "text/plain": [
       "<IPython.core.display.HTML object>"
      ]
     },
     "metadata": {},
     "output_type": "display_data"
    },
    {
     "data": {
      "text/html": [
       "<div>\n",
       "<style scoped>\n",
       "    .dataframe tbody tr th:only-of-type {\n",
       "        vertical-align: middle;\n",
       "    }\n",
       "\n",
       "    .dataframe tbody tr th {\n",
       "        vertical-align: top;\n",
       "    }\n",
       "\n",
       "    .dataframe thead th {\n",
       "        text-align: right;\n",
       "    }\n",
       "</style>\n",
       "<table border=\"1\" class=\"dataframe\">\n",
       "  <thead>\n",
       "    <tr style=\"text-align: right;\">\n",
       "      <th></th>\n",
       "      <th>USER_ID</th>\n",
       "      <th>ITEM_ID</th>\n",
       "      <th>TITLE</th>\n",
       "      <th>GENRE</th>\n",
       "      <th>TIMESTAMP</th>\n",
       "      <th>DATE</th>\n",
       "    </tr>\n",
       "  </thead>\n",
       "  <tbody>\n",
       "    <tr>\n",
       "      <th>47355</th>\n",
       "      <td>2</td>\n",
       "      <td>1690</td>\n",
       "      <td>Alien: Resurrection (1997)</td>\n",
       "      <td>Action|Horror|Sci-Fi</td>\n",
       "      <td>978300051</td>\n",
       "      <td>2000-12-31 22:00:51</td>\n",
       "    </tr>\n",
       "  </tbody>\n",
       "</table>\n",
       "</div>"
      ],
      "text/plain": [
       "       USER_ID  ITEM_ID                       TITLE                 GENRE  \\\n",
       "47355        2     1690  Alien: Resurrection (1997)  Action|Horror|Sci-Fi   \n",
       "\n",
       "       TIMESTAMP                 DATE  \n",
       "47355  978300051  2000-12-31 22:00:51  "
      ]
     },
     "metadata": {},
     "output_type": "display_data"
    },
    {
     "data": {
      "text/html": [
       "<font><b>The validation list (Holdout Dataset): </b></font>"
      ],
      "text/plain": [
       "<IPython.core.display.HTML object>"
      ]
     },
     "metadata": {},
     "output_type": "display_data"
    },
    {
     "data": {
      "text/html": [
       "<div>\n",
       "<style scoped>\n",
       "    .dataframe tbody tr th:only-of-type {\n",
       "        vertical-align: middle;\n",
       "    }\n",
       "\n",
       "    .dataframe tbody tr th {\n",
       "        vertical-align: top;\n",
       "    }\n",
       "\n",
       "    .dataframe thead th {\n",
       "        text-align: right;\n",
       "    }\n",
       "</style>\n",
       "<table border=\"1\" class=\"dataframe\">\n",
       "  <thead>\n",
       "    <tr style=\"text-align: right;\">\n",
       "      <th></th>\n",
       "      <th>USER_ID</th>\n",
       "      <th>ITEM_ID</th>\n",
       "      <th>TITLE</th>\n",
       "      <th>GENRE</th>\n",
       "      <th>TIMESTAMP</th>\n",
       "      <th>DATE</th>\n",
       "    </tr>\n",
       "  </thead>\n",
       "  <tbody>\n",
       "    <tr>\n",
       "      <th>469</th>\n",
       "      <td>2</td>\n",
       "      <td>3257</td>\n",
       "      <td>Bodyguard, The (1992)</td>\n",
       "      <td>Action|Drama|Romance|Thriller</td>\n",
       "      <td>978300073</td>\n",
       "      <td>2000-12-31 22:01:13</td>\n",
       "    </tr>\n",
       "    <tr>\n",
       "      <th>555</th>\n",
       "      <td>2</td>\n",
       "      <td>736</td>\n",
       "      <td>Twister (1996)</td>\n",
       "      <td>Action|Adventure|Romance|Thriller</td>\n",
       "      <td>978300100</td>\n",
       "      <td>2000-12-31 22:01:40</td>\n",
       "    </tr>\n",
       "    <tr>\n",
       "      <th>268</th>\n",
       "      <td>2</td>\n",
       "      <td>292</td>\n",
       "      <td>Outbreak (1995)</td>\n",
       "      <td>Action|Drama|Thriller</td>\n",
       "      <td>978300123</td>\n",
       "      <td>2000-12-31 22:02:03</td>\n",
       "    </tr>\n",
       "    <tr>\n",
       "      <th>675</th>\n",
       "      <td>2</td>\n",
       "      <td>95</td>\n",
       "      <td>Broken Arrow (1996)</td>\n",
       "      <td>Action|Thriller</td>\n",
       "      <td>978300143</td>\n",
       "      <td>2000-12-31 22:02:23</td>\n",
       "    </tr>\n",
       "    <tr>\n",
       "      <th>215</th>\n",
       "      <td>2</td>\n",
       "      <td>1687</td>\n",
       "      <td>Jackal, The (1997)</td>\n",
       "      <td>Action|Thriller</td>\n",
       "      <td>978300174</td>\n",
       "      <td>2000-12-31 22:02:54</td>\n",
       "    </tr>\n",
       "    <tr>\n",
       "      <th>734</th>\n",
       "      <td>2</td>\n",
       "      <td>1917</td>\n",
       "      <td>Armageddon (1998)</td>\n",
       "      <td>Action|Adventure|Sci-Fi|Thriller</td>\n",
       "      <td>978300174</td>\n",
       "      <td>2000-12-31 22:02:54</td>\n",
       "    </tr>\n",
       "    <tr>\n",
       "      <th>339</th>\n",
       "      <td>2</td>\n",
       "      <td>1544</td>\n",
       "      <td>Lost World: Jurassic Park, The (1997)</td>\n",
       "      <td>Action|Adventure|Sci-Fi|Thriller</td>\n",
       "      <td>978300174</td>\n",
       "      <td>2000-12-31 22:02:54</td>\n",
       "    </tr>\n",
       "  </tbody>\n",
       "</table>\n",
       "</div>"
      ],
      "text/plain": [
       "     USER_ID  ITEM_ID                                  TITLE  \\\n",
       "469        2     3257                  Bodyguard, The (1992)   \n",
       "555        2      736                         Twister (1996)   \n",
       "268        2      292                        Outbreak (1995)   \n",
       "675        2       95                    Broken Arrow (1996)   \n",
       "215        2     1687                     Jackal, The (1997)   \n",
       "734        2     1917                      Armageddon (1998)   \n",
       "339        2     1544  Lost World: Jurassic Park, The (1997)   \n",
       "\n",
       "                                 GENRE  TIMESTAMP                 DATE  \n",
       "469      Action|Drama|Romance|Thriller  978300073  2000-12-31 22:01:13  \n",
       "555  Action|Adventure|Romance|Thriller  978300100  2000-12-31 22:01:40  \n",
       "268              Action|Drama|Thriller  978300123  2000-12-31 22:02:03  \n",
       "675                    Action|Thriller  978300143  2000-12-31 22:02:23  \n",
       "215                    Action|Thriller  978300174  2000-12-31 22:02:54  \n",
       "734   Action|Adventure|Sci-Fi|Thriller  978300174  2000-12-31 22:02:54  \n",
       "339   Action|Adventure|Sci-Fi|Thriller  978300174  2000-12-31 22:02:54  "
      ]
     },
     "metadata": {},
     "output_type": "display_data"
    },
    {
     "data": {
      "text/html": [
       "<font><b>The recommended list by Campaign: </b></font>"
      ],
      "text/plain": [
       "<IPython.core.display.HTML object>"
      ]
     },
     "metadata": {},
     "output_type": "display_data"
    },
    {
     "data": {
      "text/html": [
       "<div>\n",
       "<style scoped>\n",
       "    .dataframe tbody tr th:only-of-type {\n",
       "        vertical-align: middle;\n",
       "    }\n",
       "\n",
       "    .dataframe tbody tr th {\n",
       "        vertical-align: top;\n",
       "    }\n",
       "\n",
       "    .dataframe thead th {\n",
       "        text-align: right;\n",
       "    }\n",
       "</style>\n",
       "<table border=\"1\" class=\"dataframe\">\n",
       "  <thead>\n",
       "    <tr style=\"text-align: right;\">\n",
       "      <th></th>\n",
       "      <th>TITLE</th>\n",
       "      <th>GENRE</th>\n",
       "    </tr>\n",
       "    <tr>\n",
       "      <th>ITEM_ID</th>\n",
       "      <th></th>\n",
       "      <th></th>\n",
       "    </tr>\n",
       "  </thead>\n",
       "  <tbody>\n",
       "    <tr>\n",
       "      <th>1917</th>\n",
       "      <td>Armageddon (1998)</td>\n",
       "      <td>Action|Adventure|Sci-Fi|Thriller</td>\n",
       "    </tr>\n",
       "    <tr>\n",
       "      <th>196</th>\n",
       "      <td>Species (1995)</td>\n",
       "      <td>Horror|Sci-Fi</td>\n",
       "    </tr>\n",
       "    <tr>\n",
       "      <th>1544</th>\n",
       "      <td>Lost World: Jurassic Park, The (1997)</td>\n",
       "      <td>Action|Adventure|Sci-Fi|Thriller</td>\n",
       "    </tr>\n",
       "    <tr>\n",
       "      <th>1371</th>\n",
       "      <td>Star Trek: The Motion Picture (1979)</td>\n",
       "      <td>Action|Adventure|Sci-Fi</td>\n",
       "    </tr>\n",
       "    <tr>\n",
       "      <th>2393</th>\n",
       "      <td>Star Trek: Insurrection (1998)</td>\n",
       "      <td>Action|Sci-Fi</td>\n",
       "    </tr>\n",
       "    <tr>\n",
       "      <th>1779</th>\n",
       "      <td>Sphere (1998)</td>\n",
       "      <td>Adventure|Sci-Fi|Thriller</td>\n",
       "    </tr>\n",
       "    <tr>\n",
       "      <th>780</th>\n",
       "      <td>Independence Day (ID4) (1996)</td>\n",
       "      <td>Action|Sci-Fi|War</td>\n",
       "    </tr>\n",
       "    <tr>\n",
       "      <th>3701</th>\n",
       "      <td>Alien Nation (1988)</td>\n",
       "      <td>Crime|Drama|Sci-Fi</td>\n",
       "    </tr>\n",
       "    <tr>\n",
       "      <th>1037</th>\n",
       "      <td>Lawnmower Man, The (1992)</td>\n",
       "      <td>Action|Sci-Fi|Thriller</td>\n",
       "    </tr>\n",
       "    <tr>\n",
       "      <th>1225</th>\n",
       "      <td>Amadeus (1984)</td>\n",
       "      <td>Drama</td>\n",
       "    </tr>\n",
       "  </tbody>\n",
       "</table>\n",
       "</div>"
      ],
      "text/plain": [
       "                                         TITLE  \\\n",
       "ITEM_ID                                          \n",
       "1917                         Armageddon (1998)   \n",
       "196                             Species (1995)   \n",
       "1544     Lost World: Jurassic Park, The (1997)   \n",
       "1371      Star Trek: The Motion Picture (1979)   \n",
       "2393            Star Trek: Insurrection (1998)   \n",
       "1779                             Sphere (1998)   \n",
       "780              Independence Day (ID4) (1996)   \n",
       "3701                       Alien Nation (1988)   \n",
       "1037                 Lawnmower Man, The (1992)   \n",
       "1225                            Amadeus (1984)   \n",
       "\n",
       "                                    GENRE  \n",
       "ITEM_ID                                    \n",
       "1917     Action|Adventure|Sci-Fi|Thriller  \n",
       "196                         Horror|Sci-Fi  \n",
       "1544     Action|Adventure|Sci-Fi|Thriller  \n",
       "1371              Action|Adventure|Sci-Fi  \n",
       "2393                        Action|Sci-Fi  \n",
       "1779            Adventure|Sci-Fi|Thriller  \n",
       "780                     Action|Sci-Fi|War  \n",
       "3701                   Crime|Drama|Sci-Fi  \n",
       "1037               Action|Sci-Fi|Thriller  \n",
       "1225                                Drama  "
      ]
     },
     "metadata": {},
     "output_type": "display_data"
    },
    {
     "data": {
      "text/html": [
       "<font><b>The matched list between validation (Holdout Dataset)and recommendation: </b></font>"
      ],
      "text/plain": [
       "<IPython.core.display.HTML object>"
      ]
     },
     "metadata": {},
     "output_type": "display_data"
    },
    {
     "data": {
      "text/plain": [
       "[[1, 0, 1, 0, 0, 0, 0, 0, 0, 0, 0, 0, 0, 0, 0, 0, 0, 0, 0, 0, 0, 1, 0, 0, 0]]"
      ]
     },
     "metadata": {},
     "output_type": "display_data"
    }
   ],
   "source": [
    "user_id = 2\n",
    "track_item_recommend(user_id,  sims_campaign_arn)    "
   ]
  },
  {
   "cell_type": "markdown",
   "metadata": {},
   "source": [
    "## 유저 5002\n"
   ]
  },
  {
   "cell_type": "code",
   "execution_count": 8,
   "metadata": {},
   "outputs": [
    {
     "data": {
      "text/html": [
       "<font><b>The last item the user clicked: </b></font>"
      ],
      "text/plain": [
       "<IPython.core.display.HTML object>"
      ]
     },
     "metadata": {},
     "output_type": "display_data"
    },
    {
     "data": {
      "text/html": [
       "<div>\n",
       "<style scoped>\n",
       "    .dataframe tbody tr th:only-of-type {\n",
       "        vertical-align: middle;\n",
       "    }\n",
       "\n",
       "    .dataframe tbody tr th {\n",
       "        vertical-align: top;\n",
       "    }\n",
       "\n",
       "    .dataframe thead th {\n",
       "        text-align: right;\n",
       "    }\n",
       "</style>\n",
       "<table border=\"1\" class=\"dataframe\">\n",
       "  <thead>\n",
       "    <tr style=\"text-align: right;\">\n",
       "      <th></th>\n",
       "      <th>USER_ID</th>\n",
       "      <th>ITEM_ID</th>\n",
       "      <th>TITLE</th>\n",
       "      <th>GENRE</th>\n",
       "      <th>TIMESTAMP</th>\n",
       "      <th>DATE</th>\n",
       "    </tr>\n",
       "  </thead>\n",
       "  <tbody>\n",
       "    <tr>\n",
       "      <th>8071</th>\n",
       "      <td>5002</td>\n",
       "      <td>595</td>\n",
       "      <td>Beauty and the Beast (1991)</td>\n",
       "      <td>Animation|Children's|Musical</td>\n",
       "      <td>963027451</td>\n",
       "      <td>2000-07-08 03:37:31</td>\n",
       "    </tr>\n",
       "  </tbody>\n",
       "</table>\n",
       "</div>"
      ],
      "text/plain": [
       "      USER_ID  ITEM_ID                        TITLE  \\\n",
       "8071     5002      595  Beauty and the Beast (1991)   \n",
       "\n",
       "                             GENRE  TIMESTAMP                 DATE  \n",
       "8071  Animation|Children's|Musical  963027451  2000-07-08 03:37:31  "
      ]
     },
     "metadata": {},
     "output_type": "display_data"
    },
    {
     "data": {
      "text/html": [
       "<font><b>The validation list (Holdout Dataset): </b></font>"
      ],
      "text/plain": [
       "<IPython.core.display.HTML object>"
      ]
     },
     "metadata": {},
     "output_type": "display_data"
    },
    {
     "data": {
      "text/html": [
       "<div>\n",
       "<style scoped>\n",
       "    .dataframe tbody tr th:only-of-type {\n",
       "        vertical-align: middle;\n",
       "    }\n",
       "\n",
       "    .dataframe tbody tr th {\n",
       "        vertical-align: top;\n",
       "    }\n",
       "\n",
       "    .dataframe thead th {\n",
       "        text-align: right;\n",
       "    }\n",
       "</style>\n",
       "<table border=\"1\" class=\"dataframe\">\n",
       "  <thead>\n",
       "    <tr style=\"text-align: right;\">\n",
       "      <th></th>\n",
       "      <th>USER_ID</th>\n",
       "      <th>ITEM_ID</th>\n",
       "      <th>TITLE</th>\n",
       "      <th>GENRE</th>\n",
       "      <th>TIMESTAMP</th>\n",
       "      <th>DATE</th>\n",
       "    </tr>\n",
       "  </thead>\n",
       "  <tbody>\n",
       "    <tr>\n",
       "      <th>31308</th>\n",
       "      <td>5002</td>\n",
       "      <td>2160</td>\n",
       "      <td>Rosemary's Baby (1968)</td>\n",
       "      <td>Horror|Thriller</td>\n",
       "      <td>963028123</td>\n",
       "      <td>2000-07-08 03:48:43</td>\n",
       "    </tr>\n",
       "    <tr>\n",
       "      <th>18429</th>\n",
       "      <td>5002</td>\n",
       "      <td>2791</td>\n",
       "      <td>Airplane! (1980)</td>\n",
       "      <td>Comedy</td>\n",
       "      <td>963278308</td>\n",
       "      <td>2000-07-11 01:18:28</td>\n",
       "    </tr>\n",
       "    <tr>\n",
       "      <th>43474</th>\n",
       "      <td>5002</td>\n",
       "      <td>2416</td>\n",
       "      <td>Back to School (1986)</td>\n",
       "      <td>Comedy</td>\n",
       "      <td>963278347</td>\n",
       "      <td>2000-07-11 01:19:07</td>\n",
       "    </tr>\n",
       "    <tr>\n",
       "      <th>29575</th>\n",
       "      <td>5002</td>\n",
       "      <td>674</td>\n",
       "      <td>Barbarella (1968)</td>\n",
       "      <td>Adventure|Sci-Fi</td>\n",
       "      <td>963278381</td>\n",
       "      <td>2000-07-11 01:19:41</td>\n",
       "    </tr>\n",
       "    <tr>\n",
       "      <th>6893</th>\n",
       "      <td>5002</td>\n",
       "      <td>3255</td>\n",
       "      <td>League of Their Own, A (1992)</td>\n",
       "      <td>Comedy|Drama</td>\n",
       "      <td>963281233</td>\n",
       "      <td>2000-07-11 02:07:13</td>\n",
       "    </tr>\n",
       "    <tr>\n",
       "      <th>38931</th>\n",
       "      <td>5002</td>\n",
       "      <td>3100</td>\n",
       "      <td>River Runs Through It, A (1992)</td>\n",
       "      <td>Drama</td>\n",
       "      <td>963281305</td>\n",
       "      <td>2000-07-11 02:08:25</td>\n",
       "    </tr>\n",
       "    <tr>\n",
       "      <th>35582</th>\n",
       "      <td>5002</td>\n",
       "      <td>1029</td>\n",
       "      <td>Dumbo (1941)</td>\n",
       "      <td>Animation|Children's|Musical</td>\n",
       "      <td>963281378</td>\n",
       "      <td>2000-07-11 02:09:38</td>\n",
       "    </tr>\n",
       "    <tr>\n",
       "      <th>12951</th>\n",
       "      <td>5002</td>\n",
       "      <td>708</td>\n",
       "      <td>Truth About Cats &amp; Dogs, The (1996)</td>\n",
       "      <td>Comedy|Romance</td>\n",
       "      <td>963281736</td>\n",
       "      <td>2000-07-11 02:15:36</td>\n",
       "    </tr>\n",
       "    <tr>\n",
       "      <th>22706</th>\n",
       "      <td>5002</td>\n",
       "      <td>1441</td>\n",
       "      <td>Benny &amp; Joon (1993)</td>\n",
       "      <td>Comedy|Romance</td>\n",
       "      <td>963281749</td>\n",
       "      <td>2000-07-11 02:15:49</td>\n",
       "    </tr>\n",
       "    <tr>\n",
       "      <th>31066</th>\n",
       "      <td>5002</td>\n",
       "      <td>383</td>\n",
       "      <td>Wyatt Earp (1994)</td>\n",
       "      <td>Western</td>\n",
       "      <td>963282010</td>\n",
       "      <td>2000-07-11 02:20:10</td>\n",
       "    </tr>\n",
       "    <tr>\n",
       "      <th>6681</th>\n",
       "      <td>5002</td>\n",
       "      <td>3252</td>\n",
       "      <td>Scent of a Woman (1992)</td>\n",
       "      <td>Drama</td>\n",
       "      <td>963282271</td>\n",
       "      <td>2000-07-11 02:24:31</td>\n",
       "    </tr>\n",
       "    <tr>\n",
       "      <th>18542</th>\n",
       "      <td>5002</td>\n",
       "      <td>150</td>\n",
       "      <td>Apollo 13 (1995)</td>\n",
       "      <td>Drama</td>\n",
       "      <td>963292132</td>\n",
       "      <td>2000-07-11 05:08:52</td>\n",
       "    </tr>\n",
       "    <tr>\n",
       "      <th>3417</th>\n",
       "      <td>5002</td>\n",
       "      <td>1704</td>\n",
       "      <td>Good Will Hunting (1997)</td>\n",
       "      <td>Drama</td>\n",
       "      <td>998359968</td>\n",
       "      <td>2001-08-21 02:12:48</td>\n",
       "    </tr>\n",
       "    <tr>\n",
       "      <th>3502</th>\n",
       "      <td>5002</td>\n",
       "      <td>1203</td>\n",
       "      <td>12 Angry Men (1957)</td>\n",
       "      <td>Drama</td>\n",
       "      <td>998360060</td>\n",
       "      <td>2001-08-21 02:14:20</td>\n",
       "    </tr>\n",
       "  </tbody>\n",
       "</table>\n",
       "</div>"
      ],
      "text/plain": [
       "       USER_ID  ITEM_ID                                TITLE  \\\n",
       "31308     5002     2160               Rosemary's Baby (1968)   \n",
       "18429     5002     2791                     Airplane! (1980)   \n",
       "43474     5002     2416                Back to School (1986)   \n",
       "29575     5002      674                    Barbarella (1968)   \n",
       "6893      5002     3255        League of Their Own, A (1992)   \n",
       "38931     5002     3100      River Runs Through It, A (1992)   \n",
       "35582     5002     1029                         Dumbo (1941)   \n",
       "12951     5002      708  Truth About Cats & Dogs, The (1996)   \n",
       "22706     5002     1441                  Benny & Joon (1993)   \n",
       "31066     5002      383                    Wyatt Earp (1994)   \n",
       "6681      5002     3252              Scent of a Woman (1992)   \n",
       "18542     5002      150                     Apollo 13 (1995)   \n",
       "3417      5002     1704             Good Will Hunting (1997)   \n",
       "3502      5002     1203                  12 Angry Men (1957)   \n",
       "\n",
       "                              GENRE  TIMESTAMP                 DATE  \n",
       "31308               Horror|Thriller  963028123  2000-07-08 03:48:43  \n",
       "18429                        Comedy  963278308  2000-07-11 01:18:28  \n",
       "43474                        Comedy  963278347  2000-07-11 01:19:07  \n",
       "29575              Adventure|Sci-Fi  963278381  2000-07-11 01:19:41  \n",
       "6893                   Comedy|Drama  963281233  2000-07-11 02:07:13  \n",
       "38931                         Drama  963281305  2000-07-11 02:08:25  \n",
       "35582  Animation|Children's|Musical  963281378  2000-07-11 02:09:38  \n",
       "12951                Comedy|Romance  963281736  2000-07-11 02:15:36  \n",
       "22706                Comedy|Romance  963281749  2000-07-11 02:15:49  \n",
       "31066                       Western  963282010  2000-07-11 02:20:10  \n",
       "6681                          Drama  963282271  2000-07-11 02:24:31  \n",
       "18542                         Drama  963292132  2000-07-11 05:08:52  \n",
       "3417                          Drama  998359968  2001-08-21 02:12:48  \n",
       "3502                          Drama  998360060  2001-08-21 02:14:20  "
      ]
     },
     "metadata": {},
     "output_type": "display_data"
    },
    {
     "data": {
      "text/html": [
       "<font><b>The recommended list by Campaign: </b></font>"
      ],
      "text/plain": [
       "<IPython.core.display.HTML object>"
      ]
     },
     "metadata": {},
     "output_type": "display_data"
    },
    {
     "data": {
      "text/html": [
       "<div>\n",
       "<style scoped>\n",
       "    .dataframe tbody tr th:only-of-type {\n",
       "        vertical-align: middle;\n",
       "    }\n",
       "\n",
       "    .dataframe tbody tr th {\n",
       "        vertical-align: top;\n",
       "    }\n",
       "\n",
       "    .dataframe thead th {\n",
       "        text-align: right;\n",
       "    }\n",
       "</style>\n",
       "<table border=\"1\" class=\"dataframe\">\n",
       "  <thead>\n",
       "    <tr style=\"text-align: right;\">\n",
       "      <th></th>\n",
       "      <th>TITLE</th>\n",
       "      <th>GENRE</th>\n",
       "    </tr>\n",
       "    <tr>\n",
       "      <th>ITEM_ID</th>\n",
       "      <th></th>\n",
       "      <th></th>\n",
       "    </tr>\n",
       "  </thead>\n",
       "  <tbody>\n",
       "    <tr>\n",
       "      <th>364</th>\n",
       "      <td>Lion King, The (1994)</td>\n",
       "      <td>Animation|Children's|Musical</td>\n",
       "    </tr>\n",
       "    <tr>\n",
       "      <th>594</th>\n",
       "      <td>Snow White and the Seven Dwarfs (1937)</td>\n",
       "      <td>Animation|Children's|Musical</td>\n",
       "    </tr>\n",
       "    <tr>\n",
       "      <th>1022</th>\n",
       "      <td>Cinderella (1950)</td>\n",
       "      <td>Animation|Children's|Musical</td>\n",
       "    </tr>\n",
       "    <tr>\n",
       "      <th>1029</th>\n",
       "      <td>Dumbo (1941)</td>\n",
       "      <td>Animation|Children's|Musical</td>\n",
       "    </tr>\n",
       "    <tr>\n",
       "      <th>1282</th>\n",
       "      <td>Fantasia (1940)</td>\n",
       "      <td>Animation|Children's|Musical</td>\n",
       "    </tr>\n",
       "    <tr>\n",
       "      <th>2687</th>\n",
       "      <td>Tarzan (1999)</td>\n",
       "      <td>Animation|Children's</td>\n",
       "    </tr>\n",
       "    <tr>\n",
       "      <th>1</th>\n",
       "      <td>Toy Story (1995)</td>\n",
       "      <td>Animation|Children's|Comedy</td>\n",
       "    </tr>\n",
       "    <tr>\n",
       "      <th>2355</th>\n",
       "      <td>Bug's Life, A (1998)</td>\n",
       "      <td>Animation|Children's|Comedy</td>\n",
       "    </tr>\n",
       "    <tr>\n",
       "      <th>2080</th>\n",
       "      <td>Lady and the Tramp (1955)</td>\n",
       "      <td>Animation|Children's|Comedy|Musical|Romance</td>\n",
       "    </tr>\n",
       "    <tr>\n",
       "      <th>1907</th>\n",
       "      <td>Mulan (1998)</td>\n",
       "      <td>Animation|Children's</td>\n",
       "    </tr>\n",
       "  </tbody>\n",
       "</table>\n",
       "</div>"
      ],
      "text/plain": [
       "                                          TITLE  \\\n",
       "ITEM_ID                                           \n",
       "364                       Lion King, The (1994)   \n",
       "594      Snow White and the Seven Dwarfs (1937)   \n",
       "1022                          Cinderella (1950)   \n",
       "1029                               Dumbo (1941)   \n",
       "1282                            Fantasia (1940)   \n",
       "2687                              Tarzan (1999)   \n",
       "1                              Toy Story (1995)   \n",
       "2355                       Bug's Life, A (1998)   \n",
       "2080                  Lady and the Tramp (1955)   \n",
       "1907                               Mulan (1998)   \n",
       "\n",
       "                                               GENRE  \n",
       "ITEM_ID                                               \n",
       "364                     Animation|Children's|Musical  \n",
       "594                     Animation|Children's|Musical  \n",
       "1022                    Animation|Children's|Musical  \n",
       "1029                    Animation|Children's|Musical  \n",
       "1282                    Animation|Children's|Musical  \n",
       "2687                            Animation|Children's  \n",
       "1                        Animation|Children's|Comedy  \n",
       "2355                     Animation|Children's|Comedy  \n",
       "2080     Animation|Children's|Comedy|Musical|Romance  \n",
       "1907                            Animation|Children's  "
      ]
     },
     "metadata": {},
     "output_type": "display_data"
    },
    {
     "data": {
      "text/html": [
       "<font><b>The matched list between validation (Holdout Dataset)and recommendation: </b></font>"
      ],
      "text/plain": [
       "<IPython.core.display.HTML object>"
      ]
     },
     "metadata": {},
     "output_type": "display_data"
    },
    {
     "data": {
      "text/plain": [
       "[[0, 0, 0, 1, 0, 0, 0, 0, 0, 0, 0, 0, 0, 0, 0, 0, 0, 0, 1, 0, 0, 0, 0, 0, 0]]"
      ]
     },
     "metadata": {},
     "output_type": "display_data"
    }
   ],
   "source": [
    "user_id = 5002\n",
    "track_item_recommend(user_id,  sims_campaign_arn)    "
   ]
  },
  {
   "cell_type": "markdown",
   "metadata": {},
   "source": [
    "# 4. Validaton(holdout, 검증) 데이터 세트 평가하기\n",
    "\n",
    "이번 파트에서는 앞장에 남겨두었던 데이터 세트를 활용하여 모델 성능을 평가 하도록 합니다.\n",
    "테스트 데이터 셋에 있는 모든 고유한 사용자에 대해 테스트 데이터 세트 Interaction Ground Truth data와 Campaign에서 생성된 결과를 비교 하도록 합니다.\n",
    "\n",
    "#### Help 함수"
   ]
  },
  {
   "cell_type": "code",
   "execution_count": 9,
   "metadata": {},
   "outputs": [],
   "source": [
    "\n",
    "def evaluate_relevance(relevance):\n",
    "    '''\n",
    "    relevance 입력 받으면, 지표를 사전으로 리턴 함\n",
    "    '''\n",
    "    mrr = np.mean([mean_reciprocal_rank(r) for r in relevance])\n",
    "    p_at_5= np.mean([precision_at_k(r, 5) for r in relevance])\n",
    "    p_at_10 = np.mean([precision_at_k(r, 10) for r in relevance])\n",
    "    p_at_25 = np.mean([precision_at_k(r, 25) for r in relevance])\n",
    "    ndcg_at_5 = np.mean([ndcg_at_k(r, 5) for r in relevance])\n",
    "    ndcg_at_10 = np.mean([ndcg_at_k(r, 10) for r in relevance])\n",
    "    ndcg_at_25 = np.mean([ndcg_at_k(r, 25) for r in relevance])    \n",
    "#     print('mean_reciprocal_rank: ',mrr)\n",
    "#     print('precision_at_5: ',p_at_5)\n",
    "#     print('precision_at_10: ',p_at_10)\n",
    "#     print('precision_at_25: ', p_at_25)\n",
    "#     print('normalized_discounted_cumulative_gain_at_5: ', ndcg_at_5)\n",
    "#     print('normalized_discounted_cu{}mulative_gain_at_10: ',ndcg_at_10 )\n",
    "#     print('normalized_discounted_cumulative_gain_at_25: ',ndcg_at_25 )    \n",
    "\n",
    "    metric_dict = {}\n",
    "    metric_dict['mrr'] = round(mrr,3)\n",
    "    metric_dict['ndcg_at_5'] = round(ndcg_at_5,3)        \n",
    "    metric_dict['ndcg_at_10'] = round(ndcg_at_10,3)            \n",
    "    metric_dict['ndcg_at_25'] = round(ndcg_at_25,3)                \n",
    "    metric_dict['p_at_5'] = round(p_at_5,3)    \n",
    "    metric_dict['p_at_10'] = round(p_at_10, 3)\n",
    "    metric_dict['p_at_25'] = round(p_at_25,3)    \n",
    "        \n",
    "    return metric_dict\n",
    "\n",
    "def build_metric_matrix(solution,metric_dict):\n",
    "    metrics.append([solution,\n",
    "                        metric_dict['mrr'],\n",
    "                        metric_dict['p_at_5'],\n",
    "                        metric_dict['p_at_10'],\n",
    "                        metric_dict['p_at_25'],\n",
    "                        metric_dict['ndcg_at_5'],\n",
    "                        metric_dict['ndcg_at_10'],\n",
    "                        metric_dict['ndcg_at_25']\n",
    "\n",
    "])\n"
   ]
  },
  {
   "cell_type": "code",
   "execution_count": 10,
   "metadata": {},
   "outputs": [],
   "source": [
    "def get_relevance_item_list(campaign_arn, df_rich, df_holdout, test_user_list):\n",
    "    '''\n",
    "    유저 그룹에 대해서 validation(warm_holdout)와 추천 리스트에서 매치된 것을 제공    \n",
    "    '''\n",
    "    relevance = []\n",
    "    for user_id in test_user_list:\n",
    "        true_items = set(df_holdout[df_holdout['USER_ID']==user_id]['ITEM_ID'].values)\n",
    "\n",
    "        # Get user history\n",
    "        history_items = df_rich[df_rich['USER_ID']==user_id].tail(2)\n",
    "#         print(\"history_items df: \\n\")        \n",
    "#         dp(history_items) \n",
    "        # Get last item id\n",
    "        last_item_df = history_items[-1:]\n",
    "        last_item_id = last_item_df[\"ITEM_ID\"].values[0]\n",
    "        # print(\"last_item_id: \", last_item_id)\n",
    "\n",
    "        rec_response = personalize_runtime.get_recommendations(\n",
    "            campaignArn = campaign_arn,\n",
    "            itemId = str(last_item_id)\n",
    "        )\n",
    "        rec_items = [int(x['itemId']) for x in rec_response['itemList']]\n",
    "        relevance.append([int(x in true_items) for x in rec_items])\n",
    "    return relevance\n"
   ]
  },
  {
   "cell_type": "markdown",
   "metadata": {},
   "source": [
    "## 4.1. 샘플 Validation 결과 확인 하기\n",
    "\n",
    "아래 과정은 num_test_user = 6040 (전체) 으로 하면 약 3분 소요 됩니다.\n",
    "디폴트로 1을 설정 합니다.\n",
    "- user_Id == 1 에 해당 됨"
   ]
  },
  {
   "cell_type": "code",
   "execution_count": 19,
   "metadata": {},
   "outputs": [
    {
     "name": "stdout",
     "output_type": "stream",
     "text": [
      "user_id:  1\n"
     ]
    }
   ],
   "source": [
    "test_users = df_holdout['USER_ID'].unique()\n",
    "\n",
    "# num_validation_test_user = 6040\n",
    "num_validation_test_user = 1\n",
    "test_user_list = test_users[:num_validation_test_user]\n",
    "print(\"user_id: \", test_user_list[0])"
   ]
  },
  {
   "cell_type": "code",
   "execution_count": 16,
   "metadata": {},
   "outputs": [
    {
     "name": "stdout",
     "output_type": "stream",
     "text": [
      "CPU times: user 14.6 ms, sys: 29 µs, total: 14.6 ms\n",
      "Wall time: 111 ms\n"
     ]
    }
   ],
   "source": [
    "%%time\n",
    "\n",
    "metrics=[] # 변수 선언\n",
    "# user-perssonalization\n",
    "relevance = get_relevance_item_list(sims_campaign_arn, df_warm_train_rich, df_holdout, test_user_list)\n",
    "metrics_eval_rel = evaluate_relevance(relevance)\n",
    "build_metric_matrix(\"similar-sims\",metrics_eval_rel)\n"
   ]
  },
  {
   "cell_type": "code",
   "execution_count": 17,
   "metadata": {},
   "outputs": [
    {
     "data": {
      "text/html": [
       "<div>\n",
       "<style scoped>\n",
       "    .dataframe tbody tr th:only-of-type {\n",
       "        vertical-align: middle;\n",
       "    }\n",
       "\n",
       "    .dataframe tbody tr th {\n",
       "        vertical-align: top;\n",
       "    }\n",
       "\n",
       "    .dataframe thead th {\n",
       "        text-align: right;\n",
       "    }\n",
       "</style>\n",
       "<table border=\"1\" class=\"dataframe\">\n",
       "  <thead>\n",
       "    <tr style=\"text-align: right;\">\n",
       "      <th></th>\n",
       "      <th>recipe</th>\n",
       "      <th>mrr</th>\n",
       "      <th>ncdg@5</th>\n",
       "      <th>ncdg@10</th>\n",
       "      <th>ncdg@25</th>\n",
       "      <th>p@5</th>\n",
       "      <th>p@10</th>\n",
       "      <th>p@25</th>\n",
       "    </tr>\n",
       "  </thead>\n",
       "  <tbody>\n",
       "    <tr>\n",
       "      <th>0</th>\n",
       "      <td>similar-sims</td>\n",
       "      <td>0.5</td>\n",
       "      <td>0.4</td>\n",
       "      <td>0.2</td>\n",
       "      <td>0.12</td>\n",
       "      <td>0.544</td>\n",
       "      <td>0.544</td>\n",
       "      <td>0.647</td>\n",
       "    </tr>\n",
       "  </tbody>\n",
       "</table>\n",
       "</div>"
      ],
      "text/plain": [
       "         recipe  mrr  ncdg@5  ncdg@10  ncdg@25    p@5   p@10   p@25\n",
       "0  similar-sims  0.5     0.4      0.2     0.12  0.544  0.544  0.647"
      ]
     },
     "execution_count": 17,
     "metadata": {},
     "output_type": "execute_result"
    }
   ],
   "source": [
    "val_metrics = pd.DataFrame(metrics, \n",
    "                           columns=['recipe','mrr','ncdg@5','ncdg@10','ncdg@25','p@5','p@10','p@25'])\n",
    "val_metrics"
   ]
  },
  {
   "cell_type": "markdown",
   "metadata": {},
   "source": [
    "## 4.2. 전체 Validation(검증) 데이터 셋으로 지표 분석\n",
    "\n",
    "\n"
   ]
  },
  {
   "cell_type": "markdown",
   "metadata": {},
   "source": [
    "Validation 데이터 셋 (6040명)과 Campaign의 추천 결과를 비교하여 만든 평가 지표\n",
    "\n"
   ]
  },
  {
   "cell_type": "code",
   "execution_count": 14,
   "metadata": {},
   "outputs": [
    {
     "name": "stdout",
     "output_type": "stream",
     "text": [
      "CPU times: user 21.5 s, sys: 1.79 s, total: 23.3 s\n",
      "Wall time: 2min 41s\n"
     ]
    },
    {
     "data": {
      "text/html": [
       "<div>\n",
       "<style scoped>\n",
       "    .dataframe tbody tr th:only-of-type {\n",
       "        vertical-align: middle;\n",
       "    }\n",
       "\n",
       "    .dataframe tbody tr th {\n",
       "        vertical-align: top;\n",
       "    }\n",
       "\n",
       "    .dataframe thead th {\n",
       "        text-align: right;\n",
       "    }\n",
       "</style>\n",
       "<table border=\"1\" class=\"dataframe\">\n",
       "  <thead>\n",
       "    <tr style=\"text-align: right;\">\n",
       "      <th></th>\n",
       "      <th>recipe</th>\n",
       "      <th>mrr</th>\n",
       "      <th>ncdg@5</th>\n",
       "      <th>ncdg@10</th>\n",
       "      <th>ncdg@25</th>\n",
       "      <th>p@5</th>\n",
       "      <th>p@10</th>\n",
       "      <th>p@25</th>\n",
       "    </tr>\n",
       "  </thead>\n",
       "  <tbody>\n",
       "    <tr>\n",
       "      <th>0</th>\n",
       "      <td>similar-sims</td>\n",
       "      <td>0.217</td>\n",
       "      <td>0.084</td>\n",
       "      <td>0.069</td>\n",
       "      <td>0.051</td>\n",
       "      <td>0.172</td>\n",
       "      <td>0.221</td>\n",
       "      <td>0.299</td>\n",
       "    </tr>\n",
       "  </tbody>\n",
       "</table>\n",
       "</div>"
      ],
      "text/plain": [
       "         recipe    mrr  ncdg@5  ncdg@10  ncdg@25    p@5   p@10   p@25\n",
       "0  similar-sims  0.217   0.084    0.069    0.051  0.172  0.221  0.299"
      ]
     },
     "execution_count": 14,
     "metadata": {},
     "output_type": "execute_result"
    }
   ],
   "source": [
    "%%time\n",
    "\n",
    "# num_validation_test_user = 6040\n",
    "num_validation_test_user = 6040\n",
    "test_user_list = test_users[:num_validation_test_user]\n",
    "\n",
    "metrics=[] # 변수 선언\n",
    "# user-perssonalization\n",
    "relevance = get_relevance_item_list(sims_campaign_arn, df_warm_train_rich, df_holdout, test_user_list)\n",
    "metrics_eval_rel = evaluate_relevance(relevance)\n",
    "build_metric_matrix(\"similar-sims\",metrics_eval_rel)\n",
    "\n",
    "val_metrics = pd.DataFrame(metrics, \n",
    "                           columns=['recipe','mrr','ncdg@5','ncdg@10','ncdg@25','p@5','p@10','p@25'])\n",
    "val_metrics"
   ]
  },
  {
   "cell_type": "code",
   "execution_count": null,
   "metadata": {},
   "outputs": [],
   "source": []
  }
 ],
 "metadata": {
  "kernelspec": {
   "display_name": "conda_python3",
   "language": "python",
   "name": "conda_python3"
  },
  "language_info": {
   "codemirror_mode": {
    "name": "ipython",
    "version": 3
   },
   "file_extension": ".py",
   "mimetype": "text/x-python",
   "name": "python",
   "nbconvert_exporter": "python",
   "pygments_lexer": "ipython3",
   "version": "3.6.13"
  }
 },
 "nbformat": 4,
 "nbformat_minor": 4
}
