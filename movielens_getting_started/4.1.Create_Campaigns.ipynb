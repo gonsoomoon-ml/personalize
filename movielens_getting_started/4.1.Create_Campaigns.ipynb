{
 "cells": [
  {
   "cell_type": "markdown",
   "metadata": {},
   "source": [
    "# [Module 4.1] Personalize 캠페인 생성 하기\n",
    "\n",
    "이 노트북은 이전 노트북에서 생성한 솔류션 버전을 바탕으로 아래와 같은 작업을 합니다.\n",
    "\n",
    "* 5가지 캠페인 생성\n",
    "    - user-personalization\n",
    "    - HRNN\n",
    "    - HRNN-Meta\n",
    "    - HRNN-Coldstart\n",
    "    - SIMS\n",
    "    \n",
    "--- \n",
    "이 노트북의 실행 시간은 약 10분 걸립니다."
   ]
  },
  {
   "cell_type": "code",
   "execution_count": 1,
   "metadata": {},
   "outputs": [],
   "source": [
    "# Imports\n",
    "import boto3\n",
    "import json\n",
    "import numpy as np\n",
    "import pandas as pd\n",
    "import time\n",
    "from datetime import datetime"
   ]
  },
  {
   "cell_type": "markdown",
   "metadata": {},
   "source": [
    "다음으로 여러분의 환경이 Amazon Personalize와 성공적으로 통신할 수 있는지 확인해야 합니다."
   ]
  },
  {
   "cell_type": "code",
   "execution_count": 2,
   "metadata": {},
   "outputs": [],
   "source": [
    "# Configure the SDK to Personalize:\n",
    "personalize = boto3.client('personalize')"
   ]
  },
  {
   "cell_type": "markdown",
   "metadata": {},
   "source": [
    "아래 코드 셀은 이전 notebook에서 저장했던 공유 변수들을 불러옵니다."
   ]
  },
  {
   "cell_type": "code",
   "execution_count": 3,
   "metadata": {},
   "outputs": [],
   "source": [
    "%store -r"
   ]
  },
  {
   "cell_type": "markdown",
   "metadata": {},
   "source": [
    "생성할 오브젝트의 끝에 임의의 숫자를 부여하기 위해 suffix 정의"
   ]
  },
  {
   "cell_type": "code",
   "execution_count": 4,
   "metadata": {},
   "outputs": [],
   "source": [
    "# suffix = str(np.random.uniform())[4:9]"
   ]
  },
  {
   "cell_type": "markdown",
   "metadata": {},
   "source": [
    "### Campaign: user-personalization "
   ]
  },
  {
   "cell_type": "code",
   "execution_count": 4,
   "metadata": {},
   "outputs": [
    {
     "name": "stdout",
     "output_type": "stream",
     "text": [
      "{\n",
      "  \"campaignArn\": \"arn:aws:personalize:us-east-1:603420654815:campaign/Movielens-user-personalization-campaign-31639\",\n",
      "  \"ResponseMetadata\": {\n",
      "    \"RequestId\": \"71bf77e5-1579-4038-bfdf-5083c775740c\",\n",
      "    \"HTTPStatusCode\": 200,\n",
      "    \"HTTPHeaders\": {\n",
      "      \"date\": \"Wed, 15 Jun 2022 00:54:37 GMT\",\n",
      "      \"content-type\": \"application/x-amz-json-1.1\",\n",
      "      \"content-length\": \"115\",\n",
      "      \"connection\": \"keep-alive\",\n",
      "      \"x-amzn-requestid\": \"71bf77e5-1579-4038-bfdf-5083c775740c\"\n",
      "    },\n",
      "    \"RetryAttempts\": 0\n",
      "  }\n",
      "}\n"
     ]
    }
   ],
   "source": [
    "create_campaign_response = personalize.create_campaign(\n",
    "    name = \"Movielens-user-personalization-campaign-\" + suffix,\n",
    "    solutionVersionArn = user_personalization_solution_version_arn,\n",
    "    minProvisionedTPS = 1\n",
    ")\n",
    "\n",
    "user_personalization_campaign_arn = create_campaign_response['campaignArn']\n",
    "print(json.dumps(create_campaign_response, indent=2))"
   ]
  },
  {
   "cell_type": "markdown",
   "metadata": {},
   "source": [
    "### Campaign: SIMS"
   ]
  },
  {
   "cell_type": "code",
   "execution_count": 5,
   "metadata": {},
   "outputs": [
    {
     "name": "stdout",
     "output_type": "stream",
     "text": [
      "{\n",
      "  \"campaignArn\": \"arn:aws:personalize:us-east-1:603420654815:campaign/Movielens-sims-campaign-31639\",\n",
      "  \"ResponseMetadata\": {\n",
      "    \"RequestId\": \"3c3c9abf-2519-4281-bfc9-f49db0eb5b2c\",\n",
      "    \"HTTPStatusCode\": 200,\n",
      "    \"HTTPHeaders\": {\n",
      "      \"date\": \"Wed, 15 Jun 2022 00:54:43 GMT\",\n",
      "      \"content-type\": \"application/x-amz-json-1.1\",\n",
      "      \"content-length\": \"99\",\n",
      "      \"connection\": \"keep-alive\",\n",
      "      \"x-amzn-requestid\": \"3c3c9abf-2519-4281-bfc9-f49db0eb5b2c\"\n",
      "    },\n",
      "    \"RetryAttempts\": 0\n",
      "  }\n",
      "}\n"
     ]
    }
   ],
   "source": [
    "create_campaign_response = personalize.create_campaign(\n",
    "    name = \"Movielens-sims-campaign-\" + suffix,\n",
    "    solutionVersionArn = sims_solution_version_arn,\n",
    "    minProvisionedTPS = 1\n",
    ")\n",
    "\n",
    "sims_campaign_arn = create_campaign_response['campaignArn']\n",
    "print(json.dumps(create_campaign_response, indent=2))"
   ]
  },
  {
   "cell_type": "markdown",
   "metadata": {},
   "source": [
    "### 캠페인 생성 및 대기\n",
    "\n",
    "작동하는 솔루션 버전을 보유하고 있으므로, 이제 애플리케이션과 함께 사용할 캠페인을 작성해야 합니다. 캠페인은 단순히 모델의 호스팅된 사본입니다. 물론 인프라가 프로비저닝되기까지의 시간이 소요됩니다."
   ]
  },
  {
   "cell_type": "code",
   "execution_count": 7,
   "metadata": {},
   "outputs": [
    {
     "name": "stdout",
     "output_type": "stream",
     "text": [
      "User_personalization_Campaign: CREATE IN_PROGRESS\n",
      "Sims_Campaign: CREATE IN_PROGRESS\n",
      "-------------------------------------->\n",
      "User_personalization_Campaign: CREATE IN_PROGRESS\n",
      "Sims_Campaign: CREATE IN_PROGRESS\n",
      "-------------------------------------->\n",
      "User_personalization_Campaign: CREATE IN_PROGRESS\n",
      "Sims_Campaign: CREATE IN_PROGRESS\n",
      "-------------------------------------->\n",
      "User_personalization_Campaign: CREATE IN_PROGRESS\n",
      "Sims_Campaign: CREATE IN_PROGRESS\n",
      "-------------------------------------->\n",
      "User_personalization_Campaign: CREATE IN_PROGRESS\n",
      "Sims_Campaign: CREATE IN_PROGRESS\n",
      "-------------------------------------->\n",
      "User_personalization_Campaign: CREATE IN_PROGRESS\n",
      "Sims_Campaign: CREATE IN_PROGRESS\n",
      "-------------------------------------->\n",
      "User_personalization_Campaign: CREATE IN_PROGRESS\n",
      "Sims_Campaign: CREATE IN_PROGRESS\n",
      "-------------------------------------->\n",
      "User_personalization_Campaign: CREATE IN_PROGRESS\n",
      "Sims_Campaign: ACTIVE\n",
      "-------------------------------------->\n",
      "User_personalization_Campaign: ACTIVE\n",
      "Sims_Campaign: ACTIVE\n",
      "All Campaign creation completed\n",
      "CPU times: user 144 ms, sys: 11.2 ms, total: 155 ms\n",
      "Wall time: 8min\n"
     ]
    }
   ],
   "source": [
    "%%time\n",
    "\n",
    "max_time = time.time() + 3*60*60 # 3 hours\n",
    "while time.time() < max_time:\n",
    "    \n",
    "    \n",
    "    describe_campaign_response = personalize.describe_campaign(\n",
    "        campaignArn = user_personalization_campaign_arn\n",
    "    )\n",
    "    status_user_per = describe_campaign_response[\"campaign\"][\"status\"]\n",
    "    print(\"User_personalization_Campaign: {}\".format(status_user_per))\n",
    "\n",
    "    describe_campaign_response = personalize.describe_campaign(\n",
    "    campaignArn = sims_campaign_arn\n",
    "    )\n",
    "    status_sims = describe_campaign_response[\"campaign\"][\"status\"]\n",
    "    print(\"Sims_Campaign: {}\".format(status_sims))\n",
    "     \n",
    "    if (status_user_per == \"ACTIVE\" or status_user_per == \"CREATE FAILED\")&\\\n",
    "       (status_sims == \"ACTIVE\" or status_sims == \"CREATE FAILED\"):\\\n",
    "        break\n",
    "    print(\"-------------------------------------->\")\n",
    "    time.sleep(60)\n",
    "\n",
    "print(\"All Campaign creation completed\")   "
   ]
  },
  {
   "cell_type": "markdown",
   "metadata": {},
   "source": [
    "\n",
    "## 다음 노트북에 대한 참고 사항\n",
    "\n",
    "다음 실습에 필요한 몇 가지 값들이 있습니다. 아래 셀을 실행하여 저장한 후, 다음 주피터 노트북에서 그대로 사용할 수 있습니다."
   ]
  },
  {
   "cell_type": "code",
   "execution_count": 11,
   "metadata": {},
   "outputs": [
    {
     "name": "stdout",
     "output_type": "stream",
     "text": [
      "Stored 'user_personalization_campaign_arn' (str)\n",
      "Stored 'hrnn_campaign_arn' (str)\n",
      "Stored 'hrnn_meta_campaign_arn' (str)\n",
      "Stored 'hrnn_coldstart_campaign_arn' (str)\n",
      "Stored 'sims_campaign_arn' (str)\n"
     ]
    }
   ],
   "source": [
    "%store user_personalization_campaign_arn\n",
    "%store sims_campaign_arn"
   ]
  },
  {
   "cell_type": "code",
   "execution_count": null,
   "metadata": {},
   "outputs": [],
   "source": []
  }
 ],
 "metadata": {
  "kernelspec": {
   "display_name": "conda_python3",
   "language": "python",
   "name": "conda_python3"
  },
  "language_info": {
   "codemirror_mode": {
    "name": "ipython",
    "version": 3
   },
   "file_extension": ".py",
   "mimetype": "text/x-python",
   "name": "python",
   "nbconvert_exporter": "python",
   "pygments_lexer": "ipython3",
   "version": "3.6.10"
  }
 },
 "nbformat": 4,
 "nbformat_minor": 4
}
