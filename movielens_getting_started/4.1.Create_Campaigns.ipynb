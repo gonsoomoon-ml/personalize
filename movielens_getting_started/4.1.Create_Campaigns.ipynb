{
 "cells": [
  {
   "cell_type": "markdown",
   "metadata": {},
   "source": [
    "# [Module 4.1] Personalize 캠페인 생성 하기\n",
    "\n",
    "이 노트북은 이전 노트북에서 생성한 솔류션 버전을 바탕으로 아래와 같은 작업을 합니다.\n",
    "\n",
    "* 5가지 캠페인 생성\n",
    "    - user-personalization\n",
    "    - SIMS\n",
    "    \n",
    "--- \n",
    "이 노트북의 실행 시간은 약 10분 걸립니다."
   ]
  },
  {
   "cell_type": "code",
   "execution_count": 1,
   "metadata": {},
   "outputs": [],
   "source": [
    "# Imports\n",
    "import boto3\n",
    "import json\n",
    "import numpy as np\n",
    "import pandas as pd\n",
    "import time\n",
    "from datetime import datetime"
   ]
  },
  {
   "cell_type": "markdown",
   "metadata": {},
   "source": [
    "다음으로 여러분의 환경이 Amazon Personalize와 성공적으로 통신할 수 있는지 확인해야 합니다."
   ]
  },
  {
   "cell_type": "code",
   "execution_count": 2,
   "metadata": {},
   "outputs": [
    {
     "name": "stderr",
     "output_type": "stream",
     "text": [
      "/home/ec2-user/anaconda3/envs/python3/lib/python3.6/site-packages/boto3/compat.py:88: PythonDeprecationWarning: Boto3 will no longer support Python 3.6 starting May 30, 2022. To continue receiving service updates, bug fixes, and security updates please upgrade to Python 3.7 or later. More information can be found here: https://aws.amazon.com/blogs/developer/python-support-policy-updates-for-aws-sdks-and-tools/\n",
      "  warnings.warn(warning, PythonDeprecationWarning)\n"
     ]
    }
   ],
   "source": [
    "# Configure the SDK to Personalize:\n",
    "personalize = boto3.client('personalize')"
   ]
  },
  {
   "cell_type": "markdown",
   "metadata": {},
   "source": [
    "아래 코드 셀은 이전 notebook에서 저장했던 공유 변수들을 불러옵니다."
   ]
  },
  {
   "cell_type": "code",
   "execution_count": 3,
   "metadata": {},
   "outputs": [],
   "source": [
    "%store -r"
   ]
  },
  {
   "cell_type": "markdown",
   "metadata": {},
   "source": [
    "생성할 오브젝트의 끝에 임의의 숫자를 부여하기 위해 suffix 정의"
   ]
  },
  {
   "cell_type": "markdown",
   "metadata": {},
   "source": [
    "### Campaign: user-personalization "
   ]
  },
  {
   "cell_type": "code",
   "execution_count": 4,
   "metadata": {},
   "outputs": [
    {
     "name": "stdout",
     "output_type": "stream",
     "text": [
      "{\n",
      "  \"campaignArn\": \"arn:aws:personalize:ap-northeast-2:057716757052:campaign/Movielens-user-personalization-campaign-76427\",\n",
      "  \"ResponseMetadata\": {\n",
      "    \"RequestId\": \"c0553d6c-cb8f-4eeb-af4b-bbafb77763d0\",\n",
      "    \"HTTPStatusCode\": 200,\n",
      "    \"HTTPHeaders\": {\n",
      "      \"date\": \"Sun, 26 Feb 2023 02:41:50 GMT\",\n",
      "      \"content-type\": \"application/x-amz-json-1.1\",\n",
      "      \"content-length\": \"120\",\n",
      "      \"connection\": \"keep-alive\",\n",
      "      \"x-amzn-requestid\": \"c0553d6c-cb8f-4eeb-af4b-bbafb77763d0\"\n",
      "    },\n",
      "    \"RetryAttempts\": 0\n",
      "  }\n",
      "}\n"
     ]
    }
   ],
   "source": [
    "create_campaign_response = personalize.create_campaign(\n",
    "    name = \"Movielens-user-personalization-campaign-\" + suffix,\n",
    "    solutionVersionArn = user_personalization_solution_version_arn,\n",
    "    minProvisionedTPS = 1\n",
    ")\n",
    "\n",
    "user_personalization_campaign_arn = create_campaign_response['campaignArn']\n",
    "print(json.dumps(create_campaign_response, indent=2))"
   ]
  },
  {
   "cell_type": "markdown",
   "metadata": {},
   "source": [
    "### Campaign: Similar Items"
   ]
  },
  {
   "cell_type": "code",
   "execution_count": 5,
   "metadata": {},
   "outputs": [
    {
     "name": "stdout",
     "output_type": "stream",
     "text": [
      "{\n",
      "  \"campaignArn\": \"arn:aws:personalize:ap-northeast-2:057716757052:campaign/Movielens-similar-items-campaign-76427\",\n",
      "  \"ResponseMetadata\": {\n",
      "    \"RequestId\": \"210980c9-4883-46ee-ba89-1b934a423cae\",\n",
      "    \"HTTPStatusCode\": 200,\n",
      "    \"HTTPHeaders\": {\n",
      "      \"date\": \"Sun, 26 Feb 2023 02:42:13 GMT\",\n",
      "      \"content-type\": \"application/x-amz-json-1.1\",\n",
      "      \"content-length\": \"113\",\n",
      "      \"connection\": \"keep-alive\",\n",
      "      \"x-amzn-requestid\": \"210980c9-4883-46ee-ba89-1b934a423cae\"\n",
      "    },\n",
      "    \"RetryAttempts\": 0\n",
      "  }\n",
      "}\n"
     ]
    }
   ],
   "source": [
    "create_campaign_response = personalize.create_campaign(\n",
    "    name = \"Movielens-similar-items-campaign-\" + suffix,\n",
    "    solutionVersionArn = sims_solution_version_arn,\n",
    "    minProvisionedTPS = 1\n",
    ")\n",
    "\n",
    "sims_campaign_arn = create_campaign_response['campaignArn']\n",
    "print(json.dumps(create_campaign_response, indent=2))"
   ]
  },
  {
   "cell_type": "markdown",
   "metadata": {},
   "source": [
    "### 캠페인 생성 및 대기\n",
    "\n",
    "작동하는 솔루션 버전을 보유하고 있으므로, 이제 애플리케이션과 함께 사용할 캠페인을 작성해야 합니다. 캠페인은 단순히 모델의 호스팅된 사본입니다. 물론 인프라가 프로비저닝되기까지의 시간이 소요됩니다."
   ]
  },
  {
   "cell_type": "code",
   "execution_count": 6,
   "metadata": {},
   "outputs": [
    {
     "name": "stdout",
     "output_type": "stream",
     "text": [
      "User_personalization_Campaign: CREATE IN_PROGRESS\n",
      "Sims_Campaign: CREATE PENDING\n",
      "-------------------------------------->\n",
      "User_personalization_Campaign: CREATE IN_PROGRESS\n",
      "Sims_Campaign: CREATE IN_PROGRESS\n",
      "-------------------------------------->\n",
      "User_personalization_Campaign: CREATE IN_PROGRESS\n",
      "Sims_Campaign: CREATE IN_PROGRESS\n",
      "-------------------------------------->\n",
      "User_personalization_Campaign: CREATE IN_PROGRESS\n",
      "Sims_Campaign: CREATE IN_PROGRESS\n",
      "-------------------------------------->\n",
      "User_personalization_Campaign: CREATE IN_PROGRESS\n",
      "Sims_Campaign: CREATE IN_PROGRESS\n",
      "-------------------------------------->\n",
      "User_personalization_Campaign: CREATE IN_PROGRESS\n",
      "Sims_Campaign: CREATE IN_PROGRESS\n",
      "-------------------------------------->\n",
      "User_personalization_Campaign: CREATE IN_PROGRESS\n",
      "Sims_Campaign: CREATE IN_PROGRESS\n",
      "-------------------------------------->\n",
      "User_personalization_Campaign: CREATE IN_PROGRESS\n",
      "Sims_Campaign: CREATE IN_PROGRESS\n",
      "-------------------------------------->\n",
      "User_personalization_Campaign: CREATE IN_PROGRESS\n",
      "Sims_Campaign: CREATE IN_PROGRESS\n",
      "-------------------------------------->\n",
      "User_personalization_Campaign: CREATE IN_PROGRESS\n",
      "Sims_Campaign: CREATE IN_PROGRESS\n",
      "-------------------------------------->\n",
      "User_personalization_Campaign: ACTIVE\n",
      "Sims_Campaign: ACTIVE\n",
      "All Campaign creation completed\n",
      "CPU times: user 114 ms, sys: 22.1 ms, total: 136 ms\n",
      "Wall time: 10min 1s\n"
     ]
    }
   ],
   "source": [
    "%%time\n",
    "\n",
    "max_time = time.time() + 3*60*60 # 3 hours\n",
    "while time.time() < max_time:\n",
    "    \n",
    "    \n",
    "    describe_campaign_response = personalize.describe_campaign(\n",
    "        campaignArn = user_personalization_campaign_arn\n",
    "    )\n",
    "    status_user_per = describe_campaign_response[\"campaign\"][\"status\"]\n",
    "    print(\"User_personalization_Campaign: {}\".format(status_user_per))\n",
    "\n",
    "    describe_campaign_response = personalize.describe_campaign(\n",
    "    campaignArn = sims_campaign_arn\n",
    "    )\n",
    "    status_sims = describe_campaign_response[\"campaign\"][\"status\"]\n",
    "    print(\"Sims_Campaign: {}\".format(status_sims))\n",
    "     \n",
    "    if (status_user_per == \"ACTIVE\" or status_user_per == \"CREATE FAILED\")&\\\n",
    "       (status_sims == \"ACTIVE\" or status_sims == \"CREATE FAILED\"):\\\n",
    "        break\n",
    "    print(\"-------------------------------------->\")\n",
    "    time.sleep(60)\n",
    "\n",
    "print(\"All Campaign creation completed\")   "
   ]
  },
  {
   "cell_type": "markdown",
   "metadata": {},
   "source": [
    "\n",
    "## 다음 노트북에 대한 참고 사항\n",
    "\n",
    "다음 실습에 필요한 몇 가지 값들이 있습니다. 아래 셀을 실행하여 저장한 후, 다음 주피터 노트북에서 그대로 사용할 수 있습니다."
   ]
  },
  {
   "cell_type": "code",
   "execution_count": 7,
   "metadata": {},
   "outputs": [
    {
     "name": "stdout",
     "output_type": "stream",
     "text": [
      "Stored 'user_personalization_campaign_arn' (str)\n",
      "Stored 'sims_campaign_arn' (str)\n"
     ]
    }
   ],
   "source": [
    "%store user_personalization_campaign_arn\n",
    "%store sims_campaign_arn"
   ]
  },
  {
   "cell_type": "code",
   "execution_count": null,
   "metadata": {},
   "outputs": [],
   "source": []
  }
 ],
 "metadata": {
  "kernelspec": {
   "display_name": "conda_python3",
   "language": "python",
   "name": "conda_python3"
  },
  "language_info": {
   "codemirror_mode": {
    "name": "ipython",
    "version": 3
   },
   "file_extension": ".py",
   "mimetype": "text/x-python",
   "name": "python",
   "nbconvert_exporter": "python",
   "pygments_lexer": "ipython3",
   "version": "3.6.13"
  }
 },
 "nbformat": 4,
 "nbformat_minor": 4
}
